{
 "cells": [
  {
   "cell_type": "markdown",
   "id": "funded-mandate",
   "metadata": {},
   "source": [
    "# Lecture 2\n"
   ]
  },
  {
   "cell_type": "markdown",
   "id": "representative-bargain",
   "metadata": {},
   "source": [
    "# Click on a cell, Shift+Enter to run the cell"
   ]
  },
  {
   "cell_type": "markdown",
   "id": "classified-housing",
   "metadata": {},
   "source": [
    "**Demo** Plot the energy of Hydrogen atom in Rutherford's model as a function of the radius r"
   ]
  },
  {
   "cell_type": "code",
   "execution_count": 1,
   "id": "three-battle",
   "metadata": {},
   "outputs": [],
   "source": [
    "import numpy as np\n",
    "import matplotlib.pyplot as plt\n",
    "import scipy.constants as const"
   ]
  },
  {
   "cell_type": "code",
   "execution_count": 2,
   "id": "competitive-distinction",
   "metadata": {},
   "outputs": [],
   "source": [
    "# A series of r in the range from 1e-15 m (1e-5 angstrom) to 1e-9 m (10 angstrom), evenly distributed in the log scale\n",
    "r = np.logspace(np.log10(1e-13),np.log10(1e-9), num=1000, endpoint=True)"
   ]
  },
  {
   "cell_type": "code",
   "execution_count": 3,
   "id": "desperate-encyclopedia",
   "metadata": {},
   "outputs": [],
   "source": [
    "E=-0.5*1/(4*const.pi*const.epsilon_0)*const.e/r"
   ]
  },
  {
   "cell_type": "code",
   "execution_count": 4,
   "id": "favorite-slovak",
   "metadata": {},
   "outputs": [
    {
     "data": {
      "image/png": "[encoded data removed]",
      "text/plain": [
       "<Figure size 288x288 with 1 Axes>"
      ]
     },
     "metadata": {
      "needs_background": "light"
     },
     "output_type": "display_data"
    }
   ],
   "source": [
    "# size of the figure in inches\n",
    "plt.figure(figsize=(4,4))\n",
    "\n",
    "# Plot the rho functions\n",
    "plt.plot(r,E,label=r'$E(r)$')\n",
    "\n",
    "# set plot limits\n",
    "#plt.ylim(min(min(rho_T1),min(rho_T2)), max(max(rho_T1),max(rho_T2)))\n",
    "#plt.xlim(1e4,1e20)\n",
    "plt.xscale('log')\n",
    "\n",
    "# Add a title\n",
    "plt.title(r'Energy of hydrogen atom in Rutherford model')\n",
    "\n",
    "# Add X and y Label\n",
    "plt.xlabel(r'$r$ (m)')\n",
    "plt.ylabel(r'$E$ (J)')\n",
    "\n",
    "# Add a grid\n",
    "plt.grid(alpha=.4,linestyle='--')\n",
    "\n",
    "# Add a Legend\n",
    "plt.legend()\n",
    "\n",
    "# Show the plot\n",
    "plt.show()"
   ]
  },
  {
   "attachments": {
    "image-2.png": {
     "image/png": "[encoded data removed]"
    }
   },
   "cell_type": "markdown",
   "id": "dying-straight",
   "metadata": {},
   "source": [
    "**Exercise 2.1** Calculate the energy of the state corresponding to n=1 in units of eV. 𝐸=−(𝑚_𝑒 𝑒^4)/(32𝑛^2 ℏ^2 𝜋^2 𝜖_0^2 ),𝑛=1,2,3,…\n",
    "![image-2.png](attachment:image-2.png)"
   ]
  },
  {
   "cell_type": "code",
   "execution_count": 30,
   "id": "running-criminal",
   "metadata": {},
   "outputs": [],
   "source": [
    "E = -(const.m_e*const.e**4)/(32*const.hbar**2*const.pi**2*const.epsilon_0**2)"
   ]
  },
  {
   "cell_type": "code",
   "execution_count": 31,
   "id": "important-desert",
   "metadata": {},
   "outputs": [
    {
     "data": {
      "text/plain": [
       "-2.179872361086218e-18"
      ]
     },
     "execution_count": 31,
     "metadata": {},
     "output_type": "execute_result"
    }
   ],
   "source": [
    "# In SI Unit (Joule)\n",
    "E"
   ]
  },
  {
   "cell_type": "code",
   "execution_count": 33,
   "id": "returning-burke",
   "metadata": {},
   "outputs": [
    {
     "data": {
      "text/plain": [
       "1.602176634e-19"
      ]
     },
     "execution_count": 33,
     "metadata": {},
     "output_type": "execute_result"
    }
   ],
   "source": [
    "# 1eV = ? J\n",
    "eV = const.e*1\n",
    "eV"
   ]
  },
  {
   "cell_type": "code",
   "execution_count": 34,
   "id": "prescribed-competition",
   "metadata": {},
   "outputs": [
    {
     "data": {
      "text/plain": [
       "-13.605693122885839"
      ]
     },
     "execution_count": 34,
     "metadata": {},
     "output_type": "execute_result"
    }
   ],
   "source": [
    "E/eV"
   ]
  },
  {
   "cell_type": "code",
   "execution_count": 11,
   "id": "valid-blake",
   "metadata": {},
   "outputs": [
    {
     "data": {
      "text/plain": [
       "2187691.2636364764"
      ]
     },
     "execution_count": 11,
     "metadata": {},
     "output_type": "execute_result"
    }
   ],
   "source": [
    "const.e**2/(4*const.pi*const.epsilon_0*const.hbar)"
   ]
  },
  {
   "cell_type": "code",
   "execution_count": null,
   "id": "median-customs",
   "metadata": {},
   "outputs": [],
   "source": []
  }
 ],
 "metadata": {
  "kernelspec": {
   "display_name": "Python [conda env:notebook] *",
   "language": "python",
   "name": "conda-env-notebook-py"
  },
  "language_info": {
   "codemirror_mode": {
    "name": "ipython",
    "version": 3
   },
   "file_extension": ".py",
   "mimetype": "text/x-python",
   "name": "python",
   "nbconvert_exporter": "python",
   "pygments_lexer": "ipython3",
   "version": "3.7.9"
  }
 },
 "nbformat": 4,
 "nbformat_minor": 5
}
