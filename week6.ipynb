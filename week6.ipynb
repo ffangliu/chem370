{
 "cells": [
  {
   "cell_type": "code",
   "execution_count": null,
   "id": "cognitive-morris",
   "metadata": {},
   "outputs": [],
   "source": [
    "import numpy as np\n",
    "import matplotlib.pyplot as plt\n",
    "import scipy.constants as const"
   ]
  },
  {
   "cell_type": "code",
   "execution_count": 121,
   "id": "motivated-repository",
   "metadata": {},
   "outputs": [
    {
     "name": "stdout",
     "output_type": "stream",
     "text": [
      "sqrt(alpha) 1.189207115002721\n"
     ]
    }
   ],
   "source": [
    "k = 2\n",
    "m = 1\n",
    "omega=np.sqrt(k/m)\n",
    "alpha= omega\n",
    "domain = [-1,1]\n",
    "window = [-np.sqrt(alpha),np.sqrt(alpha)]\n",
    "print(\"sqrt(alpha)\",np.sqrt(alpha))"
   ]
  },
  {
   "cell_type": "code",
   "execution_count": 122,
   "id": "finite-picnic",
   "metadata": {},
   "outputs": [],
   "source": [
    "coeff = [1]\n",
    "vmax = 4\n",
    "H = []\n",
    "for v in range(0,vmax +1):\n",
    "    Hv = np.polynomial.hermite.Hermite(coeff,domain=domain, window=window)\n",
    "    coeff.insert(0,0)\n",
    "    H.append(Hv)"
   ]
  },
  {
   "cell_type": "code",
   "execution_count": 123,
   "id": "secret-distance",
   "metadata": {},
   "outputs": [
    {
     "data": {
      "text/latex": [
       "$x \\mapsto \\color{LightGray}{\\text{0.0}\\,{H}_{0}(\\text{1.189207115002721}x)}\\color{LightGray}{ + \\text{0.0}\\,{H}_{1}(\\text{1.189207115002721}x)}\\color{LightGray}{ + \\text{0.0}\\,{H}_{2}(\\text{1.189207115002721}x)}\\color{LightGray}{ + \\text{0.0}\\,{H}_{3}(\\text{1.189207115002721}x)} + \\text{1.0}\\,{H}_{4}(\\text{1.189207115002721}x)$"
      ],
      "text/plain": [
       "Hermite([0., 0., 0., 0., 1.], domain=[-1.,  1.], window=[-1.18920712,  1.18920712])"
      ]
     },
     "execution_count": 123,
     "metadata": {},
     "output_type": "execute_result"
    }
   ],
   "source": [
    "H[4]"
   ]
  },
  {
   "cell_type": "code",
   "execution_count": 134,
   "id": "dominican-spelling",
   "metadata": {},
   "outputs": [
    {
     "name": "stderr",
     "output_type": "stream",
     "text": [
      "No handles with labels found to put in legend.\n"
     ]
    },
    {
     "data": {
      "image/png": "[encoded data removed]",
      "text/plain": [
       "<Figure size 288x432 with 5 Axes>"
      ]
     },
     "metadata": {
      "needs_background": "light"
     },
     "output_type": "display_data"
    }
   ],
   "source": [
    "n=5\n",
    "npoints=2000\n",
    "xlower = -5\n",
    "xupper = 5\n",
    "# Plot the probability functions\n",
    "fig, axs = plt.subplots(n,sharex=True, sharey=True,figsize=(4,6))\n",
    "# Add a title\n",
    "fig.suptitle('Probability density of particle in a 1D box')\n",
    "for v in range(0,vmax+1):      \n",
    "    x,Hv=H[v].linspace(npoints,[xlower,xupper]) \n",
    "    y = 1/np.sqrt(2**v*np.math.factorial(v))*(alpha/np.pi)**0.25*Hv*np.exp(-1/2.0*alpha*x**2)\n",
    "    axs[v].plot(x,y,c='b')\n",
    "    axs[v].plot([xlower,xupper],[0,0], c='k')\n",
    "    axs[v].text(xlower,0.5,'n='+str(v))\n",
    "\n",
    "# Set the range of x\n",
    "plt.xlim(xlower,xupper)\n",
    "plt.ylim(-1, 1)\n",
    "\n",
    "# Add X and y Label\n",
    "fig.text(0.5, 0.04, 'x (bohr)', ha='center')\n",
    "fig.text(-0.1, 0.5, r'$|\\Psi_n(x)|^2$', va='center', rotation='vertical')\n",
    "\n",
    "# Add a Legend\n",
    "plt.legend()\n",
    "\n",
    "# Show the plot\n",
    "plt.show()"
   ]
  },
  {
   "cell_type": "code",
   "execution_count": null,
   "id": "desperate-watershed",
   "metadata": {},
   "outputs": [],
   "source": []
  },
  {
   "cell_type": "code",
   "execution_count": null,
   "id": "relative-stylus",
   "metadata": {},
   "outputs": [],
   "source": []
  }
 ],
 "metadata": {
  "kernelspec": {
   "display_name": "Python [conda env:chem370] *",
   "language": "python",
   "name": "conda-env-chem370-py"
  },
  "language_info": {
   "codemirror_mode": {
    "name": "ipython",
    "version": 3
   },
   "file_extension": ".py",
   "mimetype": "text/x-python",
   "name": "python",
   "nbconvert_exporter": "python",
   "pygments_lexer": "ipython3",
   "version": "3.7.9"
  }
 },
 "nbformat": 4,
 "nbformat_minor": 5
}
