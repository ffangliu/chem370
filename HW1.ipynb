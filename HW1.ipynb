{
 "cells": [
  {
   "cell_type": "markdown",
   "id": "funded-mandate",
   "metadata": {},
   "source": [
    "### Problem 2(b) raw $\\rho_{\\textrm{Wien}}(\\nu)$ at T=298 K in Jupyter notebook. \n",
    "$\\rho_{\\textrm{Wien}}(\\nu) = \\frac{2h}{c^2}\\frac{\\nu^3}{e^{h\\nu/(kT)}}$\n",
    "\n",
    "where $h$ is Planck constant, $c$ is the light speed, and T is the temperature at equilibrium."
   ]
  },
  {
   "cell_type": "markdown",
   "id": "representative-bargain",
   "metadata": {},
   "source": [
    "# Click on a cell, Shift+Enter to run the cell"
   ]
  },
  {
   "cell_type": "code",
   "execution_count": null,
   "id": "three-battle",
   "metadata": {},
   "outputs": [],
   "source": [
    "import numpy as np\n",
    "import matplotlib.pyplot as plt\n",
    "import scipy.constants as const"
   ]
  },
  {
   "cell_type": "code",
   "execution_count": null,
   "id": "accomplished-huntington",
   "metadata": {},
   "outputs": [],
   "source": [
    "T = 298 # 25 degrees c\n",
    "\n",
    "# A series of nu in the range from 1 Hz to 100 THz (1e14 Hz), evenly distributed in the log scale\n",
    "nu = np.logspace(np.log10(1),np.log10(1e14), num=1000, endpoint=True)\n",
    "rho_wien = 2*const.h/(const.c)**2*(nu**3)/np.exp(const.h*nu/(const.k*T))"
   ]
  },
  {
   "cell_type": "code",
   "execution_count": null,
   "id": "romantic-confidence",
   "metadata": {},
   "outputs": [],
   "source": [
    "plt.plot(nu,rho_wien,label=r'$\\rho_\\mathrm{Wien}(T)$')\n",
    "\n",
    "\n",
    "# set plot limits\n",
    "plt.ylim(min(rho_wien), max(rho_wien)*1.5)\n",
    "\n",
    "# Add a title\n",
    "plt.title(r'$\\rho_\\mathrm{Wien}(T)$ at $T$ = 298 K')\n",
    "\n",
    "# Add X and y Label\n",
    "plt.xlabel(r'$\\nu$ (Hz)')\n",
    "plt.ylabel(r'$\\rho(\\nu)$ (J$\\times$m$^{-3}$)')\n",
    "\n",
    "# Add a grid\n",
    "plt.grid(alpha=.4,linestyle='--')\n",
    "\n",
    "# Add a Legend\n",
    "plt.legend()\n",
    "\n",
    "# Show the plot\n",
    "plt.show()"
   ]
  },
  {
   "cell_type": "code",
   "execution_count": null,
   "id": "breathing-freedom",
   "metadata": {},
   "outputs": [],
   "source": []
  }
 ],
 "metadata": {
  "kernelspec": {
   "display_name": "Python [conda env:notebook] *",
   "language": "python",
   "name": "conda-env-notebook-py"
  },
  "language_info": {
   "codemirror_mode": {
    "name": "ipython",
    "version": 3
   },
   "file_extension": ".py",
   "mimetype": "text/x-python",
   "name": "python",
   "nbconvert_exporter": "python",
   "pygments_lexer": "ipython3",
   "version": "3.7.9"
  }
 },
 "nbformat": 4,
 "nbformat_minor": 5
}
