{
 "cells": [
  {
   "cell_type": "code",
   "execution_count": 5,
   "id": "ab4a19da",
   "metadata": {},
   "outputs": [
    {
     "data": {
      "application/vnd.jupyter.widget-view+json": {
       "model_id": "2d28a278a19346c59646fe724960a00d",
       "version_major": 2,
       "version_minor": 0
      },
      "text/plain": [
       "Canvas(toolbar=Toolbar(toolitems=[('Home', 'Reset original view', 'home', 'home'), ('Back', 'Back to previous …"
      ]
     },
     "metadata": {},
     "output_type": "display_data"
    },
    {
     "data": {
      "application/vnd.jupyter.widget-view+json": {
       "model_id": "a66d247727a341a6a242e996f604a7aa",
       "version_major": 2,
       "version_minor": 0
      },
      "text/plain": [
       "interactive(children=(IntSlider(value=1, description='$n$:', min=1), BoundedFloatText(value=1.0, description='…"
      ]
     },
     "metadata": {},
     "output_type": "display_data"
    }
   ],
   "source": [
    "%matplotlib widget\n",
    "import ipywidgets as widgets\n",
    "import numpy as np\n",
    "import matplotlib.pyplot as plt \n",
    "\n",
    "def psi(x,n,L):\n",
    "    return np.sqrt(2/L)*np.sin(n*np.pi*x/L)\n",
    "\n",
    "# Box length can be any float value between 0.1 and 10 inputed by the user\n",
    "L_button = widgets.BoundedFloatText(\n",
    "    description=r'$L$:',                             \n",
    "    value=1.0,\n",
    "    min=0.1,\n",
    "    max=10.0,\n",
    "    padding = 8)\n",
    "\n",
    "# Quantum number can be any integer between 1 and 10\n",
    "n_options = widgets.IntSlider(\n",
    "    value=1,\n",
    "    min=1,\n",
    "    max=100,\n",
    "    step=1,\n",
    "    description=r'$n$:',\n",
    "    disabled=False,\n",
    ")\n",
    "\n",
    "# Plot Psi and Psi**2 in two subplots\n",
    "fig,(ax1,ax2) = plt.subplots(2, sharex=True)\n",
    "plt.subplots_adjust(hspace=0)\n",
    "\n",
    "@widgets.interact(L=L_button, n=n_options)\n",
    "def update(n,L):\n",
    "    ax1.cla()\n",
    "    ax2.cla()\n",
    "    \n",
    "    x = np.linspace(0,L, num=1000)\n",
    "    \n",
    "    ###################\n",
    "    # First work on Psi\n",
    "    ####################\n",
    "    \n",
    "    plt.sca(ax1)\n",
    "    plt.plot(x,psi(x,n,L))\n",
    "    # Add a title\n",
    "    plt.title('Particle in a 1D box\\n' + r'$L$='+str(L) + ' bohr, $n$=' + str(n))\n",
    "    # Add y Label\n",
    "    plt.ylabel(r'$\\psi$')\n",
    "    \n",
    "    # Draw the walls of the box\n",
    "    ymin = -np.sqrt(2/L)\n",
    "    ymax = np.sqrt(2/L)\n",
    "    margin = 0.1 #Allow 10% of margin for the x and y axis in both directions\n",
    "    ylo = ymin*(1+margin) # lower boundary for y axis\n",
    "    yup = ymax*(1+margin) # upper boundary for y axis\n",
    "    #Left wall\n",
    "    plt.plot([0,0],[ylo,yup],'gray', linewidth=5)\n",
    "    #Right wall\n",
    "    plt.plot([L,L],[ylo, yup],'gray',linewidth=5)\n",
    "    \n",
    "    # Set grid\n",
    "    plt.grid(True)\n",
    "\n",
    "    ########################\n",
    "    # Then  work on Psi**2  #\n",
    "    ########################\n",
    "    \n",
    "    plt.sca(ax2)\n",
    "    plt.plot(x,psi(x,n,L)**2)\n",
    "    # Add X and y Label\n",
    "    plt.xlabel(r'$x$ (bohr)')\n",
    "    plt.ylabel(r'$\\psi^2$')\n",
    "\n",
    "    # Draw the walls of the box\n",
    "    ymin = -2/L\n",
    "    ymax = 2/L\n",
    "    margin = 0.1 #Allow 10% of margin for the x and y axis in both directions\n",
    "    ylo = ymin*(1+margin) # lower boundary for y axis\n",
    "    yup = ymax*(1+margin) # upper boundary for y axis\n",
    "    #Left wall\n",
    "    plt.plot([0,0],[ylo,yup],'gray', linewidth=5)\n",
    "    #Right wall\n",
    "    plt.plot([L,L],[ylo, yup],'gray',linewidth=5)\n",
    "    \n",
    "    # Set the x and y ranges to display\n",
    "    plt.ylim(ylo,yup)\n",
    "    plt.xlim(-L*margin,L+L*margin)\n",
    "    plt.grid(True)"
   ]
  },
  {
   "cell_type": "code",
   "execution_count": null,
   "id": "bb0264ac-022f-46c6-9009-bc61b5c76217",
   "metadata": {},
   "outputs": [],
   "source": []
  }
 ],
 "metadata": {
  "kernelspec": {
   "display_name": "Python 3 (ipykernel)",
   "language": "python",
   "name": "python3"
  },
  "language_info": {
   "codemirror_mode": {
    "name": "ipython",
    "version": 3
   },
   "file_extension": ".py",
   "mimetype": "text/x-python",
   "name": "python",
   "nbconvert_exporter": "python",
   "pygments_lexer": "ipython3",
   "version": "3.9.6"
  }
 },
 "nbformat": 4,
 "nbformat_minor": 5
}
