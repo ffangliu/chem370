{
 "cells": [
  {
   "cell_type": "markdown",
   "metadata": {},
   "source": [
    "# Solve the 1D Harmonic Oscillator problem as a PDE boundary value problem\n",
    "In this example, we use atomic units. Mass unit is electron mass $m_e$=1. $\\hbar=1$. Energy unit is Hartree $E_h$=1. Length unit is bohr.\n",
    "\n",
    "Particle mass $m$ (in $m_e$), angular frequqnecy $\\omega$ (unitless) will be input parameters of the NumerovSolverHO class.\n",
    "\n",
    "$$\\psi''=-\\frac{2m}{\\hbar^2}[E-V(x)]\\psi$$\n",
    "\n",
    "$$\\psi(-\\infty)=0$$\n",
    "\n",
    "$$\\psi(\\infty)=0$$\n",
    "\n",
    "where $$V(x) = \\frac{1}{2}m\\omega^2x^2$$"
   ]
  },
  {
   "cell_type": "markdown",
   "metadata": {},
   "source": [
    "We are going to solve it numerically as a PDE boundary value problem. The algorithm is given by \n",
    "\n",
    "Donald Truhlar, Journal of Computational Physics 10, (1972)\n"
   ]
  },
  {
   "cell_type": "markdown",
   "metadata": {},
   "source": [
    "For simplicity, we assume that $\\mu=0.5$, $\\omega=2$. Let npoints be the number of grid points, $h$=range/npoints.\n",
    "\n",
    "To write the problem in the form of the paper, we have\n",
    "$$U_{ii}^h =  -2h^2 V(x)$$\n",
    "$$\\lambda_k^h = -2h^2\\epsilon_k$$\n"
   ]
  },
  {
   "cell_type": "code",
   "execution_count": 153,
   "metadata": {},
   "outputs": [],
   "source": [
    "%matplotlib widget\n",
    "import ipywidgets as widgets\n",
    "import numpy as np\n",
    "import matplotlib.pyplot as plt \n",
    "import time\n",
    "\n",
    "hbar = 1\n",
    "class PDE_BV:\n",
    "    def __init__(self,m,omega, L, npoints=1000):\n",
    "        self.m = m\n",
    "        self.omega = omega\n",
    "        self.L = L\n",
    "        self.xlower = -L*0.5\n",
    "        self.xupper = L*0.5\n",
    "        self.npoints = npoints\n",
    "        self.x = np.linspace(self.xlower,self.xupper,self.npoints)\n",
    "        self.h = self.x[1]-self.x[0]\n",
    "        self.psi = [None]*self.npoints\n",
    "        self.E = np.zeros(self.npoints)\n",
    "    \n",
    "    def getV(self, x):\n",
    "        return 0.5*self.m*self.omega**2*x**2\n",
    "        \n",
    "    def getUii(self, i):\n",
    "        return  -2*(self.h**2)*self.getV(self.x[i])\n",
    "    \n",
    "    def getF(self):\n",
    "        F = np.zeros([self.npoints,self.npoints])\n",
    "        for i in range(0,self.npoints):\n",
    "            F[i,i] = self.getUii(i) - 2/self.m\n",
    "            if i > 0:\n",
    "                F[i,i-1] = 1/self.m\n",
    "            if i < self.npoints-1:\n",
    "                F[i,i+1] = 1/self.m\n",
    "                \n",
    "        return F\n",
    " \n",
    "    def diagonalize(self):\n",
    "        F = self.getF()\n",
    "        w,v = np.linalg.eig(F)\n",
    "        return w,v\n",
    " \n",
    "    \n",
    "    def calc(self):\n",
    "        w,v = self.diagonalize()\n",
    "        self.E = - w/2.0/self.h**2\n",
    "        #print(w)\n",
    "        #print(self.E[0])\n",
    "        for k in range(0,len(w)):\n",
    "            self.psi[k] = v[:,k]\n",
    "            integral = self.h*np.dot(self.psi[k],self.psi[k])\n",
    "            self.psi[k] = self.psi[k]/integral**0.5\n",
    "\n",
    "\n",
    "        \n",
    "    def plotWFN(self, v):\n",
    "        figure=plt.figure()\n",
    "        plt.plot(self.x,self.psi[v],label=r'$\\psi_v(x)$, k = ' + str(v))\n",
    "        plt.title(r'$v=$'+ str(v) + r', $E_v$=' + '{:10.4f}'.format(self.E[v]))\n",
    "        plt.legend()\n",
    "        plt.xlabel(r'$x$(bohr)')\n",
    "        plt.ylabel(r'$\\psi(x)$')\n"
   ]
  },
  {
   "cell_type": "code",
   "execution_count": 155,
   "metadata": {},
   "outputs": [
    {
     "data": {
      "application/vnd.jupyter.widget-view+json": {
       "model_id": "0c6ad28041d045b59ee2b7756410d5fc",
       "version_major": 2,
       "version_minor": 0
      },
      "text/plain": [
       "Canvas(toolbar=Toolbar(toolitems=[('Home', 'Reset original view', 'home', 'home'), ('Back', 'Back to previous …"
      ]
     },
     "metadata": {},
     "output_type": "display_data"
    }
   ],
   "source": [
    "m1 = 0.5\n",
    "omega1 = 2\n",
    "n=400\n",
    "L1 = 20\n",
    "solver = PDE_BV(m1,omega1, L1, npoints=n)\n",
    "solver.calc()\n",
    "solver.plotWFN(0)"
   ]
  },
  {
   "cell_type": "code",
   "execution_count": 160,
   "metadata": {},
   "outputs": [
    {
     "data": {
      "application/vnd.jupyter.widget-view+json": {
       "model_id": "ebfa8be24aaf4fbf893220aae7c680ba",
       "version_major": 2,
       "version_minor": 0
      },
      "text/plain": [
       "Canvas(toolbar=Toolbar(toolitems=[('Home', 'Reset original view', 'home', 'home'), ('Back', 'Back to previous …"
      ]
     },
     "metadata": {},
     "output_type": "display_data"
    }
   ],
   "source": [
    "solver.plotWFN(4)"
   ]
  },
  {
   "cell_type": "markdown",
   "metadata": {},
   "source": [
    "# Richardson extrapolation"
   ]
  },
  {
   "cell_type": "code",
   "execution_count": 181,
   "metadata": {},
   "outputs": [
    {
     "name": "stdout",
     "output_type": "stream",
     "text": [
      "n    h                    E                   \n",
      " 100   0.2020202020202024   0.9974426831385571\n",
      " 200   0.1005025125628141   0.9993683035175135\n",
      " 300   0.0668896321070243   0.9997202828060194\n",
      " 400   0.0501253132832087   0.9998429411393255\n"
     ]
    }
   ],
   "source": [
    "nlist=[100,200,300,400]\n",
    "h_list = []\n",
    "E0_list = []\n",
    "print(\"{:4s} {:20s} {:20s}\".format(\"n\",\"h\",\"E\"))\n",
    "for n in nlist:\n",
    "    solver = PDE_BV(m1,omega1, L1, npoints=n)\n",
    "    solver.calc()\n",
    "    E0_list.append(solver.E[0])\n",
    "    h_list.append(solver.h)\n",
    "    print(\"{:4d} {:20.16f} {:20.16f}\".format(n, solver.h, solver.E[0]))\n",
    "    "
   ]
  },
  {
   "cell_type": "code",
   "execution_count": null,
   "metadata": {},
   "outputs": [],
   "source": []
  },
  {
   "cell_type": "code",
   "execution_count": null,
   "metadata": {},
   "outputs": [],
   "source": []
  },
  {
   "cell_type": "code",
   "execution_count": null,
   "metadata": {},
   "outputs": [],
   "source": []
  },
  {
   "cell_type": "code",
   "execution_count": null,
   "metadata": {},
   "outputs": [],
   "source": []
  }
 ],
 "metadata": {
  "kernelspec": {
   "display_name": "Python 3 (ipykernel)",
   "language": "python",
   "name": "python3"
  },
  "language_info": {
   "codemirror_mode": {
    "name": "ipython",
    "version": 3
   },
   "file_extension": ".py",
   "mimetype": "text/x-python",
   "name": "python",
   "nbconvert_exporter": "python",
   "pygments_lexer": "ipython3",
   "version": "3.9.6"
  }
 },
 "nbformat": 4,
 "nbformat_minor": 4
}
