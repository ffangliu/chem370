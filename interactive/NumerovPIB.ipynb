{
 "cells": [
  {
   "cell_type": "markdown",
   "metadata": {},
   "source": [
    "# Use Numerov to solve the PIB in 1D.\n",
    "In this example, we use atomic units. Then $\\hbar=1$. Mass unit is electron mass $m_e$=1. Energy unit is Hartree $E_h$=1. Length unit is bohr.\n",
    "\n",
    "Particle mass $m=1$ ($m_e$), box length L=1 (bhor), $x\\in [0,1]$\n",
    "$$-\\frac{\\hbar^2}{2m}\\psi''=E\\psi$$\n",
    "\n",
    "$$\\psi(0)=1$$\n",
    "\n",
    "$$\\psi(1)=0$$"
   ]
  },
  {
   "cell_type": "markdown",
   "metadata": {},
   "source": [
    "**For simplicity, assume we already know the energy of the first eigen state is $\\frac{n^2h^2}{8mL^2}=\\frac{(2\\pi\\hbar)^2n^2}{8mL^2}=\\frac{\\pi^2}{2}$ (bohr). Let's use Numerov to solve the wave function for the first eigen state.**\n",
    "\n",
    "The ODE can be simplified as\n",
    "\n",
    "$$ \\psi''=-\\pi^2 \\psi$$\n",
    "\n",
    "Based on Numerov method, Schrodinger equation of the following form\n",
    "\n",
    "$$\\psi''=-k^2(x) \\psi$$\n",
    "\n",
    "has the finite difference approximation\n",
    "\n",
    "$$\\psi(x_{n+1}) = 2\\psi(x_n)-\\psi(x_{n-1})-\\delta^2k^2(x_n)\\psi(x_n)$$\n",
    "\n",
    "and in this case $k^2(x_n)=\\pi^2$\n",
    "\n",
    "Writing the code is straightforwad, except for one immediate problem:\n",
    "\n",
    "**Q:** Whether we start the propogation from the left or the right boundary, we only know $\\psi(x_0)$, but the propogation needs two known points $\\psi(x_0)$ and $\\psi(x_1)$ to get the 3rd point $\\psi(x_2)$."
   ]
  },
  {
   "cell_type": "markdown",
   "metadata": {},
   "source": [
    "## Run the following code to explore how the grid size can influence the result\n",
    "\n",
    "* Drag the slider bar to adjust the grid size (how many discrete points to use in the range [0,1])\n",
    "* Then answer the questions below\n",
    "    1. Do the numerical solutions obtained from propogating from left and from right match with each other?\n",
    "    1. Have you noticed that the x axis scale is changing? It's because the psi value at the send initial point is guessed, and the numerical solution is not normalized. How can we handle that?\n",
    "    1. How does the runtime change with grid size?"
   ]
  },
  {
   "cell_type": "code",
   "execution_count": 9,
   "metadata": {},
   "outputs": [],
   "source": [
    "%matplotlib widget\n",
    "import ipywidgets as widgets\n",
    "import numpy as np\n",
    "import matplotlib.pyplot as plt \n",
    "import time\n",
    "\n",
    "class NumerovSolverPIB:\n",
    "    def __init__(self, xlower, xupper, npoints=1000):\n",
    "        self.xlower = xlower\n",
    "        self.xupper = xupper\n",
    "        self.npoints = npoints\n",
    "        self.x = np.linspace(self.xlower,self.xupper,self.npoints)\n",
    "        self.delta = self.x[1]-self.x[0]\n",
    "        self.x1 = 1e-2 # A small positive value as the initial guess the psi value at the second grid point\n",
    "        self.psi_left = None\n",
    "        self.psi_right = None\n",
    "        self.k2 = np.pi**2\n",
    "        self.prob_left = None\n",
    "        self.prob_right = None\n",
    "    \n",
    "    def propogateNumerov(self,x0,x1,psi0,psi1):\n",
    "        psi2 = 2*psi1 - psi0 - self.k2*psi1*self.delta**2\n",
    "        return psi2\n",
    "    \n",
    "    def Numerov_left(self):\n",
    "        self.psi_left = np.zeros(len(self.x))\n",
    "        self.psi_left[1] = self.x1\n",
    "        for i in range(1,len(self.x)-1):\n",
    "            self.psi_left[i+1] = self.propogateNumerov(self.x[i-1],self.x[i],self.psi_left[i-1],self.psi_left[i])\n",
    "\n",
    "    def Numerov_right(self):\n",
    "        self.psi_right = np.zeros(len(self.x))\n",
    "        self.psi_right[-2] = self.x1\n",
    "        for i in range(len(self.x)-2,0,-1):\n",
    "            self.psi_right[i-1] = self.propogateNumerov(self.x[i+1],self.x[i],self.psi_right[i+1],self.psi_right[i])\n",
    "        \n",
    "    "
   ]
  },
  {
   "cell_type": "code",
   "execution_count": 12,
   "metadata": {},
   "outputs": [],
   "source": [
    "# Number of discrete points to use in the range\n",
    "n_options = widgets.IntSlider(\n",
    "    value=10,\n",
    "    min=3,\n",
    "    max=101,\n",
    "    step=5,\n",
    "    description=r'npoints:',\n",
    "    disabled=False,\n",
    ")\n"
   ]
  },
  {
   "cell_type": "code",
   "execution_count": 11,
   "metadata": {},
   "outputs": [
    {
     "data": {
      "application/vnd.jupyter.widget-view+json": {
       "model_id": "613f96b25e4446638c17b929166e1ce3",
       "version_major": 2,
       "version_minor": 0
      },
      "text/plain": [
       "Canvas(toolbar=Toolbar(toolitems=[('Home', 'Reset original view', 'home', 'home'), ('Back', 'Back to previous …"
      ]
     },
     "metadata": {},
     "output_type": "display_data"
    },
    {
     "data": {
      "application/vnd.jupyter.widget-view+json": {
       "model_id": "85550aabb34541a28924eb66fa38f25b",
       "version_major": 2,
       "version_minor": 0
      },
      "text/plain": [
       "interactive(children=(IntSlider(value=3, description='npoints:', max=101, min=3, step=5), Output()), _dom_clas…"
      ]
     },
     "metadata": {},
     "output_type": "display_data"
    }
   ],
   "source": [
    "fig1=plt.figure()\n",
    "@widgets.interact(npoints=n_options)\n",
    "def update(npoints):\n",
    "    plt.clf()\n",
    "    solver=NumerovSolverPIB(0,1,npoints)\n",
    "    start=time.time()\n",
    "    solver.Numerov_left()\n",
    "    solver.Numerov_right()\n",
    "    end=time.time()\n",
    "    timetaken=end-start\n",
    "    \n",
    "    # The wave funciton is not normalized. \n",
    "    prob = np.trapz(np.power(solver.psi_left,2),solver.x)\n",
    "    plt.title(\"Numerov solution to PIB\\n\" + \"Time taken: {:.2f} ms\".format(timetaken*1000))\n",
    "    \n",
    "    # plot both the lines and points to make it visually better\n",
    "    plt.plot(solver.x, solver.psi_left, c='b',label=r'$\\psi_\\mathrm{left}$')\n",
    "    plt.scatter(solver.x, solver.psi_left, c='b')\n",
    "    \n",
    "    plt.plot(solver.x, solver.psi_right, c='r',label=r'$\\psi_\\mathrm{right}$')\n",
    "    plt.scatter(solver.x, solver.psi_right, c='r')\n",
    "    plt.xlabel(r'$x$ (bohr)')\n",
    "    plt.ylabel(r'$\\psi(x)$')\n",
    "    plt.legend()"
   ]
  },
  {
   "cell_type": "markdown",
   "metadata": {},
   "source": [
    "## Let's investigate the integral of the probability density and see how to normalize the wave function\n",
    "* Make a guess: are the integrals of psi_left and psi_right the same?"
   ]
  },
  {
   "cell_type": "code",
   "execution_count": 6,
   "metadata": {},
   "outputs": [
    {
     "data": {
      "application/vnd.jupyter.widget-view+json": {
       "model_id": "23e36547f34d4c5d8946b78315432d73",
       "version_major": 2,
       "version_minor": 0
      },
      "text/plain": [
       "Canvas(toolbar=Toolbar(toolitems=[('Home', 'Reset original view', 'home', 'home'), ('Back', 'Back to previous …"
      ]
     },
     "metadata": {},
     "output_type": "display_data"
    },
    {
     "data": {
      "application/vnd.jupyter.widget-view+json": {
       "model_id": "45e2114bdfb14bbea62dd385c4d56941",
       "version_major": 2,
       "version_minor": 0
      },
      "text/plain": [
       "interactive(children=(IntSlider(value=3, description='npoints:', max=101, min=3, step=5), Output()), _dom_clas…"
      ]
     },
     "metadata": {},
     "output_type": "display_data"
    }
   ],
   "source": [
    "fig2=plt.figure()\n",
    "@widgets.interact(npoints=n_options)\n",
    "def update2(npoints):\n",
    "    plt.clf()\n",
    "    solver=NumerovSolverPIB(0,1,npoints)\n",
    "    start=time.time()\n",
    "    solver.Numerov_left()\n",
    "    solver.Numerov_right()\n",
    "    end=time.time()\n",
    "    timetaken=end-start\n",
    "    \n",
    "    # The wave funciton is not normalized. \n",
    "    prob_left = np.trapz(np.power(solver.psi_left,2),solver.x)\n",
    "    prob_right = np.trapz(np.power(solver.psi_right,2),solver.x)\n",
    "    plt.title(\"Numerov solution to PIB, \"\n",
    "              + r\"$\\int\\psi_\\mathrm{left}$=\" + \"{:.2g}\".format(prob_left)\n",
    "              + r\", $\\int\\psi_\\mathrm{right}=$\" + \"{:.2g}\".format(prob_right)\n",
    "              + \"\\nTime taken: {:.2f} ms\".format(timetaken*1000))\n",
    "    \n",
    "    # plot both the lines and points to make it visually better\n",
    "    plt.plot(solver.x, solver.psi_left, c='b',label=r'$\\psi_\\mathrm{left}$')\n",
    "    plt.scatter(solver.x, solver.psi_left, c='b')\n",
    "    \n",
    "    plt.plot(solver.x, solver.psi_right, c='r',label=r'$\\psi_\\mathrm{right}$')\n",
    "    plt.scatter(solver.x, solver.psi_right, c='r')\n",
    "    plt.xlabel(r'$x$ (bohr)')\n",
    "    plt.ylabel(r'$\\psi(x)$')\n",
    "    plt.legend()"
   ]
  },
  {
   "cell_type": "markdown",
   "metadata": {},
   "source": [
    "# Now let's write a better version of Numerov Solver where we normalize the wave funcitons"
   ]
  },
  {
   "cell_type": "code",
   "execution_count": 7,
   "metadata": {},
   "outputs": [],
   "source": [
    "# An improved version that handles normalization\n",
    "class NumerovSolverPIB_v2:\n",
    "    def __init__(self, xlower, xupper, npoints=1000):\n",
    "        self.xlower = xlower\n",
    "        self.xupper = xupper\n",
    "        self.npoints = npoints\n",
    "        self.x = np.linspace(self.xlower,self.xupper,self.npoints)\n",
    "        self.delta = self.x[1]-self.x[0]\n",
    "        self.x1 = 1e-2 # A small positive value as the initial guess the psi value at the second grid point\n",
    "        self.psi_left = None\n",
    "        self.psi_right = None\n",
    "        self.k2 = np.pi**2\n",
    "        self.prob_left = None\n",
    "        self.prob_right = None\n",
    "    \n",
    "    def propogateNumerov(self,x0,x1,psi0,psi1):\n",
    "        psi2 = 2*psi1 - psi0 - self.k2*psi1*self.delta**2\n",
    "        return psi2\n",
    "    \n",
    "    def Numerov_left(self):\n",
    "        self.psi_left = np.zeros(len(self.x))\n",
    "        self.psi_left[1] = self.x1\n",
    "        for i in range(1,len(self.x)-1):\n",
    "            self.psi_left[i+1] = self.propogateNumerov(self.x[i-1],self.x[i],self.psi_left[i-1],self.psi_left[i])\n",
    "        self.prob_left = np.trapz(np.power(self.psi_left,2),self.x)\n",
    "        self.psi_left = self.psi_left/np.sqrt(self.prob_left)\n",
    "        \n",
    "    def Numerov_right(self):\n",
    "        self.psi_right = np.zeros(len(self.x))\n",
    "        self.psi_right[-2] = self.x1\n",
    "        for i in range(len(self.x)-2,0,-1):\n",
    "            self.psi_right[i-1] = self.propogateNumerov(self.x[i+1],self.x[i],self.psi_right[i+1],self.psi_right[i])\n",
    "        self.prob_right = np.trapz(np.power(self.psi_right,2),self.x)\n",
    "        self.psi_right = self.psi_right/np.sqrt(self.prob_right)"
   ]
  },
  {
   "cell_type": "code",
   "execution_count": 8,
   "metadata": {},
   "outputs": [
    {
     "data": {
      "application/vnd.jupyter.widget-view+json": {
       "model_id": "5804e5d8a9ff4c59a5412f72552512f7",
       "version_major": 2,
       "version_minor": 0
      },
      "text/plain": [
       "Canvas(toolbar=Toolbar(toolitems=[('Home', 'Reset original view', 'home', 'home'), ('Back', 'Back to previous …"
      ]
     },
     "metadata": {},
     "output_type": "display_data"
    },
    {
     "data": {
      "application/vnd.jupyter.widget-view+json": {
       "model_id": "74654cfc98944089ad822849119b1931",
       "version_major": 2,
       "version_minor": 0
      },
      "text/plain": [
       "interactive(children=(IntSlider(value=3, description='npoints:', max=101, min=3, step=5), Output()), _dom_clas…"
      ]
     },
     "metadata": {},
     "output_type": "display_data"
    }
   ],
   "source": [
    "fig3=plt.figure()\n",
    "@widgets.interact(npoints=n_options)\n",
    "def update3(npoints):\n",
    "    plt.clf()\n",
    "    solver=NumerovSolverPIB_v2(0,1,npoints)\n",
    "    start=time.time()\n",
    "    solver.Numerov_left()\n",
    "    solver.Numerov_right()\n",
    "    end=time.time()\n",
    "    timetaken=end-start\n",
    "    \n",
    "    # The wave funciton is not normalized. \n",
    "    prob_left = np.trapz(np.power(solver.psi_left,2),solver.x)\n",
    "    prob_right = np.trapz(np.power(solver.psi_right,2),solver.x)\n",
    "    plt.title(\"Numerov solution to PIB, \"\n",
    "              + r\"$\\int\\psi_\\mathrm{left}$=\" + \"{:.2g}\".format(prob_left)\n",
    "              + r\", $\\int\\psi_\\mathrm{right}=$\" + \"{:.2g}\".format(prob_right)\n",
    "              + \"\\nTime taken: {:.2f} ms\".format(timetaken*1000))\n",
    "    \n",
    "    # plot both the lines and points to make it visually better\n",
    "    plt.plot(solver.x, solver.psi_left, c='b',label=r'$\\psi_\\mathrm{left}$')\n",
    "    plt.scatter(solver.x, solver.psi_left, c='b')\n",
    "    \n",
    "    plt.plot(solver.x, solver.psi_right, c='r',label=r'$\\psi_\\mathrm{right}$')\n",
    "    plt.scatter(solver.x, solver.psi_right, c='r')\n",
    "    \n",
    "    # Plot the reference analytical solution\n",
    "    x = np.linspace(0,1,1000)\n",
    "    psi = np.sqrt(2)*np.sin(np.pi*x)\n",
    "    plt.plot(x, psi, c='k',label=r'$\\psi$')\n",
    "    \n",
    "    plt.xlabel(r'$x$ (bohr)')\n",
    "    plt.ylabel(r'$\\psi(x)$')\n",
    "    plt.legend()"
   ]
  },
  {
   "cell_type": "code",
   "execution_count": null,
   "metadata": {},
   "outputs": [],
   "source": []
  }
 ],
 "metadata": {
  "kernelspec": {
   "display_name": "Python 3 (ipykernel)",
   "language": "python",
   "name": "python3"
  },
  "language_info": {
   "codemirror_mode": {
    "name": "ipython",
    "version": 3
   },
   "file_extension": ".py",
   "mimetype": "text/x-python",
   "name": "python",
   "nbconvert_exporter": "python",
   "pygments_lexer": "ipython3",
   "version": "3.9.6"
  }
 },
 "nbformat": 4,
 "nbformat_minor": 4
}
