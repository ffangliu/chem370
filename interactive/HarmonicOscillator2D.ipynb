{
 "cells": [
  {
   "cell_type": "code",
   "execution_count": 73,
   "id": "9f5a4769",
   "metadata": {},
   "outputs": [],
   "source": [
    "%matplotlib widget\n",
    "import ipywidgets as widgets\n",
    "import numpy as np\n",
    "import matplotlib.pyplot as plt \n",
    "from mpl_toolkits import mplot3d\n"
   ]
  },
  {
   "cell_type": "code",
   "execution_count": 74,
   "id": "a8bc69ec-0874-47ab-9bd1-00454567255b",
   "metadata": {},
   "outputs": [],
   "source": [
    "# Define the harmonic potential. \n",
    "# Generalized force constant matrix\n",
    "# k = \n",
    "#     k11 k12\n",
    "#     k21 k22\n",
    "# Notice that we have k12=k21\n",
    "def V(x, y, k11, k22, k12):\n",
    "    return 0.5*k11*x ** 2 + 0.5*k22*y ** 2 + k12*x*y\n"
   ]
  },
  {
   "cell_type": "code",
   "execution_count": 75,
   "id": "7278b7c2-8e26-4c90-9e6d-1889ed15369e",
   "metadata": {},
   "outputs": [],
   "source": [
    "# Define the interactive widgets\n",
    "\n",
    "k11_options = widgets.FloatSlider(\n",
    "    value=1.0,\n",
    "    min=0.1,\n",
    "    max=2.0,\n",
    "    step=0.1,\n",
    "    description=r'$k_{11}$:',\n",
    "    disabled=False,\n",
    ")\n",
    "\n",
    "k22_options = widgets.FloatSlider(\n",
    "    value=1.0,\n",
    "    min=0.1,\n",
    "    max=2.0,\n",
    "    step=0.1,\n",
    "    description=r'$k_{22}$:',\n",
    "    disabled=False,\n",
    ")\n",
    "\n",
    "k12_options = widgets.FloatSlider(\n",
    "    value=0,\n",
    "    min=-1.0,\n",
    "    max=1.0,\n",
    "    step=0.1,\n",
    "    description=r'$k_{12}$:',\n",
    "    disabled=False,\n",
    ")\n",
    "\n",
    "y_options = widgets.FloatSlider(\n",
    "    value=0,\n",
    "    min=-6,\n",
    "    max=6,\n",
    "    step=0.5,\n",
    "    description=r'$Y$:',\n",
    "    disabled=False,\n",
    ")\n",
    "\n",
    "x_options = widgets.FloatSlider(\n",
    "    value=0,\n",
    "    min=-6,\n",
    "    max=6,\n",
    "    step=0.5,\n",
    "    description=r'$X$:',\n",
    "    disabled=False,\n",
    ")\n",
    "\n",
    "\n",
    "theta_options = widgets.FloatSlider(\n",
    "    value=0,\n",
    "    min=0,\n",
    "    max=180,\n",
    "    step=10,\n",
    "    description=r'$\\theta$:',\n",
    "    disabled=False,\n",
    ")"
   ]
  },
  {
   "cell_type": "markdown",
   "id": "4168bb02-d25d-4892-82bc-abf1803e0d71",
   "metadata": {},
   "source": [
    "# First visualize in 3D"
   ]
  },
  {
   "cell_type": "code",
   "execution_count": 82,
   "id": "458a8865-c798-4e52-9c0a-b40023ac76e0",
   "metadata": {},
   "outputs": [
    {
     "data": {
      "application/vnd.jupyter.widget-view+json": {
       "model_id": "79a4354f0d8b459e872808b337541d3b",
       "version_major": 2,
       "version_minor": 0
      },
      "text/plain": [
       "Canvas(toolbar=Toolbar(toolitems=[('Home', 'Reset original view', 'home', 'home'), ('Back', 'Back to previous …"
      ]
     },
     "metadata": {},
     "output_type": "display_data"
    },
    {
     "data": {
      "application/vnd.jupyter.widget-view+json": {
       "model_id": "3e01dc75546d47408e1a0b1f7a6e5e1f",
       "version_major": 2,
       "version_minor": 0
      },
      "text/plain": [
       "interactive(children=(FloatSlider(value=1.6, description='$k_{11}$:', max=2.0, min=0.1), FloatSlider(value=0.6…"
      ]
     },
     "metadata": {},
     "output_type": "display_data"
    }
   ],
   "source": [
    "fig = plt.figure()\n",
    "\n",
    "@widgets.interact(k11=k11_options,k22=k22_options, k12=k12_options)\n",
    "def update(k11,k22,k12):\n",
    "    fig.clf()\n",
    "    \n",
    "    x = np.linspace(-6, 6, 30)\n",
    "    y = np.linspace(-6, 6, 30)\n",
    "\n",
    "    X, Y = np.meshgrid(x, y)\n",
    "    Z = V(X, Y, k11, k22, k12)\n",
    "\n",
    "    ax = plt.axes(projection='3d')\n",
    "    ax.contour3D(X, Y, Z, 50, cmap='viridis')\n",
    "    ax.set_xlabel('x')\n",
    "    ax.set_ylabel('y')\n",
    "    ax.set_zlabel('V(x,y)');\n"
   ]
  },
  {
   "cell_type": "markdown",
   "id": "e65fa5c9-9b58-4027-8453-2eeacd537628",
   "metadata": {},
   "source": [
    "# Then visualize the 2D contour plot and observe how k11, k22, k12 change the shape of the contour lines"
   ]
  },
  {
   "cell_type": "code",
   "execution_count": 83,
   "id": "bf7d40c0-b539-487a-a51c-b83dd81aa8f1",
   "metadata": {},
   "outputs": [
    {
     "data": {
      "application/vnd.jupyter.widget-view+json": {
       "model_id": "9d9e4d0153444ea38c42a3c1437a18b5",
       "version_major": 2,
       "version_minor": 0
      },
      "text/plain": [
       "Canvas(toolbar=Toolbar(toolitems=[('Home', 'Reset original view', 'home', 'home'), ('Back', 'Back to previous …"
      ]
     },
     "metadata": {},
     "output_type": "display_data"
    },
    {
     "data": {
      "application/vnd.jupyter.widget-view+json": {
       "model_id": "4c042da28072440bb501a7d8bff81eec",
       "version_major": 2,
       "version_minor": 0
      },
      "text/plain": [
       "interactive(children=(FloatSlider(value=1.6, description='$k_{11}$:', max=2.0, min=0.1), FloatSlider(value=0.6…"
      ]
     },
     "metadata": {},
     "output_type": "display_data"
    }
   ],
   "source": [
    "fig2=plt.figure()\n",
    "\n",
    "@widgets.interact(k11=k11_options,k22=k22_options, k12=k12_options)\n",
    "def update2(k11,k22,k12):\n",
    "    fig2.clf()\n",
    "    \n",
    "    x = np.linspace(-6, 6, 30)\n",
    "    y = np.linspace(-6, 6, 30)\n",
    "\n",
    "    X, Y = np.meshgrid(x, y)\n",
    "    Z = V(X, Y, k11, k22, k12)\n",
    "    \n",
    "    ax2=plt.axes()\n",
    "\n",
    "    plt.contour(X, Y, Z, 50, cmap='viridis');\n",
    "    ax2.set_xlabel('x')\n",
    "    ax2.set_ylabel('y')\n",
    "    ax3 = plt.colorbar();\n",
    "    ax3.set_label('V(x,y)');\n",
    "\n",
    "\n",
    "\n",
    "\n"
   ]
  },
  {
   "cell_type": "code",
   "execution_count": 84,
   "id": "f72043c6-4154-4aa4-8a08-fcb0164b999f",
   "metadata": {},
   "outputs": [
    {
     "data": {
      "application/vnd.jupyter.widget-view+json": {
       "model_id": "fcd9410a92bb45df87240b3cde081b63",
       "version_major": 2,
       "version_minor": 0
      },
      "text/plain": [
       "Canvas(toolbar=Toolbar(toolitems=[('Home', 'Reset original view', 'home', 'home'), ('Back', 'Back to previous …"
      ]
     },
     "metadata": {},
     "output_type": "display_data"
    },
    {
     "data": {
      "application/vnd.jupyter.widget-view+json": {
       "model_id": "b30594dae1374ba3b3aa40af6e1b7b45",
       "version_major": 2,
       "version_minor": 0
      },
      "text/plain": [
       "interactive(children=(FloatSlider(value=1.6, description='$k_{11}$:', max=2.0, min=0.1), FloatSlider(value=0.6…"
      ]
     },
     "metadata": {},
     "output_type": "display_data"
    }
   ],
   "source": [
    "# Then visualize the parabola in the theta=theta_value direction,\n",
    "\n",
    "fig4=plt.figure()\n",
    "\n",
    "@widgets.interact(k11=k11_options,k22=k22_options, k12=k12_options, theta=theta_options)\n",
    "def update3(k11,k22,k12,theta):\n",
    "    fig4.clf()\n",
    "    \n",
    "    v = np.linspace(-6, 6, 100)\n",
    "    x = np.cos(theta)*v\n",
    "    y = np.sin(theta)*v\n",
    "\n",
    "    z = V(x,y, k11, k22, k12)\n",
    "    \n",
    "    plt.plot(v,z)\n",
    "    plt.xlabel('v')\n",
    "    plt.ylabel('V(x,y)')\n",
    "    plt.ylim(0,50)\n",
    "    plt.title(r'V(x,y) with $\\theta$= {:.1f}'.format(theta))\n",
    "\n"
   ]
  },
  {
   "cell_type": "code",
   "execution_count": null,
   "id": "8171101e-f729-48b8-b2e9-974ab78d582b",
   "metadata": {},
   "outputs": [],
   "source": []
  }
 ],
 "metadata": {
  "kernelspec": {
   "display_name": "Python 3 (ipykernel)",
   "language": "python",
   "name": "python3"
  },
  "language_info": {
   "codemirror_mode": {
    "name": "ipython",
    "version": 3
   },
   "file_extension": ".py",
   "mimetype": "text/x-python",
   "name": "python",
   "nbconvert_exporter": "python",
   "pygments_lexer": "ipython3",
   "version": "3.9.6"
  }
 },
 "nbformat": 4,
 "nbformat_minor": 5
}
