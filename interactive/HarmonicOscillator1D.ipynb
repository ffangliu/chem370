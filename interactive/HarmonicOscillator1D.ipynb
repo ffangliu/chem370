{
 "cells": [
  {
   "cell_type": "code",
   "execution_count": 1,
   "id": "9f5a4769",
   "metadata": {},
   "outputs": [],
   "source": [
    "%matplotlib widget\n",
    "import ipywidgets as widgets\n",
    "import numpy as np\n",
    "import matplotlib.pyplot as plt "
   ]
  },
  {
   "cell_type": "code",
   "execution_count": 2,
   "id": "7278b7c2-8e26-4c90-9e6d-1889ed15369e",
   "metadata": {},
   "outputs": [],
   "source": [
    "# Define constants (We use atomic units for everything in this demo)\n",
    "hbar = 1\n",
    "\n",
    "# Quantum number v can be any integer between 0 and 100\n",
    "v_options = widgets.IntSlider(\n",
    "    value=1,\n",
    "    min=1,\n",
    "    max=100,\n",
    "    step=1,\n",
    "    description=r'$v$:',\n",
    "    disabled=False,\n",
    ")\n",
    "\n",
    "# Angular frequency omega can be any float value between 0.01 and 10 (atomic unit) inputed by the user\n",
    "omega_options = widgets.BoundedFloatText(\n",
    "    description=r'$\\omega$:',                             \n",
    "    value=1.0,\n",
    "    min=0.01,\n",
    "    max=10.0,\n",
    "    padding = 8)\n",
    "\n",
    "# Mass m can be any float value between 0.1 and 10 (atomic unit) inputed by the user\n",
    "m_options = widgets.BoundedFloatText(\n",
    "    description=r'$m$:',                             \n",
    "    value=1.0,\n",
    "    min=0.01,\n",
    "    max=10.0,\n",
    "    padding = 8)\n",
    "\n",
    "# Function that return hermite polynomial Hv(sqrt(alpha)x) for given m, omega,v\n",
    "def Hv_func(alpha,v):\n",
    "    \n",
    "    # Set up the Hermite polynomial\n",
    "    domain = [-1,1]\n",
    "    window = [-np.sqrt(alpha),np.sqrt(alpha)]\n",
    "    coeff = [0]*v\n",
    "    coeff.append(1)\n",
    "    return np.polynomial.hermite.Hermite(coeff,domain=domain, window=window)"
   ]
  },
  {
   "cell_type": "code",
   "execution_count": 10,
   "id": "458a8865-c798-4e52-9c0a-b40023ac76e0",
   "metadata": {},
   "outputs": [
    {
     "data": {
      "application/vnd.jupyter.widget-view+json": {
       "model_id": "9d87250822c54083901b8f478002d9ad",
       "version_major": 2,
       "version_minor": 0
      },
      "text/plain": [
       "Canvas(toolbar=Toolbar(toolitems=[('Home', 'Reset original view', 'home', 'home'), ('Back', 'Back to previous …"
      ]
     },
     "metadata": {},
     "output_type": "display_data"
    },
    {
     "data": {
      "application/vnd.jupyter.widget-view+json": {
       "model_id": "af507f45e7834dc983a0d63a1a006255",
       "version_major": 2,
       "version_minor": 0
      },
      "text/plain": [
       "interactive(children=(IntSlider(value=1, description='$v$:', min=1), BoundedFloatText(value=1.0, description='…"
      ]
     },
     "metadata": {},
     "output_type": "display_data"
    }
   ],
   "source": [
    "fig,(ax1,ax2,ax3) = plt.subplots(3,sharex=True)\n",
    "plt.subplots_adjust(hspace=0)\n",
    "\n",
    "@widgets.interact(v=v_options,m=m_options,omega=omega_options)\n",
    "def update(v,m,omega):\n",
    "    ax1.cla()\n",
    "    ax2.cla()\n",
    "    ax3.cla()\n",
    "    \n",
    "    # Set the range of x values we want to plot\n",
    "    npoints=2000\n",
    "    xlower = -10\n",
    "    xupper = 10\n",
    "    \n",
    "    # obtain the Hermite polynomial fuction\n",
    "    alpha= m*omega/hbar    \n",
    "    Hv = Hv_func(alpha,v)\n",
    "    \n",
    "    # obtain the Hermite polynomial curve data for the range of x values\n",
    "    x,y=Hv.linspace(npoints,[xlower,xupper])\n",
    "    \n",
    "    \n",
    "    # Add a title\n",
    "    plt.sca(ax1)\n",
    "    \n",
    "    plt.title(r'Harmonic Oscillator'+ '\\n'\n",
    "              r'$m$= '+str(m) + ', $\\omega$=' + str(omega) + \n",
    "              r', $\\alpha$=' + str(alpha)+ r', $v$=' + str(v))\n",
    "    \n",
    " \n",
    "    #############################################\n",
    "    # First work on the Hermite polynomial part #\n",
    "    #############################################\n",
    "    # Add y Label\n",
    "    plt.ylabel(r'$H_v(\\sqrt{\\alpha}x)$') \n",
    "    \n",
    "    # Plot\n",
    "    plt.plot(x,y,c='b') \n",
    "    ymax = 2**(v/2.0)*np.sqrt(float(np.math.factorial(v)))/((alpha/np.pi)**0.25)\n",
    "    ymin = -ymax\n",
    "    plt.ylim(ymin,ymax)\n",
    "    \n",
    "    # Set grid\n",
    "    plt.grid(True)\n",
    "     \n",
    "    \n",
    "    #####################\n",
    "    # Then work on Psi  #\n",
    "    #####################\n",
    "    y = 1/(2**(v/2.0)*np.sqrt(float(np.math.factorial(v))))*(alpha/np.pi)**0.25*y*np.exp(-1/2.0*alpha*x**2)\n",
    "    \n",
    "    plt.sca(ax2)\n",
    "\n",
    "    # Add y Label\n",
    "    plt.ylabel(r'$\\psi(x)$')\n",
    "    # Plot\n",
    "    plt.plot(x,y,c='b')   \n",
    "    \n",
    "    # Set grid\n",
    "    plt.grid(True)\n",
    "\n",
    "    # Calculate energy of the state with quantum number v\n",
    "    E = hbar*omega*(v+ 1/2.0)\n",
    "    # Calculate the positive turning point xt_plus based on E\n",
    "    xt_plus = np.sqrt(2.0/(m*omega**2)*E)\n",
    "    xt_minus = -xt_plus  \n",
    "    \n",
    "    # Plot the Classical turning points\n",
    "    plt.plot([xt_minus, xt_minus],[-1,1],c='k')\n",
    "    plt.plot([xt_plus,xt_plus],[-1,1],c='k')\n",
    "    #########################\n",
    "    # Then  work on Psi**2  #\n",
    "    #########################\n",
    "    \n",
    "    plt.sca(ax3)\n",
    "    # Add X and y Label\n",
    "    plt.xlabel(r'$x$ (bohr)')\n",
    "    plt.ylabel(r'$|\\psi(x)|^2$')\n",
    "    \n",
    "    # Plot\n",
    "    plt.plot(x,y**2,c='r')\n",
    "    plt.fill_between(x,y**2, color='r',alpha=0.5)\n",
    "    plt.ylim(0,1.1)\n",
    "    \n",
    "    # Set grid\n",
    "    plt.grid(True)\n",
    "    \n",
    "    # Plot the Classical turning points\n",
    "    plt.plot([xt_minus, xt_minus],[-1,1],c='k')\n",
    "    plt.plot([xt_plus,xt_plus],[-1,1],c='k')\n",
    "    plt.text(xt_plus,0.5,'classical turning points')"
   ]
  },
  {
   "cell_type": "code",
   "execution_count": null,
   "id": "bf7d40c0-b539-487a-a51c-b83dd81aa8f1",
   "metadata": {},
   "outputs": [],
   "source": []
  }
 ],
 "metadata": {
  "kernelspec": {
   "display_name": "Python 3 (ipykernel)",
   "language": "python",
   "name": "python3"
  },
  "language_info": {
   "codemirror_mode": {
    "name": "ipython",
    "version": 3
   },
   "file_extension": ".py",
   "mimetype": "text/x-python",
   "name": "python",
   "nbconvert_exporter": "python",
   "pygments_lexer": "ipython3",
   "version": "3.9.6"
  }
 },
 "nbformat": 4,
 "nbformat_minor": 5
}
