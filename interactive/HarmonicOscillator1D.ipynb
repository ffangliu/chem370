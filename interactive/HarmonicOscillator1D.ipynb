{
 "cells": [
  {
   "cell_type": "code",
   "execution_count": 1,
   "id": "4a19f346",
   "metadata": {},
   "outputs": [],
   "source": [
    "%matplotlib widget\n",
    "import ipywidgets as widgets\n",
    "import numpy as np\n",
    "import matplotlib.pyplot as plt "
   ]
  },
  {
   "cell_type": "code",
   "execution_count": 2,
   "id": "8384cdb2",
   "metadata": {},
   "outputs": [],
   "source": [
    "# Define constants (We use atomic units for everything in this demo)\n",
    "hbar = 1\n",
    "\n",
    "# Define the interactive widgets\n",
    "\n",
    "# Quantum number v can be any integer between 0 and 20\n",
    "v_options = widgets.IntSlider(\n",
    "    value=0,\n",
    "    min=0,\n",
    "    max=20,\n",
    "    step=1,\n",
    "    description=r'$v$:',\n",
    "    disabled=False,\n",
    ")\n",
    "\n",
    "# Max Quantum number vmax to be plotted, can be any integer between 0 and 20\n",
    "vmax_options = widgets.IntSlider(\n",
    "    value=4,\n",
    "    min=0,\n",
    "    max=20,\n",
    "    step=1,\n",
    "    description=r'$v_{max}$:',\n",
    "    disabled=False,\n",
    ")\n",
    "\n",
    "# Angular frequency omega can be any float value between 0.01 and 10 (atomic unit) inputed by the user\n",
    "omega_options = widgets.BoundedFloatText(\n",
    "    description=r'$\\omega$:',                             \n",
    "    value=2.0,\n",
    "    min=0.01,\n",
    "    max=10.0,\n",
    "    padding = 8)\n",
    "\n",
    "# Mass m can be any float value between 0.1 and 10 (atomic unit) inputed by the user\n",
    "m_options = widgets.BoundedFloatText(\n",
    "    description=r'$m$:',                             \n",
    "    value=0.5,\n",
    "    min=0.01,\n",
    "    max=10.0,\n",
    "    padding = 8)\n",
    "\n",
    "# Function that return hermite polynomial Hv(sqrt(alpha)x) for given m, omega,v\n",
    "def Hv_func(alpha,v):\n",
    "    \n",
    "    # Set up the Hermite polynomial\n",
    "    domain = [-1,1]\n",
    "    window = [-np.sqrt(alpha),np.sqrt(alpha)]\n",
    "    coeff = [0]*v\n",
    "    coeff.append(1)\n",
    "    return np.polynomial.hermite.Hermite(coeff,domain=domain, window=window)"
   ]
  },
  {
   "cell_type": "code",
   "execution_count": 3,
   "id": "6b02ed80",
   "metadata": {},
   "outputs": [
    {
     "data": {
      "application/vnd.jupyter.widget-view+json": {
       "model_id": "d480cf391b4f449aab1d75835923f0e4",
       "version_major": 2,
       "version_minor": 0
      },
      "text/plain": [
       "Canvas(toolbar=Toolbar(toolitems=[('Home', 'Reset original view', 'home', 'home'), ('Back', 'Back to previous …"
      ]
     },
     "metadata": {},
     "output_type": "display_data"
    },
    {
     "data": {
      "application/vnd.jupyter.widget-view+json": {
       "model_id": "a44d606c84f74d40a90f58f5ffffd2cb",
       "version_major": 2,
       "version_minor": 0
      },
      "text/plain": [
       "interactive(children=(IntSlider(value=0, description='$v$:', max=20), BoundedFloatText(value=0.5, description=…"
      ]
     },
     "metadata": {},
     "output_type": "display_data"
    }
   ],
   "source": [
    "fig,(ax1,ax2,ax3) = plt.subplots(3,sharex=True)\n",
    "plt.subplots_adjust(hspace=0)\n",
    "\n",
    "@widgets.interact(v=v_options,m=m_options,omega=omega_options)\n",
    "def update(v,m,omega):\n",
    "    ax1.cla()\n",
    "    ax2.cla()\n",
    "    ax3.cla()\n",
    "    \n",
    "    # Set the range of x values we want to plot\n",
    "    npoints=2000\n",
    "    xlower = -10\n",
    "    xupper = 10\n",
    "    \n",
    "    # obtain the Hermite polynomial fuction\n",
    "    alpha= m*omega/hbar    \n",
    "    Hv = Hv_func(alpha,v)\n",
    "    \n",
    "    # obtain the Hermite polynomial curve data for the range of x values\n",
    "    x,y=Hv.linspace(npoints,[xlower,xupper])\n",
    "    \n",
    "    \n",
    "    # Add a title\n",
    "    plt.sca(ax1)\n",
    "    \n",
    "    plt.title(r'Harmonic Oscillator'+ '\\n'\n",
    "              r'$m$= '+str(m) + ', $\\omega$=' + str(omega) + \n",
    "              r', $\\alpha$=' + str(alpha)+ r', $v$=' + str(v))\n",
    "    \n",
    " \n",
    "    #############################################\n",
    "    # First work on the Hermite polynomial part #\n",
    "    #############################################\n",
    "    # Add y Label\n",
    "    plt.ylabel(r'$H_v(\\sqrt{\\alpha}x)$') \n",
    "    \n",
    "    # Plot\n",
    "    plt.plot(x,y,c='b') \n",
    "    ymax = 2**(v/2.0)*np.sqrt(float(np.math.factorial(v)))/((alpha/np.pi)**0.25)\n",
    "    ymin = -ymax\n",
    "    plt.ylim(ymin,ymax)\n",
    "    \n",
    "    # Set grid\n",
    "    plt.grid(True)\n",
    "     \n",
    "    \n",
    "    #####################\n",
    "    # Then work on Psi  #\n",
    "    #####################\n",
    "    y = 1/(2**(v/2.0)*np.sqrt(float(np.math.factorial(v))))*(alpha/np.pi)**0.25*y*np.exp(-1/2.0*alpha*x**2)\n",
    "    \n",
    "    plt.sca(ax2)\n",
    "\n",
    "    # Add y Label\n",
    "    plt.ylabel(r'$\\psi(x)$')\n",
    "    # Plot\n",
    "    plt.plot(x,y,c='b')   \n",
    "    \n",
    "    # Set grid\n",
    "    plt.grid(True)\n",
    "\n",
    "    # Calculate energy of the state with quantum number v\n",
    "    E = hbar*omega*(v+ 1/2.0)\n",
    "    # Calculate the positive turning point xt_plus based on E\n",
    "    xt_plus = np.sqrt(2.0/(m*omega**2)*E)\n",
    "    xt_minus = -xt_plus  \n",
    "    \n",
    "    # Plot the Classical turning points\n",
    "    plt.plot([xt_minus, xt_minus],[-1,1],c='k')\n",
    "    plt.plot([xt_plus,xt_plus],[-1,1],c='k')\n",
    "    #########################\n",
    "    # Then  work on Psi**2  #\n",
    "    #########################\n",
    "    \n",
    "    plt.sca(ax3)\n",
    "    # Add X and y Label\n",
    "    plt.xlabel(r'$x$ (bohr)')\n",
    "    plt.ylabel(r'$|\\psi(x)|^2$')\n",
    "    \n",
    "    # Plot\n",
    "    plt.plot(x,y**2,c='r')\n",
    "    plt.fill_between(x,y**2, color='r',alpha=0.5)\n",
    "    plt.ylim(0,1.1)\n",
    "    \n",
    "    # Set grid\n",
    "    plt.grid(True)\n",
    "    \n",
    "    # Plot the Classical turning points\n",
    "    plt.plot([xt_minus, xt_minus],[-1,1],c='k')\n",
    "    plt.plot([xt_plus,xt_plus],[-1,1],c='k')\n",
    "    plt.text(xt_plus,0.5,'classical turning points')"
   ]
  },
  {
   "cell_type": "code",
   "execution_count": 4,
   "id": "40e04005",
   "metadata": {},
   "outputs": [
    {
     "data": {
      "application/vnd.jupyter.widget-view+json": {
       "model_id": "64687d6edd774225b5c2ae1ebf3677c2",
       "version_major": 2,
       "version_minor": 0
      },
      "text/plain": [
       "Canvas(toolbar=Toolbar(toolitems=[('Home', 'Reset original view', 'home', 'home'), ('Back', 'Back to previous …"
      ]
     },
     "metadata": {},
     "output_type": "display_data"
    },
    {
     "data": {
      "application/vnd.jupyter.widget-view+json": {
       "model_id": "0a551c896edf4ea3ba370f25bd05fb4a",
       "version_major": 2,
       "version_minor": 0
      },
      "text/plain": [
       "interactive(children=(IntSlider(value=4, description='$v_{max}$:', max=20), BoundedFloatText(value=0.5, descri…"
      ]
     },
     "metadata": {},
     "output_type": "display_data"
    }
   ],
   "source": [
    "fig2=plt.figure()\n",
    "\n",
    "@widgets.interact(vmax=vmax_options,m=m_options,omega=omega_options)\n",
    "def update2(vmax,m,omega):\n",
    "    fig2.clf()\n",
    "    # Set the range of x values we want to plot\n",
    "    npoints=2000\n",
    "    xlower = -10\n",
    "    xupper = 10\n",
    "\n",
    "\n",
    "    # Let's first plot the parabola\n",
    "    x = np.linspace(xlower,xupper,npoints)\n",
    "    Vx = 0.5*m*omega**2*x**2\n",
    "    plt.plot(x,Vx,c='k')\n",
    "    plt.xlim(xlower,xupper)\n",
    "\n",
    "\n",
    "    #Then plot the wave functions shifted in the y direction   \n",
    "    alpha= m*omega/hbar  \n",
    "    Emax = hbar*omega*(vmax+ 1/2.0)\n",
    "    \n",
    "    for v in range(0, vmax+1):\n",
    "        # Calculate energy of the state with quantum number v\n",
    "        E = hbar*omega*(v+ 1/2.0)\n",
    "        # Calculate the positive turning point xt_plus based on E\n",
    "        xt_plus = np.sqrt(2.0/(m*omega**2)*E)\n",
    "        xt_minus = -xt_plus \n",
    "        # Plot the energy level line, intersecting with the parabola\n",
    "        plt.plot([xt_minus, xt_plus],[E,E],c='k')\n",
    "\n",
    "\n",
    "        # obtain the Hermite polynomial fuction\n",
    "        Hv = Hv_func(alpha,v)\n",
    "        # obtain the Hermite polynomial curve data for the range of x values\n",
    "        # First obtain y as the Hermite polynomial\n",
    "        x,y=Hv.linspace(npoints,[xlower,xupper])\n",
    "        # Add the normalization coefficients and the gaussian funciton\n",
    "        y = 1/(2**(v/2.0)*np.sqrt(float(np.math.factorial(v))))*(alpha/np.pi)**0.25*y*np.exp(-1/2.0*alpha*x**2)\n",
    "        # Shift the wavefunction in y direction to align with the energy level\n",
    "        y = y + E\n",
    "        plt.plot(x,y,c='b')  \n",
    "    plt.ylim(0,Emax+1)\n",
    "    \n",
    "    plt.title(r'Harmonic Oscillator $\\psi(x)$ aligned with energy levels'+ '\\n'\n",
    "              r'$m$= '+str(m) + ', $\\omega$=' + str(omega) + \n",
    "              r', $\\alpha$=' + str(alpha)+ r', $v_{max}$=' + str(vmax))\n",
    "    \n",
    "    plt.xlabel(r'$x$ (bohr)')\n",
    "    plt.ylabel(r'$E$(H$_a$)')\n",
    "\n",
    "\n",
    "\n",
    "\n",
    "\n"
   ]
  },
  {
   "cell_type": "code",
   "execution_count": 5,
   "id": "d7ef2904",
   "metadata": {},
   "outputs": [
    {
     "data": {
      "application/vnd.jupyter.widget-view+json": {
       "model_id": "b9cce0f03eac42b8aa77e91cdabdaf0b",
       "version_major": 2,
       "version_minor": 0
      },
      "text/plain": [
       "Canvas(toolbar=Toolbar(toolitems=[('Home', 'Reset original view', 'home', 'home'), ('Back', 'Back to previous …"
      ]
     },
     "metadata": {},
     "output_type": "display_data"
    },
    {
     "data": {
      "application/vnd.jupyter.widget-view+json": {
       "model_id": "c998c6c9c6e548d5a279d1ecb053f4d8",
       "version_major": 2,
       "version_minor": 0
      },
      "text/plain": [
       "interactive(children=(IntSlider(value=4, description='$v_{max}$:', max=20), BoundedFloatText(value=0.5, descri…"
      ]
     },
     "metadata": {},
     "output_type": "display_data"
    }
   ],
   "source": [
    "fig3=plt.figure()\n",
    "\n",
    "@widgets.interact(vmax=vmax_options,m=m_options,omega=omega_options)\n",
    "def update3(vmax,m,omega):\n",
    "    fig3.clf()\n",
    "    # Set the range of x values we want to plot\n",
    "    npoints=2000\n",
    "    xlower = -10\n",
    "    xupper = 10\n",
    "\n",
    "\n",
    "    # Let's first plot the parabola\n",
    "    x = np.linspace(xlower,xupper,npoints)\n",
    "    Vx = 0.5*m*omega**2*x**2\n",
    "    plt.plot(x,Vx,c='k')\n",
    "    plt.xlim(xlower,xupper)\n",
    "\n",
    "\n",
    "    #Then plot the wave functions shifted in the y direction   \n",
    "    alpha= m*omega/hbar  \n",
    "    Emax = hbar*omega*(vmax+ 1/2.0)\n",
    "    \n",
    "    for v in range(0, vmax+1):\n",
    "        # Calculate energy of the state with quantum number v\n",
    "        E = hbar*omega*(v+ 1/2.0)\n",
    "        # Calculate the positive turning point xt_plus based on E\n",
    "        xt_plus = np.sqrt(2.0/(m*omega**2)*E)\n",
    "        xt_minus = -xt_plus \n",
    "        # Plot the energy level line, intersecting with the parabola\n",
    "        plt.plot([xt_minus, xt_plus],[E,E],c='k')\n",
    "\n",
    "\n",
    "        # obtain the Hermite polynomial fuction\n",
    "        Hv = Hv_func(alpha,v)\n",
    "        # obtain the Hermite polynomial curve data for the range of x values\n",
    "        # First obtain y as the Hermite polynomial\n",
    "        x,y=Hv.linspace(npoints,[xlower,xupper])\n",
    "        # Add the normalization coefficients and the gaussian funciton\n",
    "        y = 1/(2**(v/2.0)*np.sqrt(float(np.math.factorial(v))))*(alpha/np.pi)**0.25*y*np.exp(-1/2.0*alpha*x**2)\n",
    "        # Get probability density\n",
    "        y = y**2\n",
    "        # Shift the probability density in y direction to align with the energy level\n",
    "        y = y + E\n",
    "        plt.plot(x,y,c='r')\n",
    "        ybaseline = np.array([E]*npoints)\n",
    "        plt.fill_between(x,y,ybaseline, color='r',alpha=0.5)       \n",
    "    plt.ylim(0,Emax+1)\n",
    "    \n",
    "    plt.title(r'Harmonic Oscillator  $|\\psi(x)|^2$ aligned with energy levels'+ '\\n'\n",
    "              r'$m$= '+str(m) + ', $\\omega$=' + str(omega) + \n",
    "              r', $\\alpha$=' + str(alpha)+ r', $v_{max}$=' + str(vmax))\n",
    "    \n",
    "    plt.xlabel(r'$x$ (bohr)')\n",
    "    plt.ylabel(r'$E$(H$_a$)')\n",
    "\n",
    "\n",
    "\n",
    "\n"
   ]
  },
  {
   "cell_type": "code",
   "execution_count": null,
   "id": "06091c07",
   "metadata": {},
   "outputs": [],
   "source": []
  }
 ],
 "metadata": {
  "kernelspec": {
   "display_name": "Python 3 (ipykernel)",
   "language": "python",
   "name": "python3"
  },
  "language_info": {
   "codemirror_mode": {
    "name": "ipython",
    "version": 3
   },
   "file_extension": ".py",
   "mimetype": "text/x-python",
   "name": "python",
   "nbconvert_exporter": "python",
   "pygments_lexer": "ipython3",
   "version": "3.9.6"
  }
 },
 "nbformat": 4,
 "nbformat_minor": 5
}
