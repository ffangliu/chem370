{
 "cells": [
  {
   "cell_type": "code",
   "execution_count": 2,
   "metadata": {},
   "outputs": [
    {
     "name": "stdout",
     "output_type": "stream",
     "text": [
      "--2021-09-28 22:05:02--  https://rios.mp.fhi.mpg.de/export_table.php\n",
      "Resolving rios.mp.fhi.mpg.de (rios.mp.fhi.mpg.de)... 134.76.9.14\n",
      "Connecting to rios.mp.fhi.mpg.de (rios.mp.fhi.mpg.de)|134.76.9.14|:443... connected.\n",
      "HTTP request sent, awaiting response... 200 OK\n",
      "Length: unspecified [text/csv]\n",
      "Saving to: ‘moleculedata.csv’\n",
      "\n",
      "moleculedata.csv        [  <=>               ] 117.70K   463KB/s    in 0.3s    \n",
      "\n",
      "2021-09-28 22:05:03 (463 KB/s) - ‘moleculedata.csv’ saved [120523]\n",
      "\n"
     ]
    }
   ],
   "source": [
    "###########################################\n",
    "#  First load the dataset\n",
    "# The dataset is downloaded from: https://rios.mp.fhi.mpg.de/\n",
    "# Citation: Liu, X., Truppe, S., Meijer, G. et al. The diatomic molecular spectroscopy database. J Cheminform 12, 31 (2020). https://doi.org/10.1186/s13321-020-00433-8\n",
    "############################################\n",
    "!wget --trust-server-names https://rios.mp.fhi.mpg.de/export_table.php -O moleculedata.csv\n",
    "\n",
    "%matplotlib widget\n",
    "import ipywidgets as widgets\n",
    "import pandas as pd\n",
    "import numpy as np\n",
    "import matplotlib.pyplot as plt\n",
    "import matplotlib as mpl\n",
    "from scipy.special import factorial\n",
    "from scipy.special import genlaguerre, gamma\n",
    "\n",
    "\n",
    "df = pd.read_csv('moleculedata.csv')\n"
   ]
  },
  {
   "cell_type": "code",
   "execution_count": 3,
   "metadata": {},
   "outputs": [
    {
     "data": {
      "text/html": [
       "<div>\n",
       "<style scoped>\n",
       "    .dataframe tbody tr th:only-of-type {\n",
       "        vertical-align: middle;\n",
       "    }\n",
       "\n",
       "    .dataframe tbody tr th {\n",
       "        vertical-align: top;\n",
       "    }\n",
       "\n",
       "    .dataframe thead th {\n",
       "        text-align: right;\n",
       "    }\n",
       "</style>\n",
       "<table border=\"1\" class=\"dataframe\">\n",
       "  <thead>\n",
       "    <tr style=\"text-align: right;\">\n",
       "      <th></th>\n",
       "      <th>Molecule</th>\n",
       "      <th>Electronic state</th>\n",
       "      <th>Reduced mass</th>\n",
       "      <th>Te (cm^{-1})</th>\n",
       "      <th>omega_e (cm^{-1})</th>\n",
       "      <th>omega_ex_e (cm^{-1})</th>\n",
       "      <th>Be (cm^{-1})</th>\n",
       "      <th>alpha_e (cm^{-1})</th>\n",
       "      <th>De (10^{-7}cm^{-1})</th>\n",
       "      <th>Re (\\AA)</th>\n",
       "      <th>D0 (eV)</th>\n",
       "      <th>IP (eV)</th>\n",
       "      <th>Reference</th>\n",
       "      <th>Date of reference</th>\n",
       "    </tr>\n",
       "  </thead>\n",
       "  <tbody>\n",
       "    <tr>\n",
       "      <th>0</th>\n",
       "      <td>AgAl</td>\n",
       "      <td>X $^1\\Sigma^+$</td>\n",
       "      <td>21.544078</td>\n",
       "      <td>0.0000</td>\n",
       "      <td>254.3400</td>\n",
       "      <td>1.1300</td>\n",
       "      <td>0.127960</td>\n",
       "      <td>0.00076</td>\n",
       "      <td>1.2700</td>\n",
       "      <td>2.472800</td>\n",
       "      <td>1.950000e+00</td>\n",
       "      <td>NaN</td>\n",
       "      <td>K.P.Huber and G.Herzberg, Molecular Spectra an...</td>\n",
       "      <td>OCT 1974</td>\n",
       "    </tr>\n",
       "    <tr>\n",
       "      <th>1</th>\n",
       "      <td>AgAl</td>\n",
       "      <td>B $^1\\Sigma^+$</td>\n",
       "      <td>21.544078</td>\n",
       "      <td>27459.1700</td>\n",
       "      <td>199.8500</td>\n",
       "      <td>1.6600</td>\n",
       "      <td>0.117060</td>\n",
       "      <td>0.00112</td>\n",
       "      <td>1.6000</td>\n",
       "      <td>2.585400</td>\n",
       "      <td>NaN</td>\n",
       "      <td>NaN</td>\n",
       "      <td>K.P.Huber and G.Herzberg, Molecular Spectra an...</td>\n",
       "      <td>OCT 1974</td>\n",
       "    </tr>\n",
       "    <tr>\n",
       "      <th>2</th>\n",
       "      <td>AgAl</td>\n",
       "      <td>C $^1\\Pi$</td>\n",
       "      <td>21.544078</td>\n",
       "      <td>31744.8000</td>\n",
       "      <td>221.0600</td>\n",
       "      <td>NaN</td>\n",
       "      <td>0.122500</td>\n",
       "      <td>NaN</td>\n",
       "      <td>1.6000</td>\n",
       "      <td>2.525000</td>\n",
       "      <td>NaN</td>\n",
       "      <td>NaN</td>\n",
       "      <td>K.P.Huber and G.Herzberg, Molecular Spectra an...</td>\n",
       "      <td>OCT 1974</td>\n",
       "    </tr>\n",
       "    <tr>\n",
       "      <th>3</th>\n",
       "      <td>AgBi</td>\n",
       "      <td>X $0^+$</td>\n",
       "      <td>71.594911</td>\n",
       "      <td>0.0000</td>\n",
       "      <td>152.1400</td>\n",
       "      <td>0.4050</td>\n",
       "      <td>0.019800</td>\n",
       "      <td>0.00004</td>\n",
       "      <td>0.0135</td>\n",
       "      <td>3.450000</td>\n",
       "      <td>NaN</td>\n",
       "      <td>NaN</td>\n",
       "      <td>K.P.Huber and G.Herzberg, Molecular Spectra an...</td>\n",
       "      <td>FEB 1975</td>\n",
       "    </tr>\n",
       "    <tr>\n",
       "      <th>4</th>\n",
       "      <td>AgBi</td>\n",
       "      <td>X' $1$</td>\n",
       "      <td>71.594911</td>\n",
       "      <td>4185.0000</td>\n",
       "      <td>148.5000</td>\n",
       "      <td>0.5000</td>\n",
       "      <td>0.019900</td>\n",
       "      <td>0.00005</td>\n",
       "      <td>0.0143</td>\n",
       "      <td>3.440000</td>\n",
       "      <td>NaN</td>\n",
       "      <td>NaN</td>\n",
       "      <td>K.P.Huber and G.Herzberg, Molecular Spectra an...</td>\n",
       "      <td>FEB 1975</td>\n",
       "    </tr>\n",
       "    <tr>\n",
       "      <th>...</th>\n",
       "      <td>...</td>\n",
       "      <td>...</td>\n",
       "      <td>...</td>\n",
       "      <td>...</td>\n",
       "      <td>...</td>\n",
       "      <td>...</td>\n",
       "      <td>...</td>\n",
       "      <td>...</td>\n",
       "      <td>...</td>\n",
       "      <td>...</td>\n",
       "      <td>...</td>\n",
       "      <td>...</td>\n",
       "      <td>...</td>\n",
       "      <td>...</td>\n",
       "    </tr>\n",
       "    <tr>\n",
       "      <th>615</th>\n",
       "      <td>YbF</td>\n",
       "      <td>$X^2\\Sigma^+$</td>\n",
       "      <td>17.127500</td>\n",
       "      <td>0.0000</td>\n",
       "      <td>506.6674</td>\n",
       "      <td>2.2451</td>\n",
       "      <td>0.242191</td>\n",
       "      <td>0.00155</td>\n",
       "      <td>2.3880</td>\n",
       "      <td>2.016100</td>\n",
       "      <td>NaN</td>\n",
       "      <td>NaN</td>\n",
       "      <td>K. L. Dunfield, et al. J. Mol. Spec. 174, 433-...</td>\n",
       "      <td>1995</td>\n",
       "    </tr>\n",
       "    <tr>\n",
       "      <th>616</th>\n",
       "      <td>YbF</td>\n",
       "      <td>A$^2\\Pi_{1/2}$</td>\n",
       "      <td>17.127500</td>\n",
       "      <td>18788.6502</td>\n",
       "      <td>531.3500</td>\n",
       "      <td>2.7210</td>\n",
       "      <td>0.247629</td>\n",
       "      <td>0.00160</td>\n",
       "      <td>1.9948</td>\n",
       "      <td>1.996000</td>\n",
       "      <td>NaN</td>\n",
       "      <td>NaN</td>\n",
       "      <td>T. Ma, et al., J. Phys. Chem. A, 113, 8038-8044</td>\n",
       "      <td>2009</td>\n",
       "    </tr>\n",
       "    <tr>\n",
       "      <th>617</th>\n",
       "      <td>SrF</td>\n",
       "      <td>$A^2\\Pi_{1/2}$</td>\n",
       "      <td>15.622111</td>\n",
       "      <td>15072.0900</td>\n",
       "      <td>509.3800</td>\n",
       "      <td>2.1800</td>\n",
       "      <td>0.253613</td>\n",
       "      <td>0.00156</td>\n",
       "      <td>NaN</td>\n",
       "      <td>2.062729</td>\n",
       "      <td>2.546000e-07</td>\n",
       "      <td>NaN</td>\n",
       "      <td>John F. Barry, PhD thesis, Yale University, 2013</td>\n",
       "      <td>2013</td>\n",
       "    </tr>\n",
       "    <tr>\n",
       "      <th>618</th>\n",
       "      <td>FeH</td>\n",
       "      <td>X $^4\\Delta_{7/2}$</td>\n",
       "      <td>0.990100</td>\n",
       "      <td>0.0000</td>\n",
       "      <td>1831.8000</td>\n",
       "      <td>34.8600</td>\n",
       "      <td>NaN</td>\n",
       "      <td>NaN</td>\n",
       "      <td>NaN</td>\n",
       "      <td>NaN</td>\n",
       "      <td>NaN</td>\n",
       "      <td>NaN</td>\n",
       "      <td>Dulick M. et al, ApJ, 594, 651 (2003)</td>\n",
       "      <td>Sep 2003</td>\n",
       "    </tr>\n",
       "    <tr>\n",
       "      <th>619</th>\n",
       "      <td>AlH</td>\n",
       "      <td>$C^1\\Sigma^+$</td>\n",
       "      <td>0.971536</td>\n",
       "      <td>44675.3711</td>\n",
       "      <td>1575.3357</td>\n",
       "      <td>125.5000</td>\n",
       "      <td>6.668040</td>\n",
       "      <td>6.66804</td>\n",
       "      <td>NaN</td>\n",
       "      <td>1.613132</td>\n",
       "      <td>NaN</td>\n",
       "      <td>NaN</td>\n",
       "      <td>W. Szajna, M. Zachwieja, J. Mol. Spectrosc., 2...</td>\n",
       "      <td>2010</td>\n",
       "    </tr>\n",
       "  </tbody>\n",
       "</table>\n",
       "<p>620 rows × 14 columns</p>\n",
       "</div>"
      ],
      "text/plain": [
       "    Molecule    Electronic state  Reduced mass  Te (cm^{-1})  \\\n",
       "0       AgAl      X $^1\\Sigma^+$     21.544078        0.0000   \n",
       "1       AgAl      B $^1\\Sigma^+$     21.544078    27459.1700   \n",
       "2       AgAl           C $^1\\Pi$     21.544078    31744.8000   \n",
       "3       AgBi             X $0^+$     71.594911        0.0000   \n",
       "4       AgBi              X' $1$     71.594911     4185.0000   \n",
       "..       ...                 ...           ...           ...   \n",
       "615      YbF       $X^2\\Sigma^+$     17.127500        0.0000   \n",
       "616      YbF      A$^2\\Pi_{1/2}$     17.127500    18788.6502   \n",
       "617      SrF      $A^2\\Pi_{1/2}$     15.622111    15072.0900   \n",
       "618      FeH  X $^4\\Delta_{7/2}$      0.990100        0.0000   \n",
       "619      AlH       $C^1\\Sigma^+$      0.971536    44675.3711   \n",
       "\n",
       "     omega_e (cm^{-1})  omega_ex_e (cm^{-1})  Be (cm^{-1})  alpha_e (cm^{-1})  \\\n",
       "0             254.3400                1.1300      0.127960            0.00076   \n",
       "1             199.8500                1.6600      0.117060            0.00112   \n",
       "2             221.0600                   NaN      0.122500                NaN   \n",
       "3             152.1400                0.4050      0.019800            0.00004   \n",
       "4             148.5000                0.5000      0.019900            0.00005   \n",
       "..                 ...                   ...           ...                ...   \n",
       "615           506.6674                2.2451      0.242191            0.00155   \n",
       "616           531.3500                2.7210      0.247629            0.00160   \n",
       "617           509.3800                2.1800      0.253613            0.00156   \n",
       "618          1831.8000               34.8600           NaN                NaN   \n",
       "619          1575.3357              125.5000      6.668040            6.66804   \n",
       "\n",
       "     De (10^{-7}cm^{-1})  Re (\\AA)       D0 (eV)  IP (eV)  \\\n",
       "0                 1.2700  2.472800  1.950000e+00      NaN   \n",
       "1                 1.6000  2.585400           NaN      NaN   \n",
       "2                 1.6000  2.525000           NaN      NaN   \n",
       "3                 0.0135  3.450000           NaN      NaN   \n",
       "4                 0.0143  3.440000           NaN      NaN   \n",
       "..                   ...       ...           ...      ...   \n",
       "615               2.3880  2.016100           NaN      NaN   \n",
       "616               1.9948  1.996000           NaN      NaN   \n",
       "617                  NaN  2.062729  2.546000e-07      NaN   \n",
       "618                  NaN       NaN           NaN      NaN   \n",
       "619                  NaN  1.613132           NaN      NaN   \n",
       "\n",
       "                                             Reference Date of reference  \n",
       "0    K.P.Huber and G.Herzberg, Molecular Spectra an...          OCT 1974  \n",
       "1    K.P.Huber and G.Herzberg, Molecular Spectra an...          OCT 1974  \n",
       "2    K.P.Huber and G.Herzberg, Molecular Spectra an...          OCT 1974  \n",
       "3    K.P.Huber and G.Herzberg, Molecular Spectra an...          FEB 1975  \n",
       "4    K.P.Huber and G.Herzberg, Molecular Spectra an...          FEB 1975  \n",
       "..                                                 ...               ...  \n",
       "615  K. L. Dunfield, et al. J. Mol. Spec. 174, 433-...              1995  \n",
       "616    T. Ma, et al., J. Phys. Chem. A, 113, 8038-8044              2009  \n",
       "617   John F. Barry, PhD thesis, Yale University, 2013              2013  \n",
       "618              Dulick M. et al, ApJ, 594, 651 (2003)          Sep 2003  \n",
       "619  W. Szajna, M. Zachwieja, J. Mol. Spectrosc., 2...              2010  \n",
       "\n",
       "[620 rows x 14 columns]"
      ]
     },
     "execution_count": 3,
     "metadata": {},
     "output_type": "execute_result"
    }
   ],
   "source": [
    "df"
   ]
  },
  {
   "cell_type": "markdown",
   "metadata": {},
   "source": [
    "# Data cleaning"
   ]
  },
  {
   "cell_type": "code",
   "execution_count": 26,
   "metadata": {},
   "outputs": [
    {
     "name": "stdout",
     "output_type": "stream",
     "text": [
      "Number of diatomic Morse potential available to plot: 527\n",
      "Number of diatomic molecules available to plot: 180\n"
     ]
    }
   ],
   "source": [
    "# Remove the records where the vibrational spectrum constants have NaN\n",
    "\n",
    "df = df.dropna(subset=['omega_ex_e (cm^{-1})','omega_e (cm^{-1})','Re (\\AA)','Te (cm^{-1})','Reduced mass'])\n",
    "# Drop off the the rows where wexe < 0, which will make fitting Morse potential a problem\n",
    "df = df[df['omega_ex_e (cm^{-1})']>=0]\n",
    "\n",
    "print(\"Number of diatomic Morse potential available to plot:\",len(df))\n",
    "print(\"Number of diatomic molecules available to plot:\", len(df['Molecule'].unique()))"
   ]
  },
  {
   "cell_type": "markdown",
   "metadata": {},
   "source": [
    "# Data visualization"
   ]
  },
  {
   "cell_type": "code",
   "execution_count": 6,
   "metadata": {},
   "outputs": [
    {
     "data": {
      "application/vnd.jupyter.widget-view+json": {
       "model_id": "fe81e6b4b63a489c956c50f8876c93f8",
       "version_major": 2,
       "version_minor": 0
      },
      "text/plain": [
       "Canvas(toolbar=Toolbar(toolitems=[('Home', 'Reset original view', 'home', 'home'), ('Back', 'Back to previous …"
      ]
     },
     "metadata": {},
     "output_type": "display_data"
    },
    {
     "data": {
      "application/vnd.jupyter.widget-view+json": {
       "model_id": "f0928c43f4354a3da3375bb3ef9e7f47",
       "version_major": 2,
       "version_minor": 0
      },
      "text/plain": [
       "interactive(children=(Dropdown(description='Molecule:', index=119, options=('AgAl', 'AgBi', 'AgBr', 'AgCl', 'A…"
      ]
     },
     "metadata": {},
     "output_type": "display_data"
    }
   ],
   "source": [
    "# Create the dropdown list of diatomic molecules available\n",
    "molecule_options=widgets.Dropdown(\n",
    "    options=df['Molecule'].unique(),\n",
    "    value='OH',\n",
    "    description='Molecule:',\n",
    "    disabled=False,\n",
    ")\n",
    "\n",
    "###########################################################################\n",
    "# Now define the functions to plot Morse potential. \n",
    "# The code is adapted from: https://scipython.com/blog/the-morse-oscillator/\n",
    "# Major modifications to the code:\n",
    "# 1. All member variables of the Morse class are stored in atomic units (energy: Hartree, mass: m_e, length: bohr, hbar=1) to simplify calculations and avoid unit conversions\n",
    "# 2. Reduced mass as input instead of mA and mB\n",
    "# 3. Plots have eV used for energy unit\n",
    "# 4. Plot different electronic states of the same molecule on the same figure, label term symbol of the electronic states along the potential\n",
    "##############################################################################\n",
    "\n",
    "# Let's convert cm-1 to Eh (Hartree)\n",
    "wavenumber2Hartree = 4.55633e-6\n",
    "mp = 1836 # Porton mass is 1836 mass of electron\n",
    "angstrom2Bohr = 1.88973\n",
    "hbar = 1\n",
    "hartree2eV = 27.2114\n",
    "bohr2angstrom = 0.529177\n",
    "\n",
    "class Morse:\n",
    "    \"\"\"A class representing the Morse oscillator model of a diatomic.\"\"\"\n",
    "\n",
    "    def __init__(self, mu, we, wexe, re, Te):\n",
    "        \"\"\"Initialize the Morse model for a diatomic molecule.\n",
    "        Input arguments:\n",
    "        mu input reduced mass (mass unit: proton mass).\n",
    "        we, wexe are the Morse parameters (cm-1).\n",
    "        re is the equilibrium bond length (Angstrom).\n",
    "        Te is the electronic energy (cm-1).\n",
    "       \n",
    "        class member variables:(everything in atomic unit)\n",
    "        mu, in electron mass (standard in atomic unit)\n",
    "        we, wexe in Hartree\n",
    "        re in bohr\n",
    "        De in hartree\n",
    "        D0 in hatree\n",
    "        \"\"\"\n",
    "        # First of all, convert everything to atomic unit\n",
    "        # where hbar = 1, me=1, Eh=1\n",
    "        self.mu = mu*mp \n",
    "        self.we, self.wexe = we*wavenumber2Hartree, wexe*wavenumber2Hartree\n",
    "        self.re = re*angstrom2Bohr \n",
    "        self.Te = Te*wavenumber2Hartree \n",
    "        self.De = self.we**2*hbar / 4 / self.wexe\n",
    "\n",
    "        #  Morse parameters, a and lambda.\n",
    "        self.a = self.calc_a()\n",
    "        self.ke = 2*self.De*self.a**2\n",
    "        self.lam = np.sqrt(2 * self.mu * self.De) / self.a / hbar\n",
    "        # Maximum vibrational quantum number.\n",
    "        self.vmax = int(np.floor(self.lam - 0.5))\n",
    "\n",
    "        self.make_rgrid()\n",
    "        self.V = self.Vmorse(self.r)\n",
    "\n",
    "    def make_rgrid(self, n=1000, rmin=None, rmax=None, retstep=False):\n",
    "        \"\"\"Make a suitable grid of internuclear separations.\"\"\"\n",
    "\n",
    "        self.rmin, self.rmax = rmin, rmax\n",
    "        if rmin is None:\n",
    "            # minimum r where V(r)=De on repulsive edge\n",
    "            self.rmin = self.re - np.log(2) / self.a\n",
    "        if rmax is None:\n",
    "            # maximum r where V(r)=f.De\n",
    "            f = 0.999\n",
    "            self.rmax = self.re - np.log(1-f)/self.a\n",
    "        self.r, self.dr = np.linspace(self.rmin, self.rmax, n,\n",
    "                                      retstep=True)\n",
    "        if retstep:\n",
    "            return self.r, self.dr\n",
    "        return self.r\n",
    "\n",
    "    def calc_a(self):\n",
    "        \"\"\"Calculate the Morse parameter, a.\n",
    "\n",
    "        Returns the Morse parameter, a, in unit bohr^-1\n",
    "\n",
    "        \"\"\"\n",
    "        return self.we*np.sqrt(self.mu/2.0/self.De)\n",
    "\n",
    "    def Vmorse(self, r):\n",
    "        \"\"\"Calculate the Morse potential, V(r).\n",
    "\n",
    "        Returns the Morse potential at r (in m) for parameters De\n",
    "        (in J), a (in m-1) and re (in m).\n",
    "\n",
    "        \"\"\"\n",
    "\n",
    "        return self.De * (1 - np.exp(-self.a*(r - self.re)))**2\n",
    "\n",
    "    def Emorse(self, v):\n",
    "        \"\"\"Calculate the energy of a Morse oscillator in state v.\n",
    "\n",
    "        Returns the energy of a Morse oscillator parameterized by\n",
    "        equilibrium vibrational frequency we and anharmonicity\n",
    "        constant, wexe (both in cm-1).\n",
    "\n",
    "        \"\"\"\n",
    "        vphalf = v + 0.5\n",
    "        return (self.we * vphalf - self.wexe * vphalf**2)\n",
    "\n",
    "    def calc_turning_pts(self, E):\n",
    "        \"\"\"Calculate the classical turning points at energy E.\n",
    "\n",
    "        Returns rm and rp, the classical turning points of the Morse\n",
    "        oscillator at energy E (provided in hatree). rm < rp.\n",
    "\n",
    "        \"\"\"\n",
    "\n",
    "        b = np.sqrt(E / self.De)\n",
    "        return (self.re - np.log(1+b) / self.a,\n",
    "                self.re - np.log(1-b) / self.a)\n",
    "\n",
    "    def calc_psi(self, v, r=None, normed=True, psi_max=1):\n",
    "        \"\"\"Calculates the Morse oscillator wavefunction, psi_v.\n",
    "\n",
    "        Returns the Morse oscillator wavefunction at vibrational\n",
    "        quantum number v. The returned function is \"normalized\" to\n",
    "        give peak value psi_max.\n",
    "\n",
    "        \"\"\"\n",
    "\n",
    "        if r is None:\n",
    "            r = self.r\n",
    "        xi = 2 * self.lam * np.exp(-self.a*(r - self.re))\n",
    "        alpha = 2*(self.lam - v) - 1\n",
    "        psi = (xi**(self.lam-v-0.5) * np.exp(-xi/2) *\n",
    "               genlaguerre(v, alpha)(xi))\n",
    "        psi *= psi_max / np.max(psi)\n",
    "        return psi\n",
    "\n",
    "    def calc_psi_Normalized(self, v, xi):\n",
    "        alpha = 2*(self.lam - v) - 1\n",
    "        psi = (xi**(self.lam-v-0.5) * np.exp(-xi/2) *\n",
    "               genlaguerre(v, alpha)(xi))\n",
    "        Nv = np.sqrt(factorial(v) * (2*self.lam - 2*v - 1) /\n",
    "                     gamma(2*self.lam - v))\n",
    "        return Nv * psi\n",
    "\n",
    "    def plot_V(self, ax, **kwargs):\n",
    "        \"\"\"Plot the Morse potential on Axes ax.\"\"\"\n",
    "\n",
    "        ax.plot(self.r*bohr2angstrom, (self.V+self.Te)*hartree2eV, **kwargs)\n",
    "\n",
    "    def get_vmax(self):\n",
    "        \"\"\"Return the maximum vibrational quantum number.\"\"\"\n",
    "\n",
    "        return int(self.we / 2 / self.wexe - 0.5)\n",
    "\n",
    "    def draw_Elines(self, vlist, ax, **kwargs):\n",
    "        \"\"\"Draw lines on Axes ax representing the energy level(s) in vlist.\"\"\"\n",
    "\n",
    "        if isinstance(vlist, int):\n",
    "            vlist = [vlist]\n",
    "        for v in vlist:\n",
    "            E = self.Emorse(v)\n",
    "            rm, rp = self.calc_turning_pts(E)\n",
    "            ax.hlines((E+self.Te)*hartree2eV, rm*bohr2angstrom, rp*bohr2angstrom, **kwargs)\n",
    "\n",
    "    def label_levels(self, vlist, ax):\n",
    "        if isinstance(vlist, int):\n",
    "            vlist = [vlist]\n",
    "\n",
    "        for v in vlist:\n",
    "            E = self.Emorse(v)\n",
    "            rm, rp = self.calc_turning_pts(E)\n",
    "            ax.text(s=r'$v={}$'.format(v), x=rp*bohr2angstrom + 0.6,\n",
    "                    y=(E+self.Te)*hartree2eV, va='center')\n",
    "            \n",
    "    def label_electronstate(self, state_str,ax):\n",
    "        E = self.Emorse(self.vmax)\n",
    "        ax.text(s=state_str, x=np.max(self.r)*bohr2angstrom,\n",
    "                y=(E+self.Te)*hartree2eV-0.2, va='center')\n",
    "\n",
    "    def plot_psi(self, vlist, ax, r_plot=None, scaling=1, **kwargs):\n",
    "        \"\"\"Plot the Morse wavefunction(s) in vlist on Axes ax.\"\"\"\n",
    "        if isinstance(vlist, int):\n",
    "            vlist = [vlist]\n",
    "        for v in vlist:\n",
    "            E = self.Emorse(v)*hartree2eV\n",
    "            if r_plot is None:\n",
    "                rm, rp = self.calc_turning_pts(E)\n",
    "                x = self.r[self.r<rp*1.2]\n",
    "            else:\n",
    "                x = r_plot\n",
    "            psi = self.calc_psi(v, r=x, psi_max=self.we/2)\n",
    "            psi_plot = psi*scaling + (self.Emorse(v)+self.Te)*hartree2eV\n",
    "            ax.plot(x*bohr2angstrom, psi_plot, **kwargs)\n",
    "            \n",
    "\n",
    "##########################################\n",
    "# Below is the interactive plotting part #\n",
    "##########################################\n",
    "\n",
    "fig= plt.figure()\n",
    "@widgets.interact(molname=molecule_options)\n",
    "def update(molname):\n",
    "    fig.clf()\n",
    "    mol = df[df['Molecule']==molname]\n",
    "    states=mol['Electronic state'].values\n",
    "    ax = plt.gca()\n",
    "    # Set the default color cycle\n",
    "    colors=['blue', 'red', 'green', 'cyan', 'orange', 'gray', 'purple', 'brown', 'teal', 'coral']\n",
    "    i_color=0\n",
    "    for state in states:\n",
    "        mycolor = colors[i_color]\n",
    "        i_color+=1\n",
    "        we = mol[mol['Electronic state']==state]['omega_e (cm^{-1})'].values[0]\n",
    "        wexe = mol[mol['Electronic state']==state]['omega_ex_e (cm^{-1})'].values[0]\n",
    "        re = mol[mol['Electronic state']==state]['Re (\\AA)'].values[0]\n",
    "        Te =  mol[mol['Electronic state']==state]['Te (cm^{-1})'].values[0]\n",
    "        mu = mol[mol['Electronic state']==state]['Reduced mass'].values[0]\n",
    "\n",
    "        X = Morse(mu, we, wexe, re, Te)\n",
    "        X.make_rgrid()\n",
    "        X.V = X.Vmorse(X.r)\n",
    "\n",
    "        X.plot_V(ax,color=mycolor)\n",
    "\n",
    "        X.draw_Elines(range(X.vmax), ax,linewidth=0.5, color=mycolor)\n",
    "        X.label_electronstate(state,ax)\n",
    "        #X.plot_psi([2, 14], ax, scaling=2, color=COLOUR1)\n",
    "        #X.label_levels([2, 14], ax)\n",
    "\n",
    "        ax.set_xlabel(r'$r\\;/\\mathrm{\\AA}$')\n",
    "        ax.set_ylabel(r'Energy (eV)')\n",
    "        ax.spines['top'].set_visible(False)\n",
    "        ax.spines['right'].set_visible(False)\n"
   ]
  },
  {
   "cell_type": "code",
   "execution_count": null,
   "metadata": {},
   "outputs": [],
   "source": [
    "for i in range(0,100,5):\n",
    "    fig = plt.figure()\n",
    "    molname = df['Molecule'].unique()[i]\n",
    "    mol = df[df['Molecule']==molname]\n",
    "    states=mol['Electronic state'].values\n",
    "    ax = plt.gca()\n",
    "    # Set the default color cycle\n",
    "    colors=['blue', 'red', 'green', 'cyan', 'orange', 'gray', 'purple', 'brown', 'teal', 'coral']\n",
    "    i_color=0\n",
    "    for state in states:\n",
    "        mycolor = colors[i_color]\n",
    "        i_color+=1\n",
    "        we = mol[mol['Electronic state']==state]['omega_e (cm^{-1})'].values[0]\n",
    "        wexe = mol[mol['Electronic state']==state]['omega_ex_e (cm^{-1})'].values[0]\n",
    "        re = mol[mol['Electronic state']==state]['Re (\\AA)'].values[0]\n",
    "        Te =  mol[mol['Electronic state']==state]['Te (cm^{-1})'].values[0]\n",
    "        mu = mol[mol['Electronic state']==state]['Reduced mass'].values[0]\n",
    "\n",
    "        X = Morse(mu, we, wexe, re, Te)\n",
    "        X.make_rgrid()\n",
    "        X.V = X.Vmorse(X.r)\n",
    "\n",
    "        X.plot_V(ax,color=mycolor)\n",
    "\n",
    "        X.draw_Elines(range(X.vmax), ax,linewidth=0.5, color=mycolor)\n",
    "        X.label_electronstate(state,ax)\n",
    "        #X.plot_psi([2, 14], ax, scaling=2, color=COLOUR1)\n",
    "        #X.label_levels([2, 14], ax)\n",
    "\n",
    "        ax.set_xlabel(r'$r\\;/\\mathrm{\\AA}$')\n",
    "        ax.set_ylabel(r'Energy (eV)')\n",
    "        ax.spines['top'].set_visible(False)\n",
    "        ax.spines['right'].set_visible(False)\n",
    "\n",
    "#         plt.title('Morse potential of ' + molname+'\\n')\n",
    "#         plt.savefig(molname+'-Morse.jpg')"
   ]
  },
  {
   "cell_type": "markdown",
   "metadata": {},
   "source": [
    "# Data analysis"
   ]
  },
  {
   "cell_type": "markdown",
   "metadata": {},
   "source": [
    "## For diatomic molecules, what is the typical gap between the vibrational states $v=0$ and $v=1$?"
   ]
  },
  {
   "cell_type": "code",
   "execution_count": 62,
   "metadata": {},
   "outputs": [],
   "source": [
    "# First create an array of the energy difference between v=0 and v=1 for all records\n",
    "dE_v = {}\n",
    "for i in range(0,len(df)):\n",
    "        row = df.iloc[i]\n",
    "        we = row['omega_e (cm^{-1})']\n",
    "        wexe = row['omega_ex_e (cm^{-1})']\n",
    "        re = row['Re (\\AA)']\n",
    "        Te =  row['Te (cm^{-1})']\n",
    "        mu = row['Reduced mass']\n",
    "\n",
    "        X = Morse(mu, we, wexe, re, Te)\n",
    "        diff = X.Emorse(1)-X.Emorse(0)\n",
    "        \n",
    "        mol = row['Molecule']\n",
    "        state = row['Electronic state']\n",
    "        dE_v[mol+' '+state]=diff*hartree2eV"
   ]
  },
  {
   "cell_type": "markdown",
   "metadata": {
    "tags": []
   },
   "source": [
    "### Create a histogram to visualize"
   ]
  },
  {
   "cell_type": "code",
   "execution_count": 63,
   "metadata": {},
   "outputs": [
    {
     "data": {
      "application/vnd.jupyter.widget-view+json": {
       "model_id": "14e7e64d6f864112ac79e8604bb2e37a",
       "version_major": 2,
       "version_minor": 0
      },
      "text/plain": [
       "Canvas(toolbar=Toolbar(toolitems=[('Home', 'Reset original view', 'home', 'home'), ('Back', 'Back to previous …"
      ]
     },
     "metadata": {},
     "output_type": "display_data"
    },
    {
     "data": {
      "text/plain": [
       "Text(0, 0.5, 'frequency')"
      ]
     },
     "execution_count": 63,
     "metadata": {},
     "output_type": "execute_result"
    }
   ],
   "source": [
    "n_bins = 20\n",
    "\n",
    "fig_hist1 = plt.figure()\n",
    "\n",
    "# We can set the number of bins with the `bins` kwarg\n",
    "plt.hist(dE_v.values(), bins=n_bins)\n",
    "plt.xlabel(r'$\\Delta$E (eV)')\n",
    "plt.ylabel('frequency')"
   ]
  },
  {
   "cell_type": "markdown",
   "metadata": {},
   "source": [
    "### Find the molecules with max/min dE"
   ]
  },
  {
   "cell_type": "code",
   "execution_count": 71,
   "metadata": {},
   "outputs": [
    {
     "name": "stdout",
     "output_type": "stream",
     "text": [
      "min PbO B $1$\n",
      "max HF X $^1\\Sigma^+$\n"
     ]
    }
   ],
   "source": [
    "value_list = list(dE_v.values())\n",
    "key_list = list(dE_v.keys())\n",
    "print('min',key_list[value_list.index(min(dE_v.values()))])\n",
    "print('max',key_list[value_list.index(max(dE_v.values()))])"
   ]
  },
  {
   "cell_type": "markdown",
   "metadata": {},
   "source": [
    "## For diatomic molecules, what is the typical gap between the two lowest electronic states?\n"
   ]
  },
  {
   "cell_type": "code",
   "execution_count": 47,
   "metadata": {},
   "outputs": [],
   "source": [
    "mol_multiES = []\n",
    "for mol in df['Molecule'].unique():\n",
    "    if len(df[df['Molecule']==mol]) > 1:\n",
    "        mol_multiES.append(mol)"
   ]
  },
  {
   "cell_type": "code",
   "execution_count": 38,
   "metadata": {},
   "outputs": [
    {
     "data": {
      "text/plain": [
       "(180, 172)"
      ]
     },
     "execution_count": 38,
     "metadata": {},
     "output_type": "execute_result"
    }
   ],
   "source": [
    "len(df['Molecule'].unique()), len(mol_multiES)"
   ]
  },
  {
   "cell_type": "markdown",
   "metadata": {},
   "source": [
    "create a subset of df that only contains those molecules we care about (with multiple electronic states available)"
   ]
  },
  {
   "cell_type": "code",
   "execution_count": 59,
   "metadata": {},
   "outputs": [],
   "source": [
    "dE_e ={}\n",
    "for mol in mol_multiES:\n",
    "    df_mol = df[df['Molecule']==mol]\n",
    "    Te_mol = df_mol['Te (cm^{-1})'].values\n",
    "    Te_mol.sort()\n",
    "    diff = (Te_mol[1]-Te_mol[0])*wavenumber2Hartree*hartree2eV\n",
    "    dE_e[mol] = diff"
   ]
  },
  {
   "cell_type": "markdown",
   "metadata": {
    "tags": []
   },
   "source": [
    "### Create a histogram to visualize"
   ]
  },
  {
   "cell_type": "code",
   "execution_count": 61,
   "metadata": {},
   "outputs": [
    {
     "data": {
      "application/vnd.jupyter.widget-view+json": {
       "model_id": "01cd1baaefae43279f3dd9ebe1e2344b",
       "version_major": 2,
       "version_minor": 0
      },
      "text/plain": [
       "Canvas(toolbar=Toolbar(toolitems=[('Home', 'Reset original view', 'home', 'home'), ('Back', 'Back to previous …"
      ]
     },
     "metadata": {},
     "output_type": "display_data"
    },
    {
     "data": {
      "text/plain": [
       "Text(0, 0.5, 'frequency')"
      ]
     },
     "execution_count": 61,
     "metadata": {},
     "output_type": "execute_result"
    }
   ],
   "source": [
    "n_bins = 20\n",
    "\n",
    "fig_hist2 = plt.figure()\n",
    "\n",
    "# We can set the number of bins with the `bins` kwarg\n",
    "plt.hist(dE_e.values(), bins=n_bins)\n",
    "plt.xlabel(r'$\\Delta$E (eV)')\n",
    "plt.ylabel('frequency')"
   ]
  },
  {
   "cell_type": "markdown",
   "metadata": {},
   "source": [
    "### Find the molecules with max/min dE"
   ]
  },
  {
   "cell_type": "code",
   "execution_count": 72,
   "metadata": {},
   "outputs": [
    {
     "name": "stdout",
     "output_type": "stream",
     "text": [
      "min TiS\n",
      "max DF\n"
     ]
    }
   ],
   "source": [
    "value_list = list(dE_e.values())\n",
    "key_list = list(dE_e.keys())\n",
    "print('min',key_list[value_list.index(min(dE_e.values()))])\n",
    "print('max',key_list[value_list.index(max(dE_e.values()))])"
   ]
  }
 ],
 "metadata": {
  "kernelspec": {
   "display_name": "Python 3 (ipykernel)",
   "language": "python",
   "name": "python3"
  },
  "language_info": {
   "codemirror_mode": {
    "name": "ipython",
    "version": 3
   },
   "file_extension": ".py",
   "mimetype": "text/x-python",
   "name": "python",
   "nbconvert_exporter": "python",
   "pygments_lexer": "ipython3",
   "version": "3.9.6"
  }
 },
 "nbformat": 4,
 "nbformat_minor": 4
}
