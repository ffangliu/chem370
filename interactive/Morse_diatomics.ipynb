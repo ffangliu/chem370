{
 "cells": [
  {
   "cell_type": "code",
   "execution_count": 1,
   "metadata": {},
   "outputs": [
    {
     "name": "stdout",
     "output_type": "stream",
     "text": [
      "--2022-08-18 16:44:24--  https://rios.mp.fhi.mpg.de/export_table.php\n",
      "Resolving rios.mp.fhi.mpg.de (rios.mp.fhi.mpg.de)... 134.76.9.14\n",
      "Connecting to rios.mp.fhi.mpg.de (rios.mp.fhi.mpg.de)|134.76.9.14|:443... connected.\n",
      "HTTP request sent, awaiting response... 200 OK\n",
      "Length: unspecified [text/csv]\n",
      "Saving to: ‘moleculedata.csv’\n",
      "\n",
      "moleculedata.csv        [  <=>               ] 117.53K   324KB/s    in 0.4s    \n",
      "\n",
      "2022-08-18 16:44:28 (324 KB/s) - ‘moleculedata.csv’ saved [120352]\n",
      "\n"
     ]
    },
    {
     "ename": "ModuleNotFoundError",
     "evalue": "No module named 'ipympl'",
     "output_type": "error",
     "traceback": [
      "\u001b[0;31m---------------------------------------------------------------------------\u001b[0m",
      "\u001b[0;31mModuleNotFoundError\u001b[0m                       Traceback (most recent call last)",
      "\u001b[0;32m<ipython-input-1-cb9ef87f17f8>\u001b[0m in \u001b[0;36m<module>\u001b[0;34m\u001b[0m\n\u001b[1;32m      6\u001b[0m \u001b[0mget_ipython\u001b[0m\u001b[0;34m(\u001b[0m\u001b[0;34m)\u001b[0m\u001b[0;34m.\u001b[0m\u001b[0msystem\u001b[0m\u001b[0;34m(\u001b[0m\u001b[0;34m'wget --trust-server-names https://rios.mp.fhi.mpg.de/export_table.php -O moleculedata.csv'\u001b[0m\u001b[0;34m)\u001b[0m\u001b[0;34m\u001b[0m\u001b[0m\n\u001b[1;32m      7\u001b[0m \u001b[0;34m\u001b[0m\u001b[0m\n\u001b[0;32m----> 8\u001b[0;31m \u001b[0mget_ipython\u001b[0m\u001b[0;34m(\u001b[0m\u001b[0;34m)\u001b[0m\u001b[0;34m.\u001b[0m\u001b[0mrun_line_magic\u001b[0m\u001b[0;34m(\u001b[0m\u001b[0;34m'matplotlib'\u001b[0m\u001b[0;34m,\u001b[0m \u001b[0;34m'widget'\u001b[0m\u001b[0;34m)\u001b[0m\u001b[0;34m\u001b[0m\u001b[0m\n\u001b[0m\u001b[1;32m      9\u001b[0m \u001b[0;32mimport\u001b[0m \u001b[0mipywidgets\u001b[0m \u001b[0;32mas\u001b[0m \u001b[0mwidgets\u001b[0m\u001b[0;34m\u001b[0m\u001b[0m\n\u001b[1;32m     10\u001b[0m \u001b[0;32mimport\u001b[0m \u001b[0mpandas\u001b[0m \u001b[0;32mas\u001b[0m \u001b[0mpd\u001b[0m\u001b[0;34m\u001b[0m\u001b[0m\n",
      "\u001b[0;32m~/opt/anaconda3/envs/chem531/lib/python3.7/site-packages/IPython/core/interactiveshell.py\u001b[0m in \u001b[0;36mrun_line_magic\u001b[0;34m(self, magic_name, line, _stack_depth)\u001b[0m\n\u001b[1;32m   2324\u001b[0m                 \u001b[0mkwargs\u001b[0m\u001b[0;34m[\u001b[0m\u001b[0;34m'local_ns'\u001b[0m\u001b[0;34m]\u001b[0m \u001b[0;34m=\u001b[0m \u001b[0mself\u001b[0m\u001b[0;34m.\u001b[0m\u001b[0mget_local_scope\u001b[0m\u001b[0;34m(\u001b[0m\u001b[0mstack_depth\u001b[0m\u001b[0;34m)\u001b[0m\u001b[0;34m\u001b[0m\u001b[0m\n\u001b[1;32m   2325\u001b[0m             \u001b[0;32mwith\u001b[0m \u001b[0mself\u001b[0m\u001b[0;34m.\u001b[0m\u001b[0mbuiltin_trap\u001b[0m\u001b[0;34m:\u001b[0m\u001b[0;34m\u001b[0m\u001b[0m\n\u001b[0;32m-> 2326\u001b[0;31m                 \u001b[0mresult\u001b[0m \u001b[0;34m=\u001b[0m \u001b[0mfn\u001b[0m\u001b[0;34m(\u001b[0m\u001b[0;34m*\u001b[0m\u001b[0margs\u001b[0m\u001b[0;34m,\u001b[0m \u001b[0;34m**\u001b[0m\u001b[0mkwargs\u001b[0m\u001b[0;34m)\u001b[0m\u001b[0;34m\u001b[0m\u001b[0m\n\u001b[0m\u001b[1;32m   2327\u001b[0m             \u001b[0;32mreturn\u001b[0m \u001b[0mresult\u001b[0m\u001b[0;34m\u001b[0m\u001b[0m\n\u001b[1;32m   2328\u001b[0m \u001b[0;34m\u001b[0m\u001b[0m\n",
      "\u001b[0;32m<decorator-gen-101>\u001b[0m in \u001b[0;36mmatplotlib\u001b[0;34m(self, line)\u001b[0m\n",
      "\u001b[0;32m~/opt/anaconda3/envs/chem531/lib/python3.7/site-packages/IPython/core/magic.py\u001b[0m in \u001b[0;36m<lambda>\u001b[0;34m(f, *a, **k)\u001b[0m\n\u001b[1;32m    185\u001b[0m     \u001b[0;31m# but it's overkill for just that one bit of state.\u001b[0m\u001b[0;34m\u001b[0m\u001b[0;34m\u001b[0m\u001b[0m\n\u001b[1;32m    186\u001b[0m     \u001b[0;32mdef\u001b[0m \u001b[0mmagic_deco\u001b[0m\u001b[0;34m(\u001b[0m\u001b[0marg\u001b[0m\u001b[0;34m)\u001b[0m\u001b[0;34m:\u001b[0m\u001b[0;34m\u001b[0m\u001b[0m\n\u001b[0;32m--> 187\u001b[0;31m         \u001b[0mcall\u001b[0m \u001b[0;34m=\u001b[0m \u001b[0;32mlambda\u001b[0m \u001b[0mf\u001b[0m\u001b[0;34m,\u001b[0m \u001b[0;34m*\u001b[0m\u001b[0ma\u001b[0m\u001b[0;34m,\u001b[0m \u001b[0;34m**\u001b[0m\u001b[0mk\u001b[0m\u001b[0;34m:\u001b[0m \u001b[0mf\u001b[0m\u001b[0;34m(\u001b[0m\u001b[0;34m*\u001b[0m\u001b[0ma\u001b[0m\u001b[0;34m,\u001b[0m \u001b[0;34m**\u001b[0m\u001b[0mk\u001b[0m\u001b[0;34m)\u001b[0m\u001b[0;34m\u001b[0m\u001b[0m\n\u001b[0m\u001b[1;32m    188\u001b[0m \u001b[0;34m\u001b[0m\u001b[0m\n\u001b[1;32m    189\u001b[0m         \u001b[0;32mif\u001b[0m \u001b[0mcallable\u001b[0m\u001b[0;34m(\u001b[0m\u001b[0marg\u001b[0m\u001b[0;34m)\u001b[0m\u001b[0;34m:\u001b[0m\u001b[0;34m\u001b[0m\u001b[0m\n",
      "\u001b[0;32m~/opt/anaconda3/envs/chem531/lib/python3.7/site-packages/IPython/core/magics/pylab.py\u001b[0m in \u001b[0;36mmatplotlib\u001b[0;34m(self, line)\u001b[0m\n\u001b[1;32m     97\u001b[0m             \u001b[0mprint\u001b[0m\u001b[0;34m(\u001b[0m\u001b[0;34m\"Available matplotlib backends: %s\"\u001b[0m \u001b[0;34m%\u001b[0m \u001b[0mbackends_list\u001b[0m\u001b[0;34m)\u001b[0m\u001b[0;34m\u001b[0m\u001b[0m\n\u001b[1;32m     98\u001b[0m         \u001b[0;32melse\u001b[0m\u001b[0;34m:\u001b[0m\u001b[0;34m\u001b[0m\u001b[0m\n\u001b[0;32m---> 99\u001b[0;31m             \u001b[0mgui\u001b[0m\u001b[0;34m,\u001b[0m \u001b[0mbackend\u001b[0m \u001b[0;34m=\u001b[0m \u001b[0mself\u001b[0m\u001b[0;34m.\u001b[0m\u001b[0mshell\u001b[0m\u001b[0;34m.\u001b[0m\u001b[0menable_matplotlib\u001b[0m\u001b[0;34m(\u001b[0m\u001b[0margs\u001b[0m\u001b[0;34m.\u001b[0m\u001b[0mgui\u001b[0m\u001b[0;34m.\u001b[0m\u001b[0mlower\u001b[0m\u001b[0;34m(\u001b[0m\u001b[0;34m)\u001b[0m \u001b[0;32mif\u001b[0m \u001b[0misinstance\u001b[0m\u001b[0;34m(\u001b[0m\u001b[0margs\u001b[0m\u001b[0;34m.\u001b[0m\u001b[0mgui\u001b[0m\u001b[0;34m,\u001b[0m \u001b[0mstr\u001b[0m\u001b[0;34m)\u001b[0m \u001b[0;32melse\u001b[0m \u001b[0margs\u001b[0m\u001b[0;34m.\u001b[0m\u001b[0mgui\u001b[0m\u001b[0;34m)\u001b[0m\u001b[0;34m\u001b[0m\u001b[0m\n\u001b[0m\u001b[1;32m    100\u001b[0m             \u001b[0mself\u001b[0m\u001b[0;34m.\u001b[0m\u001b[0m_show_matplotlib_backend\u001b[0m\u001b[0;34m(\u001b[0m\u001b[0margs\u001b[0m\u001b[0;34m.\u001b[0m\u001b[0mgui\u001b[0m\u001b[0;34m,\u001b[0m \u001b[0mbackend\u001b[0m\u001b[0;34m)\u001b[0m\u001b[0;34m\u001b[0m\u001b[0m\n\u001b[1;32m    101\u001b[0m \u001b[0;34m\u001b[0m\u001b[0m\n",
      "\u001b[0;32m~/opt/anaconda3/envs/chem531/lib/python3.7/site-packages/IPython/core/interactiveshell.py\u001b[0m in \u001b[0;36menable_matplotlib\u001b[0;34m(self, gui)\u001b[0m\n\u001b[1;32m   3503\u001b[0m                 \u001b[0mgui\u001b[0m\u001b[0;34m,\u001b[0m \u001b[0mbackend\u001b[0m \u001b[0;34m=\u001b[0m \u001b[0mpt\u001b[0m\u001b[0;34m.\u001b[0m\u001b[0mfind_gui_and_backend\u001b[0m\u001b[0;34m(\u001b[0m\u001b[0mself\u001b[0m\u001b[0;34m.\u001b[0m\u001b[0mpylab_gui_select\u001b[0m\u001b[0;34m)\u001b[0m\u001b[0;34m\u001b[0m\u001b[0m\n\u001b[1;32m   3504\u001b[0m \u001b[0;34m\u001b[0m\u001b[0m\n\u001b[0;32m-> 3505\u001b[0;31m         \u001b[0mpt\u001b[0m\u001b[0;34m.\u001b[0m\u001b[0mactivate_matplotlib\u001b[0m\u001b[0;34m(\u001b[0m\u001b[0mbackend\u001b[0m\u001b[0;34m)\u001b[0m\u001b[0;34m\u001b[0m\u001b[0m\n\u001b[0m\u001b[1;32m   3506\u001b[0m         \u001b[0mpt\u001b[0m\u001b[0;34m.\u001b[0m\u001b[0mconfigure_inline_support\u001b[0m\u001b[0;34m(\u001b[0m\u001b[0mself\u001b[0m\u001b[0;34m,\u001b[0m \u001b[0mbackend\u001b[0m\u001b[0;34m)\u001b[0m\u001b[0;34m\u001b[0m\u001b[0m\n\u001b[1;32m   3507\u001b[0m \u001b[0;34m\u001b[0m\u001b[0m\n",
      "\u001b[0;32m~/opt/anaconda3/envs/chem531/lib/python3.7/site-packages/IPython/core/pylabtools.py\u001b[0m in \u001b[0;36mactivate_matplotlib\u001b[0;34m(backend)\u001b[0m\n\u001b[1;32m    318\u001b[0m     \u001b[0;31m# when this function runs.\u001b[0m\u001b[0;34m\u001b[0m\u001b[0;34m\u001b[0m\u001b[0m\n\u001b[1;32m    319\u001b[0m     \u001b[0;31m# So avoid needing matplotlib attribute-lookup to access pyplot.\u001b[0m\u001b[0;34m\u001b[0m\u001b[0;34m\u001b[0m\u001b[0m\n\u001b[0;32m--> 320\u001b[0;31m     \u001b[0;32mfrom\u001b[0m \u001b[0mmatplotlib\u001b[0m \u001b[0;32mimport\u001b[0m \u001b[0mpyplot\u001b[0m \u001b[0;32mas\u001b[0m \u001b[0mplt\u001b[0m\u001b[0;34m\u001b[0m\u001b[0m\n\u001b[0m\u001b[1;32m    321\u001b[0m \u001b[0;34m\u001b[0m\u001b[0m\n\u001b[1;32m    322\u001b[0m     \u001b[0mplt\u001b[0m\u001b[0;34m.\u001b[0m\u001b[0mswitch_backend\u001b[0m\u001b[0;34m(\u001b[0m\u001b[0mbackend\u001b[0m\u001b[0;34m)\u001b[0m\u001b[0;34m\u001b[0m\u001b[0m\n",
      "\u001b[0;32m~/opt/anaconda3/envs/chem531/lib/python3.7/site-packages/matplotlib/pyplot.py\u001b[0m in \u001b[0;36m<module>\u001b[0;34m\u001b[0m\n\u001b[1;32m   2318\u001b[0m     \u001b[0mdict\u001b[0m\u001b[0;34m.\u001b[0m\u001b[0m__setitem__\u001b[0m\u001b[0;34m(\u001b[0m\u001b[0mrcParams\u001b[0m\u001b[0;34m,\u001b[0m \u001b[0;34m\"backend\"\u001b[0m\u001b[0;34m,\u001b[0m \u001b[0mrcsetup\u001b[0m\u001b[0;34m.\u001b[0m\u001b[0m_auto_backend_sentinel\u001b[0m\u001b[0;34m)\u001b[0m\u001b[0;34m\u001b[0m\u001b[0m\n\u001b[1;32m   2319\u001b[0m \u001b[0;31m# Set up the backend.\u001b[0m\u001b[0;34m\u001b[0m\u001b[0;34m\u001b[0m\u001b[0m\n\u001b[0;32m-> 2320\u001b[0;31m \u001b[0mswitch_backend\u001b[0m\u001b[0;34m(\u001b[0m\u001b[0mrcParams\u001b[0m\u001b[0;34m[\u001b[0m\u001b[0;34m\"backend\"\u001b[0m\u001b[0;34m]\u001b[0m\u001b[0;34m)\u001b[0m\u001b[0;34m\u001b[0m\u001b[0m\n\u001b[0m\u001b[1;32m   2321\u001b[0m \u001b[0;34m\u001b[0m\u001b[0m\n\u001b[1;32m   2322\u001b[0m \u001b[0;31m# Just to be safe.  Interactive mode can be turned on without\u001b[0m\u001b[0;34m\u001b[0m\u001b[0;34m\u001b[0m\u001b[0m\n",
      "\u001b[0;32m~/opt/anaconda3/envs/chem531/lib/python3.7/site-packages/matplotlib/pyplot.py\u001b[0m in \u001b[0;36mswitch_backend\u001b[0;34m(newbackend)\u001b[0m\n\u001b[1;32m    258\u001b[0m     \u001b[0mbackend_name\u001b[0m \u001b[0;34m=\u001b[0m \u001b[0mcbook\u001b[0m\u001b[0;34m.\u001b[0m\u001b[0m_backend_module_name\u001b[0m\u001b[0;34m(\u001b[0m\u001b[0mnewbackend\u001b[0m\u001b[0;34m)\u001b[0m\u001b[0;34m\u001b[0m\u001b[0m\n\u001b[1;32m    259\u001b[0m \u001b[0;34m\u001b[0m\u001b[0m\n\u001b[0;32m--> 260\u001b[0;31m     \u001b[0;32mclass\u001b[0m \u001b[0mbackend_mod\u001b[0m\u001b[0;34m(\u001b[0m\u001b[0mmatplotlib\u001b[0m\u001b[0;34m.\u001b[0m\u001b[0mbackend_bases\u001b[0m\u001b[0;34m.\u001b[0m\u001b[0m_Backend\u001b[0m\u001b[0;34m)\u001b[0m\u001b[0;34m:\u001b[0m\u001b[0;34m\u001b[0m\u001b[0m\n\u001b[0m\u001b[1;32m    261\u001b[0m         \u001b[0mlocals\u001b[0m\u001b[0;34m(\u001b[0m\u001b[0;34m)\u001b[0m\u001b[0;34m.\u001b[0m\u001b[0mupdate\u001b[0m\u001b[0;34m(\u001b[0m\u001b[0mvars\u001b[0m\u001b[0;34m(\u001b[0m\u001b[0mimportlib\u001b[0m\u001b[0;34m.\u001b[0m\u001b[0mimport_module\u001b[0m\u001b[0;34m(\u001b[0m\u001b[0mbackend_name\u001b[0m\u001b[0;34m)\u001b[0m\u001b[0;34m)\u001b[0m\u001b[0;34m)\u001b[0m\u001b[0;34m\u001b[0m\u001b[0m\n\u001b[1;32m    262\u001b[0m \u001b[0;34m\u001b[0m\u001b[0m\n",
      "\u001b[0;32m~/opt/anaconda3/envs/chem531/lib/python3.7/site-packages/matplotlib/pyplot.py\u001b[0m in \u001b[0;36mbackend_mod\u001b[0;34m()\u001b[0m\n\u001b[1;32m    259\u001b[0m \u001b[0;34m\u001b[0m\u001b[0m\n\u001b[1;32m    260\u001b[0m     \u001b[0;32mclass\u001b[0m \u001b[0mbackend_mod\u001b[0m\u001b[0;34m(\u001b[0m\u001b[0mmatplotlib\u001b[0m\u001b[0;34m.\u001b[0m\u001b[0mbackend_bases\u001b[0m\u001b[0;34m.\u001b[0m\u001b[0m_Backend\u001b[0m\u001b[0;34m)\u001b[0m\u001b[0;34m:\u001b[0m\u001b[0;34m\u001b[0m\u001b[0m\n\u001b[0;32m--> 261\u001b[0;31m         \u001b[0mlocals\u001b[0m\u001b[0;34m(\u001b[0m\u001b[0;34m)\u001b[0m\u001b[0;34m.\u001b[0m\u001b[0mupdate\u001b[0m\u001b[0;34m(\u001b[0m\u001b[0mvars\u001b[0m\u001b[0;34m(\u001b[0m\u001b[0mimportlib\u001b[0m\u001b[0;34m.\u001b[0m\u001b[0mimport_module\u001b[0m\u001b[0;34m(\u001b[0m\u001b[0mbackend_name\u001b[0m\u001b[0;34m)\u001b[0m\u001b[0;34m)\u001b[0m\u001b[0;34m)\u001b[0m\u001b[0;34m\u001b[0m\u001b[0m\n\u001b[0m\u001b[1;32m    262\u001b[0m \u001b[0;34m\u001b[0m\u001b[0m\n\u001b[1;32m    263\u001b[0m     \u001b[0mrequired_framework\u001b[0m \u001b[0;34m=\u001b[0m \u001b[0m_get_required_interactive_framework\u001b[0m\u001b[0;34m(\u001b[0m\u001b[0mbackend_mod\u001b[0m\u001b[0;34m)\u001b[0m\u001b[0;34m\u001b[0m\u001b[0m\n",
      "\u001b[0;32m~/opt/anaconda3/envs/chem531/lib/python3.7/importlib/__init__.py\u001b[0m in \u001b[0;36mimport_module\u001b[0;34m(name, package)\u001b[0m\n\u001b[1;32m    125\u001b[0m                 \u001b[0;32mbreak\u001b[0m\u001b[0;34m\u001b[0m\u001b[0m\n\u001b[1;32m    126\u001b[0m             \u001b[0mlevel\u001b[0m \u001b[0;34m+=\u001b[0m \u001b[0;36m1\u001b[0m\u001b[0;34m\u001b[0m\u001b[0m\n\u001b[0;32m--> 127\u001b[0;31m     \u001b[0;32mreturn\u001b[0m \u001b[0m_bootstrap\u001b[0m\u001b[0;34m.\u001b[0m\u001b[0m_gcd_import\u001b[0m\u001b[0;34m(\u001b[0m\u001b[0mname\u001b[0m\u001b[0;34m[\u001b[0m\u001b[0mlevel\u001b[0m\u001b[0;34m:\u001b[0m\u001b[0;34m]\u001b[0m\u001b[0;34m,\u001b[0m \u001b[0mpackage\u001b[0m\u001b[0;34m,\u001b[0m \u001b[0mlevel\u001b[0m\u001b[0;34m)\u001b[0m\u001b[0;34m\u001b[0m\u001b[0m\n\u001b[0m\u001b[1;32m    128\u001b[0m \u001b[0;34m\u001b[0m\u001b[0m\n\u001b[1;32m    129\u001b[0m \u001b[0;34m\u001b[0m\u001b[0m\n",
      "\u001b[0;31mModuleNotFoundError\u001b[0m: No module named 'ipympl'"
     ]
    }
   ],
   "source": [
    "###########################################\n",
    "#  First load the dataset\n",
    "# The dataset is downloaded from: https://rios.mp.fhi.mpg.de/\n",
    "# Citation: Liu, X., Truppe, S., Meijer, G. et al. The diatomic molecular spectroscopy database. J Cheminform 12, 31 (2020). https://doi.org/10.1186/s13321-020-00433-8\n",
    "############################################\n",
    "!wget --trust-server-names https://rios.mp.fhi.mpg.de/export_table.php -O moleculedata.csv\n",
    "\n",
    "%matplotlib widget\n",
    "import ipywidgets as widgets\n",
    "import pandas as pd\n",
    "import numpy as np\n",
    "import matplotlib.pyplot as plt\n",
    "import matplotlib as mpl\n",
    "from scipy.special import factorial\n",
    "from scipy.special import genlaguerre, gamma\n",
    "\n",
    "\n",
    "df = pd.read_csv('moleculedata.csv')\n"
   ]
  },
  {
   "cell_type": "code",
   "execution_count": null,
   "metadata": {},
   "outputs": [],
   "source": [
    "df"
   ]
  },
  {
   "cell_type": "markdown",
   "metadata": {},
   "source": [
    "# Data cleaning"
   ]
  },
  {
   "cell_type": "code",
   "execution_count": 8,
   "metadata": {},
   "outputs": [
    {
     "name": "stdout",
     "output_type": "stream",
     "text": [
      "Number of diatomic Morse potential available to plot: 464\n",
      "Number of diatomic molecules available to plot: 172\n"
     ]
    }
   ],
   "source": [
    "# Remove the records where the vibrational spectrum constants have NaN\n",
    "\n",
    "df = df.dropna(subset=['omega_ex_e (cm^{-1})','omega_e (cm^{-1})','Re (\\AA)','Te (cm^{-1})','Reduced mass','Be (cm^{-1})','De (10^{-7}cm^{-1})'])\n",
    "# Drop off the the rows where wexe < 0, which will make fitting Morse potential a problem\n",
    "df = df[df['omega_ex_e (cm^{-1})']>=0]\n",
    "\n",
    "print(\"Number of diatomic Morse potential available to plot:\",len(df))\n",
    "print(\"Number of diatomic molecules available to plot:\", len(df['Molecule'].unique()))"
   ]
  },
  {
   "cell_type": "markdown",
   "metadata": {},
   "source": [
    "# Data visualization"
   ]
  },
  {
   "cell_type": "code",
   "execution_count": 9,
   "metadata": {},
   "outputs": [
    {
     "data": {
      "application/vnd.jupyter.widget-view+json": {
       "model_id": "4db47a6c1dc44366af55b8585849a270",
       "version_major": 2,
       "version_minor": 0
      },
      "text/plain": [
       "Canvas(toolbar=Toolbar(toolitems=[('Home', 'Reset original view', 'home', 'home'), ('Back', 'Back to previous …"
      ]
     },
     "metadata": {},
     "output_type": "display_data"
    },
    {
     "data": {
      "application/vnd.jupyter.widget-view+json": {
       "model_id": "fde49f53130f48889d54fe06b22684ed",
       "version_major": 2,
       "version_minor": 0
      },
      "text/plain": [
       "interactive(children=(Dropdown(description='Molecule:', index=114, options=('AgAl', 'AgBi', 'AgBr', 'AgCl', 'A…"
      ]
     },
     "metadata": {},
     "output_type": "display_data"
    }
   ],
   "source": [
    "# Create the dropdown list of diatomic molecules available\n",
    "molecule_options=widgets.Dropdown(\n",
    "    options=df['Molecule'].unique(),\n",
    "    value='OH',\n",
    "    description='Molecule:',\n",
    "    disabled=False,\n",
    ")\n",
    "\n",
    "###########################################################################\n",
    "# Now define the functions to plot Morse potential. \n",
    "# The code is adapted from: https://scipython.com/blog/the-morse-oscillator/\n",
    "# Major modifications to the code:\n",
    "# 1. All member variables of the Morse class are stored in atomic units (energy: Hartree, mass: m_e, length: bohr, hbar=1) to simplify calculations and avoid unit conversions\n",
    "# 2. Reduced mass as input instead of mA and mB\n",
    "# 3. Plots have eV used for energy unit\n",
    "# 4. Plot different electronic states of the same molecule on the same figure, label term symbol of the electronic states along the potential\n",
    "##############################################################################\n",
    "\n",
    "# Let's convert cm-1 to Eh (Hartree)\n",
    "wavenumber2Hartree = 4.55633e-6\n",
    "mp = 1836 # Porton mass is 1836 mass of electron\n",
    "angstrom2Bohr = 1.88973\n",
    "hbar = 1\n",
    "hartree2eV = 27.2114\n",
    "bohr2angstrom = 0.529177\n",
    "\n",
    "class Morse:\n",
    "    \"\"\"A class representing the Morse oscillator model of a diatomic.\"\"\"\n",
    "\n",
    "    def __init__(self, mu, we, wexe, re, Te):\n",
    "        \"\"\"Initialize the Morse model for a diatomic molecule.\n",
    "        Input arguments:\n",
    "        mu input reduced mass (mass unit: proton mass).\n",
    "        we, wexe are the Morse parameters (cm-1).\n",
    "        re is the equilibrium bond length (Angstrom).\n",
    "        Te is the electronic energy (cm-1).\n",
    "       \n",
    "        class member variables:(everything in atomic unit)\n",
    "        mu, in electron mass (standard in atomic unit)\n",
    "        we, wexe in Hartree\n",
    "        re in bohr\n",
    "        De in hartree\n",
    "        D0 in hatree\n",
    "        \"\"\"\n",
    "        # First of all, convert everything to atomic unit\n",
    "        # where hbar = 1, me=1, Eh=1\n",
    "        self.mu = mu*mp \n",
    "        self.we, self.wexe = we*wavenumber2Hartree, wexe*wavenumber2Hartree\n",
    "        self.re = re*angstrom2Bohr \n",
    "        self.Te = Te*wavenumber2Hartree \n",
    "        self.De = self.we**2*hbar / 4 / self.wexe\n",
    "\n",
    "        #  Morse parameters, a and lambda.\n",
    "        self.a = self.calc_a()\n",
    "        self.ke = 2*self.De*self.a**2\n",
    "        self.lam = np.sqrt(2 * self.mu * self.De) / self.a / hbar\n",
    "        # Maximum vibrational quantum number.\n",
    "        self.vmax = int(np.floor(self.lam - 0.5))\n",
    "\n",
    "        self.make_rgrid()\n",
    "        self.V = self.Vmorse(self.r)\n",
    "\n",
    "    def make_rgrid(self, n=1000, rmin=None, rmax=None, retstep=False):\n",
    "        \"\"\"Make a suitable grid of internuclear separations.\"\"\"\n",
    "\n",
    "        self.rmin, self.rmax = rmin, rmax\n",
    "        if rmin is None:\n",
    "            # minimum r where V(r)=De on repulsive edge\n",
    "            self.rmin = self.re - np.log(2) / self.a\n",
    "        if rmax is None:\n",
    "            # maximum r where V(r)=f.De\n",
    "            f = 0.999\n",
    "            self.rmax = self.re - np.log(1-f)/self.a\n",
    "        self.r, self.dr = np.linspace(self.rmin, self.rmax, n,\n",
    "                                      retstep=True)\n",
    "        if retstep:\n",
    "            return self.r, self.dr\n",
    "        return self.r\n",
    "\n",
    "    def calc_a(self):\n",
    "        \"\"\"Calculate the Morse parameter, a.\n",
    "\n",
    "        Returns the Morse parameter, a, in unit bohr^-1\n",
    "\n",
    "        \"\"\"\n",
    "        return self.we*np.sqrt(self.mu/2.0/self.De)\n",
    "\n",
    "    def Vmorse(self, r):\n",
    "        \"\"\"Calculate the Morse potential, V(r).\n",
    "\n",
    "        Returns the Morse potential at r (in m) for parameters De\n",
    "        (in J), a (in m-1) and re (in m).\n",
    "\n",
    "        \"\"\"\n",
    "\n",
    "        return self.De * (1 - np.exp(-self.a*(r - self.re)))**2\n",
    "\n",
    "    def Emorse(self, v):\n",
    "        \"\"\"Calculate the energy of a Morse oscillator in state v.\n",
    "\n",
    "        Returns the energy of a Morse oscillator parameterized by\n",
    "        equilibrium vibrational frequency we and anharmonicity\n",
    "        constant, wexe (both in cm-1).\n",
    "\n",
    "        \"\"\"\n",
    "        vphalf = v + 0.5\n",
    "        return (self.we * vphalf - self.wexe * vphalf**2)\n",
    "\n",
    "    def calc_turning_pts(self, E):\n",
    "        \"\"\"Calculate the classical turning points at energy E.\n",
    "\n",
    "        Returns rm and rp, the classical turning points of the Morse\n",
    "        oscillator at energy E (provided in hatree). rm < rp.\n",
    "\n",
    "        \"\"\"\n",
    "\n",
    "        b = np.sqrt(E / self.De)\n",
    "        return (self.re - np.log(1+b) / self.a,\n",
    "                self.re - np.log(1-b) / self.a)\n",
    "\n",
    "    def calc_psi(self, v, r=None, normed=True, psi_max=1):\n",
    "        \"\"\"Calculates the Morse oscillator wavefunction, psi_v.\n",
    "\n",
    "        Returns the Morse oscillator wavefunction at vibrational\n",
    "        quantum number v. The returned function is \"normalized\" to\n",
    "        give peak value psi_max.\n",
    "\n",
    "        \"\"\"\n",
    "\n",
    "        if r is None:\n",
    "            r = self.r\n",
    "        xi = 2 * self.lam * np.exp(-self.a*(r - self.re))\n",
    "        alpha = 2*(self.lam - v) - 1\n",
    "        psi = (xi**(self.lam-v-0.5) * np.exp(-xi/2) *\n",
    "               genlaguerre(v, alpha)(xi))\n",
    "        psi *= psi_max / np.max(psi)\n",
    "        return psi\n",
    "\n",
    "    def calc_psi_Normalized(self, v, xi):\n",
    "        alpha = 2*(self.lam - v) - 1\n",
    "        psi = (xi**(self.lam-v-0.5) * np.exp(-xi/2) *\n",
    "               genlaguerre(v, alpha)(xi))\n",
    "        Nv = np.sqrt(factorial(v) * (2*self.lam - 2*v - 1) /\n",
    "                     gamma(2*self.lam - v))\n",
    "        return Nv * psi\n",
    "\n",
    "    def plot_V(self, ax, **kwargs):\n",
    "        \"\"\"Plot the Morse potential on Axes ax.\"\"\"\n",
    "\n",
    "        ax.plot(self.r*bohr2angstrom, (self.V+self.Te)*hartree2eV, **kwargs)\n",
    "\n",
    "    def get_vmax(self):\n",
    "        \"\"\"Return the maximum vibrational quantum number.\"\"\"\n",
    "\n",
    "        return int(self.we / 2 / self.wexe - 0.5)\n",
    "\n",
    "    def draw_Elines(self, vlist, ax, **kwargs):\n",
    "        \"\"\"Draw lines on Axes ax representing the energy level(s) in vlist.\"\"\"\n",
    "\n",
    "        if isinstance(vlist, int):\n",
    "            vlist = [vlist]\n",
    "        for v in vlist:\n",
    "            E = self.Emorse(v)\n",
    "            rm, rp = self.calc_turning_pts(E)\n",
    "            ax.hlines((E+self.Te)*hartree2eV, rm*bohr2angstrom, rp*bohr2angstrom, **kwargs)\n",
    "\n",
    "    def label_levels(self, vlist, ax):\n",
    "        if isinstance(vlist, int):\n",
    "            vlist = [vlist]\n",
    "\n",
    "        for v in vlist:\n",
    "            E = self.Emorse(v)\n",
    "            rm, rp = self.calc_turning_pts(E)\n",
    "            ax.text(s=r'$v={}$'.format(v), x=rp*bohr2angstrom + 0.6,\n",
    "                    y=(E+self.Te)*hartree2eV, va='center')\n",
    "            \n",
    "    def label_electronstate(self, state_str,ax):\n",
    "        E = self.Emorse(self.vmax)\n",
    "        ax.text(s=state_str, x=np.max(self.r)*bohr2angstrom,\n",
    "                y=(E+self.Te)*hartree2eV-0.2, va='center')\n",
    "\n",
    "    def plot_psi(self, vlist, ax, r_plot=None, scaling=1, **kwargs):\n",
    "        \"\"\"Plot the Morse wavefunction(s) in vlist on Axes ax.\"\"\"\n",
    "        if isinstance(vlist, int):\n",
    "            vlist = [vlist]\n",
    "        for v in vlist:\n",
    "            E = self.Emorse(v)*hartree2eV\n",
    "            if r_plot is None:\n",
    "                rm, rp = self.calc_turning_pts(E)\n",
    "                x = self.r[self.r<rp*1.2]\n",
    "            else:\n",
    "                x = r_plot\n",
    "            psi = self.calc_psi(v, r=x, psi_max=self.we/2)\n",
    "            psi_plot = psi*scaling + (self.Emorse(v)+self.Te)*hartree2eV\n",
    "            ax.plot(x*bohr2angstrom, psi_plot, **kwargs)\n",
    "            \n",
    "\n",
    "##########################################\n",
    "# Below is the interactive plotting part #\n",
    "##########################################\n",
    "\n",
    "fig= plt.figure()\n",
    "@widgets.interact(molname=molecule_options)\n",
    "def update(molname):\n",
    "    fig.clf()\n",
    "    mol = df[df['Molecule']==molname]\n",
    "    states=mol['Electronic state'].values\n",
    "    ax = plt.gca()\n",
    "    # Set the default color cycle\n",
    "    colors=['blue', 'red', 'green', 'cyan', 'orange', 'gray', 'purple', 'brown', 'teal', 'coral']\n",
    "    i_color=0\n",
    "    for state in states:\n",
    "        mycolor = colors[i_color]\n",
    "        i_color+=1\n",
    "        we = mol[mol['Electronic state']==state]['omega_e (cm^{-1})'].values[0]\n",
    "        wexe = mol[mol['Electronic state']==state]['omega_ex_e (cm^{-1})'].values[0]\n",
    "        re = mol[mol['Electronic state']==state]['Re (\\AA)'].values[0]\n",
    "        Te =  mol[mol['Electronic state']==state]['Te (cm^{-1})'].values[0]\n",
    "        mu = mol[mol['Electronic state']==state]['Reduced mass'].values[0]\n",
    "\n",
    "        X = Morse(mu, we, wexe, re, Te)\n",
    "        X.make_rgrid()\n",
    "        X.V = X.Vmorse(X.r)\n",
    "\n",
    "        X.plot_V(ax,color=mycolor)\n",
    "\n",
    "        X.draw_Elines(range(X.vmax), ax,linewidth=0.5, color=mycolor)\n",
    "        X.label_electronstate(state,ax)\n",
    "        #X.plot_psi([2, 14], ax, scaling=2, color=COLOUR1)\n",
    "        #X.label_levels([2, 14], ax)\n",
    "\n",
    "        ax.set_xlabel(r'$r\\;/\\mathrm{\\AA}$')\n",
    "        ax.set_ylabel(r'Energy (eV)')\n",
    "        ax.spines['top'].set_visible(False)\n",
    "        ax.spines['right'].set_visible(False)\n"
   ]
  },
  {
   "cell_type": "code",
   "execution_count": null,
   "metadata": {},
   "outputs": [],
   "source": [
    "for i in range(0,100,5):\n",
    "    fig = plt.figure()\n",
    "    molname = df['Molecule'].unique()[i]\n",
    "    mol = df[df['Molecule']==molname]\n",
    "    states=mol['Electronic state'].values\n",
    "    ax = plt.gca()\n",
    "    # Set the default color cycle\n",
    "    colors=['blue', 'red', 'green', 'cyan', 'orange', 'gray', 'purple', 'brown', 'teal', 'coral']\n",
    "    i_color=0\n",
    "    for state in states:\n",
    "        mycolor = colors[i_color]\n",
    "        i_color+=1\n",
    "        we = mol[mol['Electronic state']==state]['omega_e (cm^{-1})'].values[0]\n",
    "        wexe = mol[mol['Electronic state']==state]['omega_ex_e (cm^{-1})'].values[0]\n",
    "        re = mol[mol['Electronic state']==state]['Re (\\AA)'].values[0]\n",
    "        Te =  mol[mol['Electronic state']==state]['Te (cm^{-1})'].values[0]\n",
    "        mu = mol[mol['Electronic state']==state]['Reduced mass'].values[0]\n",
    "\n",
    "        X = Morse(mu, we, wexe, re, Te)\n",
    "        X.make_rgrid()\n",
    "        X.V = X.Vmorse(X.r)\n",
    "\n",
    "        X.plot_V(ax,color=mycolor)\n",
    "\n",
    "        X.draw_Elines(range(X.vmax), ax,linewidth=0.5, color=mycolor)\n",
    "        X.label_electronstate(state,ax)\n",
    "        #X.plot_psi([2, 14], ax, scaling=2, color=COLOUR1)\n",
    "        #X.label_levels([2, 14], ax)\n",
    "\n",
    "        ax.set_xlabel(r'$r\\;/\\mathrm{\\AA}$')\n",
    "        ax.set_ylabel(r'Energy (eV)')\n",
    "        ax.spines['top'].set_visible(False)\n",
    "        ax.spines['right'].set_visible(False)\n",
    "\n",
    "#         plt.title('Morse potential of ' + molname+'\\n')\n",
    "#         plt.savefig(molname+'-Morse.jpg')"
   ]
  },
  {
   "cell_type": "markdown",
   "metadata": {},
   "source": [
    "# Data analysis"
   ]
  },
  {
   "cell_type": "markdown",
   "metadata": {},
   "source": [
    "## For diatomic molecules, what is the typical gap between the vibrational states $v=0$ and $v=1$?"
   ]
  },
  {
   "cell_type": "code",
   "execution_count": 62,
   "metadata": {},
   "outputs": [],
   "source": [
    "# First create an array of the energy difference between v=0 and v=1 for all records\n",
    "dE_v = {}\n",
    "for i in range(0,len(df)):\n",
    "        row = df.iloc[i]\n",
    "        we = row['omega_e (cm^{-1})']\n",
    "        wexe = row['omega_ex_e (cm^{-1})']\n",
    "        re = row['Re (\\AA)']\n",
    "        Te =  row['Te (cm^{-1})']\n",
    "        mu = row['Reduced mass']\n",
    "\n",
    "        X = Morse(mu, we, wexe, re, Te)\n",
    "        diff = X.Emorse(1)-X.Emorse(0)\n",
    "        \n",
    "        mol = row['Molecule']\n",
    "        state = row['Electronic state']\n",
    "        dE_v[mol+' '+state]=diff*hartree2eV"
   ]
  },
  {
   "cell_type": "markdown",
   "metadata": {
    "tags": []
   },
   "source": [
    "### Create a histogram to visualize"
   ]
  },
  {
   "cell_type": "code",
   "execution_count": 63,
   "metadata": {},
   "outputs": [
    {
     "data": {
      "application/vnd.jupyter.widget-view+json": {
       "model_id": "14e7e64d6f864112ac79e8604bb2e37a",
       "version_major": 2,
       "version_minor": 0
      },
      "text/plain": [
       "Canvas(toolbar=Toolbar(toolitems=[('Home', 'Reset original view', 'home', 'home'), ('Back', 'Back to previous …"
      ]
     },
     "metadata": {},
     "output_type": "display_data"
    },
    {
     "data": {
      "text/plain": [
       "Text(0, 0.5, 'frequency')"
      ]
     },
     "execution_count": 63,
     "metadata": {},
     "output_type": "execute_result"
    }
   ],
   "source": [
    "n_bins = 20\n",
    "\n",
    "fig_hist1 = plt.figure()\n",
    "\n",
    "# We can set the number of bins with the `bins` kwarg\n",
    "plt.hist(dE_v.values(), bins=n_bins)\n",
    "plt.xlabel(r'$\\Delta$E (eV)')\n",
    "plt.ylabel('frequency')"
   ]
  },
  {
   "cell_type": "markdown",
   "metadata": {},
   "source": [
    "### Find the molecules with max/min dE"
   ]
  },
  {
   "cell_type": "code",
   "execution_count": 71,
   "metadata": {},
   "outputs": [
    {
     "name": "stdout",
     "output_type": "stream",
     "text": [
      "min PbO B $1$\n",
      "max HF X $^1\\Sigma^+$\n"
     ]
    }
   ],
   "source": [
    "value_list = list(dE_v.values())\n",
    "key_list = list(dE_v.keys())\n",
    "print('min',key_list[value_list.index(min(dE_v.values()))])\n",
    "print('max',key_list[value_list.index(max(dE_v.values()))])"
   ]
  },
  {
   "cell_type": "markdown",
   "metadata": {},
   "source": [
    "## For diatomic molecules, what is the typical gap between the two lowest electronic states?\n"
   ]
  },
  {
   "cell_type": "code",
   "execution_count": 47,
   "metadata": {},
   "outputs": [],
   "source": [
    "mol_multiES = []\n",
    "for mol in df['Molecule'].unique():\n",
    "    if len(df[df['Molecule']==mol]) > 1:\n",
    "        mol_multiES.append(mol)"
   ]
  },
  {
   "cell_type": "code",
   "execution_count": 38,
   "metadata": {},
   "outputs": [
    {
     "data": {
      "text/plain": [
       "(180, 172)"
      ]
     },
     "execution_count": 38,
     "metadata": {},
     "output_type": "execute_result"
    }
   ],
   "source": [
    "len(df['Molecule'].unique()), len(mol_multiES)"
   ]
  },
  {
   "cell_type": "markdown",
   "metadata": {},
   "source": [
    "create a subset of df that only contains those molecules we care about (with multiple electronic states available)"
   ]
  },
  {
   "cell_type": "code",
   "execution_count": 59,
   "metadata": {},
   "outputs": [],
   "source": [
    "dE_e ={}\n",
    "for mol in mol_multiES:\n",
    "    df_mol = df[df['Molecule']==mol]\n",
    "    Te_mol = df_mol['Te (cm^{-1})'].values\n",
    "    Te_mol.sort()\n",
    "    diff = (Te_mol[1]-Te_mol[0])*wavenumber2Hartree*hartree2eV\n",
    "    dE_e[mol] = diff"
   ]
  },
  {
   "cell_type": "markdown",
   "metadata": {
    "tags": []
   },
   "source": [
    "### Create a histogram to visualize"
   ]
  },
  {
   "cell_type": "code",
   "execution_count": 61,
   "metadata": {},
   "outputs": [
    {
     "data": {
      "application/vnd.jupyter.widget-view+json": {
       "model_id": "01cd1baaefae43279f3dd9ebe1e2344b",
       "version_major": 2,
       "version_minor": 0
      },
      "text/plain": [
       "Canvas(toolbar=Toolbar(toolitems=[('Home', 'Reset original view', 'home', 'home'), ('Back', 'Back to previous …"
      ]
     },
     "metadata": {},
     "output_type": "display_data"
    },
    {
     "data": {
      "text/plain": [
       "Text(0, 0.5, 'frequency')"
      ]
     },
     "execution_count": 61,
     "metadata": {},
     "output_type": "execute_result"
    }
   ],
   "source": [
    "n_bins = 20\n",
    "\n",
    "fig_hist2 = plt.figure()\n",
    "\n",
    "# We can set the number of bins with the `bins` kwarg\n",
    "plt.hist(dE_e.values(), bins=n_bins)\n",
    "plt.xlabel(r'$\\Delta$E (eV)')\n",
    "plt.ylabel('frequency')"
   ]
  },
  {
   "cell_type": "markdown",
   "metadata": {},
   "source": [
    "### Find the molecules with max/min dE"
   ]
  },
  {
   "cell_type": "code",
   "execution_count": 72,
   "metadata": {},
   "outputs": [
    {
     "name": "stdout",
     "output_type": "stream",
     "text": [
      "min TiS\n",
      "max DF\n"
     ]
    }
   ],
   "source": [
    "value_list = list(dE_e.values())\n",
    "key_list = list(dE_e.keys())\n",
    "print('min',key_list[value_list.index(min(dE_e.values()))])\n",
    "print('max',key_list[value_list.index(max(dE_e.values()))])"
   ]
  },
  {
   "cell_type": "markdown",
   "metadata": {},
   "source": [
    "## Energy difference between rotational states J=0 and J=1"
   ]
  },
  {
   "cell_type": "code",
   "execution_count": 14,
   "metadata": {},
   "outputs": [],
   "source": [
    "# First create an array of the energy difference between v=0 and v=1 for all records\n",
    "dE_J = {}\n",
    "for i in range(0,len(df)):\n",
    "        row = df.iloc[i]\n",
    "        Be = row['Be (cm^{-1})']\n",
    "        De = row['De (10^{-7}cm^{-1})']\n",
    "        \n",
    "        mol = row['Molecule']\n",
    "        state = row['Electronic state']\n",
    "        dE_J[mol+' '+state]=(2*Be-4*De*1e-7)*wavenumber2Hartree*hartree2eV"
   ]
  },
  {
   "cell_type": "code",
   "execution_count": 18,
   "metadata": {},
   "outputs": [
    {
     "data": {
      "application/vnd.jupyter.widget-view+json": {
       "model_id": "606d7e841dd94120ae08851f8f2c0760",
       "version_major": 2,
       "version_minor": 0
      },
      "text/plain": [
       "Canvas(toolbar=Toolbar(toolitems=[('Home', 'Reset original view', 'home', 'home'), ('Back', 'Back to previous …"
      ]
     },
     "metadata": {},
     "output_type": "display_data"
    },
    {
     "data": {
      "text/plain": [
       "Text(0, 0.5, 'frequency')"
      ]
     },
     "execution_count": 18,
     "metadata": {},
     "output_type": "execute_result"
    }
   ],
   "source": [
    "n_bins = 50\n",
    "\n",
    "fig_hist3 = plt.figure()\n",
    "\n",
    "# We can set the number of bins with the `bins` kwarg\n",
    "plt.hist(dE_J.values(), bins=n_bins)\n",
    "plt.xlabel(r'$\\Delta$E (eV)')\n",
    "plt.ylabel('frequency')"
   ]
  },
  {
   "cell_type": "code",
   "execution_count": null,
   "metadata": {},
   "outputs": [],
   "source": []
  }
 ],
 "metadata": {
  "kernelspec": {
   "display_name": "Python 3",
   "language": "python",
   "name": "python3"
  },
  "language_info": {
   "codemirror_mode": {
    "name": "ipython",
    "version": 3
   },
   "file_extension": ".py",
   "mimetype": "text/x-python",
   "name": "python",
   "nbconvert_exporter": "python",
   "pygments_lexer": "ipython3",
   "version": "3.7.0"
  }
 },
 "nbformat": 4,
 "nbformat_minor": 4
}
