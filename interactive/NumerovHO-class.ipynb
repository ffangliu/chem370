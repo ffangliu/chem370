{
 "cells": [
  {
   "cell_type": "markdown",
   "metadata": {},
   "source": [
    "# Use Numerov to solve the Harmonic Oscillator\n",
    "In this example, we use atomic units. Mass unit is electron mass $m_e$=1. $\\hbar=1$. Energy unit is Hartree $E_h$=1. Length unit is bohr.\n",
    "\n",
    "Particle mass $m$ (in $m_e$), angular frequqnecy $\\omega$ (unitless) will be input parameters of the NumerovSolverHO class.\n",
    "\n",
    "$$\\psi''=-\\frac{2m}{\\hbar^2}[E-V(x)]\\psi$$\n",
    "\n",
    "$$\\psi(-\\infty)=0$$\n",
    "\n",
    "$$\\psi(\\infty)=0$$\n",
    "\n",
    "where $$V(x) = \\frac{1}{2}m\\omega^2x^2$$"
   ]
  },
  {
   "cell_type": "markdown",
   "metadata": {},
   "source": [
    "* Unlike the PIB example, here we are not going to assume that we know the energy. Rather, energy is an input parameter. We will give some guess energy $E$ and use Numerov to solve the corresponding wave function.\n",
    "\n",
    "Based on Numerov method, Schrodinger equation of the following form\n",
    "\n",
    "$$\\psi''=-k^2(x) \\psi$$\n",
    "\n",
    "has the finite difference approximation\n",
    "\n",
    "$$\\psi(x_{n+1}) = 2\\psi(x_n)-\\psi(x_{n-1})-\\delta^2k^2(x_n)\\psi(x_n)$$\n",
    "\n",
    "and in this case $k^2(x_n)=\\frac{2m}{\\hbar^2}[E-V(x)]$\n",
    "\n",
    "Now it's straight forward to write the code similar to the PIB Numerov solver.\n",
    "\n",
    "Some remaining questions:\n",
    "\n",
    "**Q:** It's not practical to propogate from $x=-\\infty$. Which region should we choose to set the grids?\n",
    "\n",
    "**A:** Given the fact that the wave function decays rapidly after the classical turning points $x_-$ and $x_+$, we can choose the $x_\\mathrm{lower} << x_-$ and  $x_\\mathrm{upper} >> x_+$, and set the boundary conditions as \n",
    "\n",
    "$$\\psi(x_\\mathrm{lower})=0$$\n",
    "$$\\psi(x_\\mathrm{upper})=0$$\n",
    "\n",
    "**Q:** Whether we start the propogation from the left or the right boundary, we only know $\\psi(x_0)$, but the propogation needs two known points $\\psi(x_0)$ and $\\psi(x_1)$ to get the 3rd point $\\psi(x_2)$.\n",
    "\n",
    "**A:** We can choose an arbitary positive value for $\\psi(x_1)$ (and  $\\psi(x_{n-1})$), and later we can normalize the wave funciton."
   ]
  },
  {
   "cell_type": "code",
   "execution_count": 1,
   "metadata": {},
   "outputs": [],
   "source": [
    "%matplotlib widget\n",
    "import ipywidgets as widgets\n",
    "import numpy as np\n",
    "import matplotlib.pyplot as plt \n",
    "import time\n",
    "\n",
    "hbar = 1\n",
    "class NumerovSolverHO:\n",
    "    def __init__(self,m,omega, xlower, xupper, npoints=1000):\n",
    "        self.m = m\n",
    "        self.omega = omega\n",
    "        self.xlower = xlower\n",
    "        self.xupper = xupper\n",
    "        self.npoints = npoints\n",
    "        self.x = np.linspace(self.xlower,self.xupper,self.npoints)\n",
    "        self.delta = self.x[1]-self.x[0]\n",
    "        self.x1 = 1e-2 # A small positive value as the initial guess the psi value at the second grid point\n",
    "        self.psi_left = None\n",
    "        self.psi_right = None\n",
    "        self.prob_left = None\n",
    "        self.prob_right = None\n",
    "        self.node = 0\n",
    "        self.sign = 1\n",
    "    \n",
    "    def getV(self, x):\n",
    "        return 0.5*self.m*self.omega**2*x**2\n",
    "        \n",
    "    def getK2(self, E, x):\n",
    "        return 2*self.m/(hbar**2)*(E - self.getV(x))\n",
    "    \n",
    "    def propogateNumerov(self, E, x0, x1, psi0, psi1):\n",
    "        psi2 = 2*psi1 - psi0 - self.getK2(E,x1)*psi1*self.delta**2\n",
    "        return psi2\n",
    "    \n",
    "    def Numerov_left(self, E):\n",
    "        self.psi_left = np.zeros(len(self.x))\n",
    "        self.psi_left[1] = self.x1\n",
    "        for i in range(1,len(self.x)-1):\n",
    "            self.psi_left[i+1] = self.propogateNumerov(E, self.x[i-1],self.x[i],self.psi_left[i-1],self.psi_left[i])\n",
    "        leftTP,rightTP = self.find_turningPts(E)\n",
    "        self.prob_left = np.trapz(np.power(self.psi_left[max(0,leftTP):min(rightTP+1,self.npoints)],2),self.x[max(0,leftTP):min(rightTP+1,self.npoints)])\n",
    "        self.psi_left_normed = self.psi_left/np.sqrt(self.prob_left)\n",
    "        \n",
    "    def Numerov_right(self, E):\n",
    "        self.psi_right = np.zeros(len(self.x))\n",
    "        self.psi_right[-2] = self.x1\n",
    "        for i in range(len(self.x)-2,0,-1):\n",
    "            self.psi_right[i-1] = self.propogateNumerov(E, self.x[i+1],self.x[i],self.psi_right[i+1],self.psi_right[i])\n",
    "        leftTP,rightTP = self.find_turningPts(E)\n",
    "        self.prob_right = np.trapz(np.power(self.psi_right[max(0,leftTP):min(rightTP+1,self.npoints)],2),self.x[max(0,leftTP):min(rightTP+1,self.npoints)])\n",
    "        self.psi_right_normed = self.psi_right/np.sqrt(self.prob_right)\n",
    "        \n",
    "    def find_turningPts(self, E):\n",
    "        # Left\n",
    "        leftTP = 0\n",
    "        for i in range(0,self.npoints):\n",
    "            if self.getV(self.x[i])<E:\n",
    "                leftTP = i\n",
    "                break\n",
    "\n",
    "\n",
    "        rightTP = self.npoints-1\n",
    "        for i in range(self.npoints-1,0,-1):\n",
    "            if self.getV(self.x[i])<E:\n",
    "                rightTP = i\n",
    "                break  \n",
    "        return leftTP,rightTP\n",
    "    \n",
    "    def calc(self,E):\n",
    "        self.Numerov_left(E)\n",
    "        self.Numerov_right(E)\n",
    "\n",
    "        # Find the turning points to be later used as matching points\n",
    "        leftTP,rightTP=self.find_turningPts(E)\n",
    "        \n",
    "        i_matching = rightTP\n",
    "        # Scale to make psi_left and psi_right have the same sign\n",
    "        self.psi_right *= self.psi_left[i_matching]/self.psi_right[i_matching]\n",
    "        self.psi_right_normed *= self.psi_left_normed[i_matching]/self.psi_right_normed[i_matching]\n",
    "\n",
    "        #Mactching condition\n",
    "        F = (self.psi_left[i_matching+1]-self.psi_left[i_matching-1]) - (self.psi_right[i_matching+1]-self.psi_right[i_matching-1])\n",
    "        F = F/(2*self.delta)/self.psi_left[i_matching]\n",
    "\n",
    "        # Count the number of nodes in psi\n",
    "        nnode_curr = 0\n",
    "        for i in range(0,i_matching):\n",
    "            if self.psi_left[i]*self.psi_left[i+1] < 0:\n",
    "                nnode_curr += 1\n",
    "\n",
    "        # When a new node develops in psi, we need to flip the sign of F\n",
    "        if nnode_curr != self.node:\n",
    "            self.sign = - self.sign\n",
    "            self.node = nnode_curr\n",
    "\n",
    "        F = F*self.sign\n",
    "\n",
    "        return F\n",
    "\n",
    "    def find_roots(self,E,F):\n",
    "        roots = []\n",
    "        for i in range(0,len(E)-1):\n",
    "            if F[i]*F[i+1] < 0:\n",
    "                roots.append(0.5*(E[i]+E[i+1]))\n",
    "        return roots\n",
    "    \n",
    "    def solve_E(self, Emin,Emax,nE):\n",
    "        self.E_list = np.linspace(Emin,Emax,nE)\n",
    "        F_list = []\n",
    "        self.node = 0\n",
    "        self.sign = 1\n",
    "        for E in self.E_list:\n",
    "            F = self.calc(E)\n",
    "            F_list.append(F)\n",
    "\n",
    "        self.F_list = np.array(F_list)\n",
    "\n",
    "        self.E_roots = self.find_roots(self.E_list,F_list)\n",
    "\n",
    "        print(\"Numerical eigenvalues:\", self.E_roots)\n",
    "        \n",
    "    def plotWFN(self, E):\n",
    "        figure=plt.figure()\n",
    "        F = self.calc(E)\n",
    "        plt.plot(self.x,self.psi_left,label=r'$\\psi_\\mathrm{left}$')\n",
    "        plt.plot(self.x,self.psi_right,label=r'$\\psi_\\mathrm{right}$')\n",
    "        plt.title(\"E= \" + '{:10.4f}'.format(E) + \"\\nMatching Error: \" + '{:10.6f}'.format(F))\n",
    "        plt.legend()\n",
    "        plt.xlabel(r'$x$(bohr)')\n",
    "        plt.ylabel(r'$\\psi(x)$')\n",
    "        leftTP,rightTP=self.find_turningPts(E)\n",
    "        plt.ylim(min(self.psi_left[leftTP:rightTP+1]-1),max(self.psi_left[leftTP:rightTP+1])+1)\n",
    "        plt.xlim(self.x[leftTP],self.x[rightTP])\n"
   ]
  },
  {
   "cell_type": "markdown",
   "metadata": {},
   "source": [
    "## Run the following code to see how the choice of boundaries can change the Numerov solution.\n",
    "\n",
    "For simplicity, we assume that $m=0.5$, $\\omega=2$, and we know that $E=1.0$ is the energy of the lowest state. We fix the number of discrete points to be 1000 in the range"
   ]
  },
  {
   "cell_type": "code",
   "execution_count": 2,
   "metadata": {},
   "outputs": [
    {
     "data": {
      "application/vnd.jupyter.widget-view+json": {
       "model_id": "42462f3d1bab47c7930aac9dbb98b45f",
       "version_major": 2,
       "version_minor": 0
      },
      "text/plain": [
       "interactive(children=(FloatSlider(value=5.0, description='$x_\\\\mathrm{upper}$:', max=10.0, min=1.0), Output())…"
      ]
     },
     "metadata": {},
     "output_type": "display_data"
    }
   ],
   "source": [
    "m1 = 0.5\n",
    "omega1 = 2\n",
    "npoints=1000\n",
    "E1 = 1.0\n",
    "\n",
    "# Upper boundary for the range of x to be solved by Numerov.  xupper can take value between 1 and 10 (bohr) inputed by the user, just for demonstration purpose.\n",
    "xupper_options = widgets.FloatSlider(\n",
    "    description=r'$x_\\mathrm{upper}$:',                             \n",
    "    value=5.0,\n",
    "    min=1.0,\n",
    "    max=10.0,\n",
    "    step=0.1,\n",
    "    padding = 8)\n",
    "\n",
    "@widgets.interact(xupper=xupper_options)\n",
    "def update(xupper):\n",
    "    plt.clf()\n",
    "    solver=NumerovSolverHO(m1,omega1,-xupper,xupper,npoints)\n",
    "    start=time.time()\n",
    "    solver.calc(E1)\n",
    "    end=time.time()\n",
    "    timetaken=end-start\n",
    "    \n",
    "    plt.title(\"Numerov solution to HO, \"\n",
    "              + \"\\nTime taken: {:.2f} ms\".format(timetaken*1000))\n",
    "    \n",
    "    # plot both the lines and points to make it visually better\n",
    "    plt.plot(solver.x, solver.psi_left_normed, c='b',label=r'$\\psi_\\mathrm{left}$')\n",
    "    plt.xlim(-10,10)\n",
    "    plt.ylim(-1,1)\n",
    "    \n",
    "    plt.plot(solver.x, solver.psi_right_normed, c='r',label=r'$\\psi_\\mathrm{right}$')\n",
    "    plt.xlabel(r'$x$ (bohr)')\n",
    "    plt.ylabel(r'$\\psi(x)$')\n",
    "    plt.legend()\n",
    "\n"
   ]
  },
  {
   "cell_type": "markdown",
   "metadata": {},
   "source": [
    "## Next, let's explore how the wavefunction shape change with E (what if E is not an eigenvalue)"
   ]
  },
  {
   "cell_type": "code",
   "execution_count": 5,
   "metadata": {},
   "outputs": [
    {
     "data": {
      "application/vnd.jupyter.widget-view+json": {
       "model_id": "68112c2a39284afc99e1829e3811fe36",
       "version_major": 2,
       "version_minor": 0
      },
      "text/plain": [
       "Canvas(toolbar=Toolbar(toolitems=[('Home', 'Reset original view', 'home', 'home'), ('Back', 'Back to previous …"
      ]
     },
     "metadata": {},
     "output_type": "display_data"
    },
    {
     "data": {
      "application/vnd.jupyter.widget-view+json": {
       "model_id": "600b7694888944ceb363bcce8fd1e28c",
       "version_major": 2,
       "version_minor": 0
      },
      "text/plain": [
       "interactive(children=(FloatSlider(value=0.1, description='$E$:', max=5.0, min=0.1), Output()), _dom_classes=('…"
      ]
     },
     "metadata": {},
     "output_type": "display_data"
    }
   ],
   "source": [
    "# Upper boundary for the range of x to be solved by Numerov.  xupper can take value between 1 and 10 (bohr) inputed by the user, just for demonstration purpose.\n",
    "E_options = widgets.FloatSlider(\n",
    "    description=r'$E$:',                             \n",
    "    value=0.1,\n",
    "    min=0.1,\n",
    "    max=5.0,\n",
    "    step=0.1,\n",
    "    padding = 8)\n",
    "\n",
    "m1 = 0.5\n",
    "omega1 = 2\n",
    "npoints=1000\n",
    "xupper=10\n",
    "\n",
    "fig2=plt.figure()\n",
    "@widgets.interact(E=E_options)\n",
    "def update2(E):\n",
    "    plt.clf()\n",
    "    solver=NumerovSolverHO(m1,omega1,-xupper,xupper,npoints)\n",
    "    start=time.time()\n",
    "    solver.calc(E)\n",
    "    end=time.time()\n",
    "    timetaken=end-start\n",
    "    \n",
    "    plt.title(\"Numerov solution to HO, \"\n",
    "              + \"\\nTime taken: {:.2f} ms\".format(timetaken*1000))\n",
    "    \n",
    "    # plot both the lines and points to make it visually better\n",
    "    plt.plot(solver.x, solver.psi_left_normed, c='b',label=r'$\\psi_\\mathrm{left}$')\n",
    "    plt.xlim(-10,10)\n",
    "    plt.ylim(-1,1)\n",
    "    \n",
    "    leftTP,rightTP=solver.find_turningPts(E)\n",
    "    plt.plot([solver.x[leftTP],solver.x[leftTP]],[-1,1],c='gray')\n",
    "    plt.plot([solver.x[rightTP],solver.x[rightTP]],[-1,1],c='gray')\n",
    "    plt.text(solver.x[rightTP],0.5,'Classical turning points')\n",
    "    \n",
    "    plt.plot(solver.x, solver.psi_right_normed, c='r',label=r'$\\psi_\\mathrm{right}$')\n",
    "    plt.xlabel(r'$x$ (bohr)')\n",
    "    plt.ylabel(r'$\\psi(x)$')\n",
    "    plt.legend()"
   ]
  },
  {
   "cell_type": "code",
   "execution_count": 148,
   "metadata": {},
   "outputs": [
    {
     "name": "stdout",
     "output_type": "stream",
     "text": [
      "Numerical eigenvalues: [0.9998498498498498, 2.9986486486486488, 3.346096096096096]\n"
     ]
    }
   ],
   "source": [
    "solver.solve_E(0.1,4,1000)"
   ]
  },
  {
   "cell_type": "markdown",
   "metadata": {},
   "source": [
    "# Now let's see how the matching error changes with $E$\n",
    "\n",
    "Plot the matching error $\\psi_\\mathrm{left}(x_+)-\\psi_\\mathrm{right}(x_+)$ as a funciton of $E$"
   ]
  },
  {
   "cell_type": "code",
   "execution_count": 8,
   "metadata": {},
   "outputs": [
    {
     "name": "stdout",
     "output_type": "stream",
     "text": [
      "Numerical eigenvalues: [0.998496993987976, 3.0017034068136272, 4.995090180360721]\n"
     ]
    },
    {
     "data": {
      "application/vnd.jupyter.widget-view+json": {
       "model_id": "16de9a941869412694d8e6ed45ba414f",
       "version_major": 2,
       "version_minor": 0
      },
      "text/plain": [
       "Canvas(toolbar=Toolbar(toolitems=[('Home', 'Reset original view', 'home', 'home'), ('Back', 'Back to previous …"
      ]
     },
     "metadata": {},
     "output_type": "display_data"
    },
    {
     "data": {
      "text/plain": [
       "Text(0.5, 1.0, 'Matching error as a function of E, \\nTime taken: 3828.73 ms')"
      ]
     },
     "execution_count": 8,
     "metadata": {},
     "output_type": "execute_result"
    }
   ],
   "source": [
    "m1 = 0.5\n",
    "omega1 = 2\n",
    "npoints=1000\n",
    "xupper=10\n",
    "\n",
    "\n",
    "Emin=0.1\n",
    "Emax=5.0\n",
    "nE = 500\n",
    "\n",
    "solver=NumerovSolverHO(m1,omega1,-xupper,xupper,npoints)\n",
    "\n",
    "start=time.time()\n",
    "solver.solve_E(Emin,Emax,nE)\n",
    "end = time.time()\n",
    "timetaken = end-start\n",
    "\n",
    "fig3=plt.figure()\n",
    "plt.plot(solver.E_list,solver.F_list,c='b')\n",
    "plt.plot([solver.E_list[0],solver.E_list[-1]],[0,0],c='k')\n",
    "\n",
    "Fmin = min(solver.F_list)\n",
    "Fmax = max(solver.F_list)\n",
    "    \n",
    "for root in solver.E_roots:\n",
    "    plt.plot([root,root],[Fmin,Fmax],c='r')\n",
    "plt.xlabel(r'$E(E_h)$')\n",
    "plt.ylabel('Matching Error')\n",
    "\n",
    "plt.title(\"Matching error as a function of E, \"\n",
    "          + \"\\nTime taken: {:.2f} ms\".format(timetaken*1000))\n"
   ]
  },
  {
   "cell_type": "markdown",
   "metadata": {},
   "source": [
    "## The E values corresponds to 0 matching error are the eigenvalues. Therefore, we can find them as the points where the error function F(E) changes sign."
   ]
  },
  {
   "cell_type": "code",
   "execution_count": null,
   "metadata": {},
   "outputs": [],
   "source": []
  }
 ],
 "metadata": {
  "kernelspec": {
   "display_name": "Python 3 (ipykernel)",
   "language": "python",
   "name": "python3"
  },
  "language_info": {
   "codemirror_mode": {
    "name": "ipython",
    "version": 3
   },
   "file_extension": ".py",
   "mimetype": "text/x-python",
   "name": "python",
   "nbconvert_exporter": "python",
   "pygments_lexer": "ipython3",
   "version": "3.9.6"
  }
 },
 "nbformat": 4,
 "nbformat_minor": 4
}
