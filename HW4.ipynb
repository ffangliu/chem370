{
 "cells": [
  {
   "cell_type": "markdown",
   "id": "funded-mandate",
   "metadata": {},
   "source": [
    "# HW4\n"
   ]
  },
  {
   "cell_type": "markdown",
   "id": "representative-bargain",
   "metadata": {},
   "source": [
    "**Problem 1(b)** Sketch the first four eigenstates of the particle in a box model of butadiene usingpython notebook.\n",
    "\n",
    "**Your task:** Look for the places with comments **TODO** and fill in the missing details, finally finish the plot and  paste to your homework."
   ]
  },
  {
   "cell_type": "code",
   "execution_count": null,
   "id": "three-battle",
   "metadata": {},
   "outputs": [],
   "source": [
    "import numpy as np\n",
    "import matplotlib.pyplot as plt\n",
    "import scipy.constants as const"
   ]
  },
  {
   "cell_type": "code",
   "execution_count": null,
   "id": "incorporated-jaguar",
   "metadata": {},
   "outputs": [],
   "source": [
    "# TODO: Define the length of box (in unit of Angstrom), don't convert to SI unit\n",
    "# L= \n",
    "# END TODO\n",
    "\n",
    "# list of states to plot\n",
    "n_list=np.array([1,2,3,4])\n",
    "\n",
    "# list of values of x to plot\n",
    "x = np.linspace(0, L, num=200)"
   ]
  },
  {
   "cell_type": "code",
   "execution_count": null,
   "id": "ultimate-commander",
   "metadata": {},
   "outputs": [],
   "source": [
    "# Plot the wave functions\n",
    "fig, axs = plt.subplots(len(n_list),sharex=True, sharey=True,figsize=(4,4))\n",
    "# Add a title\n",
    "fig.suptitle('Wavefunction of particle in a 1D box of butadiene')\n",
    "for i in range(0,len(n_list)):\n",
    "    n = n_list[i]\n",
    "# TODO: fill in the expression of the wavefunction\n",
    "#   y = \n",
    "# END TODO\n",
    "    axs[i].plot(x,y, c='b')\n",
    "    #Plot y=0 as a reference\n",
    "    axs[i].plot([min(x),max(x)],[0,0],c='k')\n",
    "    axs[i].text(0.05,-0.4,'n='+str(n))\n",
    "    # Add a grid\n",
    "    axs[i].grid(alpha=.4,linestyle='--')\n",
    "\n",
    "# Set the range of x\n",
    "plt.xlim(0,L)\n",
    "\n",
    "# Add X and y Label\n",
    "fig.text(0.5, 0.02, r'x [$\\AA$]', ha='center')\n",
    "fig.text(-0.05, 0.5, r'$\\Psi_n$(x) [$\\AA^{-1/2}$]', va='center', rotation='vertical')\n",
    "\n",
    "\n",
    "# Show the plot\n",
    "plt.show()"
   ]
  },
  {
   "cell_type": "code",
   "execution_count": null,
   "id": "agricultural-spirit",
   "metadata": {},
   "outputs": [],
   "source": []
  },
  {
   "cell_type": "code",
   "execution_count": null,
   "id": "voluntary-settle",
   "metadata": {},
   "outputs": [],
   "source": []
  },
  {
   "cell_type": "code",
   "execution_count": null,
   "id": "expected-reach",
   "metadata": {},
   "outputs": [],
   "source": []
  },
  {
   "cell_type": "code",
   "execution_count": null,
   "id": "clean-drilling",
   "metadata": {},
   "outputs": [],
   "source": []
  }
 ],
 "metadata": {
  "kernelspec": {
   "display_name": "Python [conda env:notebook] *",
   "language": "python",
   "name": "conda-env-notebook-py"
  },
  "language_info": {
   "codemirror_mode": {
    "name": "ipython",
    "version": 3
   },
   "file_extension": ".py",
   "mimetype": "text/x-python",
   "name": "python",
   "nbconvert_exporter": "python",
   "pygments_lexer": "ipython3",
   "version": "3.7.9"
  }
 },
 "nbformat": 4,
 "nbformat_minor": 5
}
