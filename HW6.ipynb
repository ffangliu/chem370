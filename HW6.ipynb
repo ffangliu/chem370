{
 "cells": [
  {
   "cell_type": "markdown",
   "id": "b182a671",
   "metadata": {},
   "source": [
    "**Instruction**  \n",
    "* Run each cell below with **Shift + Enter**. \n",
    "* Carefully Read the cells containing instructions\n",
    "* Look for the **TODO** lines in the last cell, and fill in neccessary codes there. \n",
    "* Run the last cell, and you should get a graph of the first 5 eigenfunctions of Harmonic Oscillator, with the turning points labeled with red lines"
   ]
  },
  {
   "cell_type": "code",
   "execution_count": null,
   "id": "295fea1b",
   "metadata": {},
   "outputs": [],
   "source": [
    "import numpy as np\n",
    "import matplotlib.pyplot as plt"
   ]
  },
  {
   "cell_type": "markdown",
   "id": "ad11572e",
   "metadata": {},
   "source": [
    "**Important**: the cell below defined all the variables needed in this calculation. You will need them later for the part to fill in"
   ]
  },
  {
   "cell_type": "code",
   "execution_count": null,
   "id": "721d726e",
   "metadata": {},
   "outputs": [],
   "source": [
    "# Everything is in atomic unit\n",
    "# force constant\n",
    "k = 2 \n",
    "# mass\n",
    "m = 1\n",
    "# planck constant h-bar\n",
    "hbar = 1\n",
    "# coefficent alpha\n",
    "alpha = np.sqrt(k*m/hbar**2)\n",
    "# angular frequency: omega\n",
    "omega= alpha*hbar/m\n"
   ]
  },
  {
   "cell_type": "markdown",
   "id": "7e3bb9ce",
   "metadata": {},
   "source": [
    "The following cell defines the Hermite polynomial. You don't need to look into this\n",
    "\n",
    "Here H[v] present the v th order Hermite polynomial"
   ]
  },
  {
   "cell_type": "code",
   "execution_count": null,
   "id": "decb09da",
   "metadata": {},
   "outputs": [],
   "source": [
    "domain = [-1,1]\n",
    "window = [-np.sqrt(alpha),np.sqrt(alpha)]\n",
    "coeff = [1]\n",
    "vmax = 4\n",
    "H = []\n",
    "for v in range(0,vmax +1):\n",
    "    Hv = np.polynomial.hermite.Hermite(coeff,domain=domain, window=window)\n",
    "    coeff.insert(0,0)\n",
    "    H.append(Hv)"
   ]
  },
  {
   "cell_type": "markdown",
   "id": "ab1e7272",
   "metadata": {},
   "source": [
    "# Your Task below\n",
    "\n",
    "Please look for the Lines with **TODO** and fill in the equation there. You will need some variables defined at the beginging of this notebook. After filling the lines, run this cell by hitting\n",
    "\n",
    "Shift + Enter\n",
    "\n",
    "You will see the plot of the eigen funcitons of Harmonic Oscillator with the classical turning points labeled with red lines."
   ]
  },
  {
   "cell_type": "code",
   "execution_count": null,
   "id": "32b8d876",
   "metadata": {},
   "outputs": [],
   "source": [
    "n=5\n",
    "npoints=2000\n",
    "xlower = -5\n",
    "xupper = 5\n",
    "# Plot the probability functions\n",
    "fig, axs = plt.subplots(n,sharex=True, sharey=True,figsize=(4,6))\n",
    "# Add a title\n",
    "fig.suptitle('Probability density of particle in a 1D box')\n",
    "for v in range(0,vmax+1):      \n",
    "    x,Hv=H[v].linspace(npoints,[xlower,xupper]) \n",
    "    y = 1/np.sqrt(2**v*np.math.factorial(v))*(alpha/np.pi)**0.25*Hv*np.exp(-1/2.0*alpha*x**2)\n",
    "    axs[v].plot(x,y,c='b')\n",
    "    # TODO :Calculate energy of the state with quantum number v\n",
    "    E =\n",
    "    # TODO calculate the positive turning point xt_plus based on E\n",
    "    xt_plus =\n",
    "    xt_minus = -xt_plus  \n",
    "    # END TODO\n",
    "    axs[v].plot([xt_minus, xt_minus],[-1,1],c='r')\n",
    "    axs[v].plot([xt_plus,xt_plus],[-1,1],c='r')\n",
    "    axs[v].plot([xlower,xupper],[0,0], c='k')\n",
    "    axs[v].text(xlower,0.5,r'$v=$'+str(v))\n",
    "\n",
    "# Set the range of x\n",
    "plt.xlim(xlower,xupper)\n",
    "plt.ylim(-1, 1)\n",
    "\n",
    "# Add X and y Label\n",
    "fig.text(0.5, 0.04, 'x (bohr)', ha='center')\n",
    "fig.text(-0.1, 0.5, r'$\\Psi_v(x)$', va='center', rotation='vertical')\n",
    "\n",
    "# Add a Legend\n",
    "plt.legend()\n",
    "\n",
    "# Show the plot\n",
    "plt.show()"
   ]
  },
  {
   "cell_type": "code",
   "execution_count": null,
   "id": "7a316206",
   "metadata": {},
   "outputs": [],
   "source": []
  },
  {
   "cell_type": "code",
   "execution_count": null,
   "id": "905b5dd9",
   "metadata": {},
   "outputs": [],
   "source": []
  }
 ],
 "metadata": {
  "kernelspec": {
   "display_name": "Python 3 (ipykernel)",
   "language": "python",
   "name": "python3"
  },
  "language_info": {
   "codemirror_mode": {
    "name": "ipython",
    "version": 3
   },
   "file_extension": ".py",
   "mimetype": "text/x-python",
   "name": "python",
   "nbconvert_exporter": "python",
   "pygments_lexer": "ipython3",
   "version": "3.9.6"
  }
 },
 "nbformat": 4,
 "nbformat_minor": 5
}
