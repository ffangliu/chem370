{
 "cells": [
  {
   "cell_type": "markdown",
   "id": "funded-mandate",
   "metadata": {},
   "source": [
    "# Lecture 1\n"
   ]
  },
  {
   "cell_type": "markdown",
   "id": "representative-bargain",
   "metadata": {},
   "source": [
    "# Click on a cell, Shift+Enter to run the cell"
   ]
  },
  {
   "cell_type": "code",
   "execution_count": null,
   "id": "three-battle",
   "metadata": {},
   "outputs": [],
   "source": [
    "import numpy as np\n",
    "import matplotlib.pyplot as plt\n",
    "import scipy.constants as const"
   ]
  },
  {
   "cell_type": "code",
   "execution_count": null,
   "id": "increasing-bread",
   "metadata": {},
   "outputs": [],
   "source": [
    "# pi: const.pi\n",
    "const.pi"
   ]
  },
  {
   "cell_type": "code",
   "execution_count": null,
   "id": "demonstrated-holmes",
   "metadata": {},
   "outputs": [],
   "source": [
    "# Boltzman constant k_B:  const.k\n",
    "const.k"
   ]
  },
  {
   "cell_type": "code",
   "execution_count": null,
   "id": "through-subsection",
   "metadata": {},
   "outputs": [],
   "source": [
    "# Speed of light in vacuum:  const.c\n",
    "const.c"
   ]
  },
  {
   "cell_type": "markdown",
   "id": "egyptian-siemens",
   "metadata": {},
   "source": [
    "### Exercise 1.1 Draw a plot of $\\rho_\\mathrm{classical}(T)$  for two temperatures, $T_1$ and $T_2$ with $T_1$ < $T_2$.\n"
   ]
  },
  {
   "cell_type": "code",
   "execution_count": null,
   "id": "boxed-discharge",
   "metadata": {},
   "outputs": [],
   "source": [
    "T1 = 298 # 25 degrees c\n",
    "T2 = 400 # typical temperature of household oven\n",
    "# A series of nu in the range from 1e4 Hz (Radio) to 1e20 Hz (Gamma Ray), evenly distributed in the log scale\n",
    "nu = np.logspace(np.log10(1e4),np.log10(1e20), num=1000, endpoint=True)\n",
    "rho_T1 = 8*const.pi*const.k*T1/(const.c**3)*(nu**2)\n",
    "rho_T2 = 8*const.pi*const.k*T2/(const.c**3)*(nu**2)"
   ]
  },
  {
   "cell_type": "code",
   "execution_count": null,
   "id": "fatal-tracker",
   "metadata": {},
   "outputs": [],
   "source": [
    "# size of the figure in inches\n",
    "plt.figure(figsize=(8,2))\n",
    "\n",
    "# Plot the rho functions\n",
    "plt.plot(nu,rho_T1,label=r'$\\rho_\\mathrm{classical}(T_1)$')\n",
    "plt.plot(nu,rho_T2,label=r'$\\rho_\\mathrm{classical}(T_2)$')\n",
    "\n",
    "# set plot limits\n",
    "plt.ylim(min(min(rho_T1),min(rho_T2)), max(max(rho_T1),max(rho_T2)))\n",
    "plt.xlim(1e4,1e20)\n",
    "plt.xscale('log')\n",
    "\n",
    "# Add a title\n",
    "plt.title(r'$\\rho_\\mathrm{classical}(T)$ at $T_1$ = 298 K and $T_2$=400 K')\n",
    "\n",
    "# Add X and y Label\n",
    "plt.xlabel(r'$\\nu$ (Hz)')\n",
    "plt.ylabel(r'$\\rho(\\nu)$ (J$\\times$m$^{-3}$)')\n",
    "\n",
    "# Add a grid\n",
    "plt.grid(alpha=.4,linestyle='--')\n",
    "\n",
    "# Add a Legend\n",
    "plt.legend()\n",
    "\n",
    "# Show the plot\n",
    "plt.show()"
   ]
  },
  {
   "cell_type": "markdown",
   "id": "trying-belize",
   "metadata": {},
   "source": [
    "# Let's make it easier to compare with Wien's law, let's convert the horizontal axis to wavelengh"
   ]
  },
  {
   "cell_type": "code",
   "execution_count": null,
   "id": "preliminary-boulder",
   "metadata": {},
   "outputs": [],
   "source": [
    "wavelength = const.c/nu\n",
    "\n",
    "plt.figure(figsize=(6.4,4.8))\n",
    "\n",
    "plt.plot(wavelength,rho_T1,label=r'$\\rho_\\mathrm{classical}(T_1)$')\n",
    "plt.plot(wavelength,rho_T2,label=r'$\\rho_\\mathrm{classical}(T_2)$')\n",
    "\n",
    "# set plot limits\n",
    "plt.ylim(min(min(rho_T1),min(rho_T2)), 1e-14)\n",
    "plt.xlim(2e-7,1e-6)\n",
    "\n",
    "# Add a title\n",
    "plt.title(r'$\\rho_\\mathrm{classical}(T)$ at $T_1$ = 298 K and $T_2$=400 K')\n",
    "\n",
    "# Add X and y Label\n",
    "plt.xlabel(r'$\\lambda$ (m)')\n",
    "plt.ylabel(r'$\\rho(\\nu)$ (J$\\times$m$^{-3}$)')\n",
    "\n",
    "# Add a grid\n",
    "plt.grid(alpha=.4,linestyle='--')\n",
    "\n",
    "# Add a Legend\n",
    "plt.legend()\n",
    "\n",
    "# Show the plot\n",
    "plt.show()"
   ]
  },
  {
   "cell_type": "markdown",
   "id": "athletic-indiana",
   "metadata": {},
   "source": [
    "### Demo Plot $\\rho_\\mathrm{classical}(T)$ and $\\rho_\\mathrm{Planck}(T)$   for T = 298 K"
   ]
  },
  {
   "cell_type": "code",
   "execution_count": null,
   "id": "received-metallic",
   "metadata": {},
   "outputs": [],
   "source": [
    "# Planck constant\n",
    "const.h"
   ]
  },
  {
   "cell_type": "code",
   "execution_count": null,
   "id": "accomplished-huntington",
   "metadata": {},
   "outputs": [],
   "source": [
    "T = 298 # 25 degrees c\n",
    "\n",
    "# A series of nu in the range from 1e4 Hz (Radio) to 1e15 Hz (violet light), evenly distributed in the log scale\n",
    "nu = np.logspace(np.log10(1e4),np.log10(1e15), num=1000, endpoint=True)\n",
    "rho_classical = 8*const.pi*const.k*T/(const.c**3)*(nu**2)\n",
    "rho_planck = 8*const.pi*const.h*(nu/const.c)**3/(np.exp(const.h*nu/(const.k*T))-1)"
   ]
  },
  {
   "cell_type": "code",
   "execution_count": null,
   "id": "romantic-confidence",
   "metadata": {},
   "outputs": [],
   "source": [
    "# size of the figure\n",
    "plt.figure(figsize=(3.5,2))\n",
    "\n",
    "# plot the rho functions\n",
    "plt.plot(nu,rho_classical,label=r'$\\rho_\\mathrm{classical}(T)$')\n",
    "plt.plot(nu,rho_planck,label=r'$\\rho_\\mathrm{Planck}(T)$')\n",
    "\n",
    "# set plot limits\n",
    "plt.ylim(min(min(rho_classical),min(rho_planck)), max(rho_planck)*1.5)\n",
    "plt.xlim(1e4,1.1e16)\n",
    "\n",
    "# Add a title\n",
    "plt.title(r'$\\rho_\\mathrm{classical}(T)$ vs $\\rho_\\mathrm{planck}(T)$' +'\\n at $T$ = 298 K')\n",
    "plt.xscale('log')\n",
    "\n",
    "# Add X and y Label\n",
    "plt.xlabel(r'$\\nu$ (Hz)')\n",
    "plt.ylabel(r'$\\rho(\\nu)$ (J$\\times$m$^{-3}$)')\n",
    "\n",
    "# Add a grid\n",
    "plt.grid(alpha=.4,linestyle='--')\n",
    "\n",
    "# Add a Legend\n",
    "plt.legend()\n",
    "\n",
    "# Show the plot\n",
    "plt.show()"
   ]
  },
  {
   "cell_type": "code",
   "execution_count": null,
   "id": "breathing-freedom",
   "metadata": {},
   "outputs": [],
   "source": [
    "# Zoom in for the low frequency region"
   ]
  },
  {
   "cell_type": "code",
   "execution_count": null,
   "id": "occasional-aerospace",
   "metadata": {},
   "outputs": [],
   "source": [
    "# size of the figure\n",
    "plt.figure(figsize=(3.5,2))\n",
    "\n",
    "# plot the rho functions\n",
    "plt.plot(nu,rho_classical,label=r'$\\rho_\\mathrm{classical}(T)$')\n",
    "plt.plot(nu,rho_planck,label=r'$\\rho_\\mathrm{Planck}(T)$')\n",
    "\n",
    "# set plot limits\n",
    "plt.ylim(min(min(rho_classical),min(rho_planck)), max(rho_planck)*0.01)\n",
    "plt.xlim(1e10,1e12)\n",
    "\n",
    "# Add a title\n",
    "plt.title(r'$\\rho_\\mathrm{classical}(T)$ vs $\\rho_\\mathrm{planck}(T)$' +'\\n at $T$ = 298 K')\n",
    "plt.xscale('log')\n",
    "\n",
    "# Add X and y Label\n",
    "plt.xlabel(r'$\\nu$ (Hz)')\n",
    "plt.ylabel(r'$\\rho(\\nu)$ (J$\\times$m$^{-3}$)')\n",
    "\n",
    "# Add a grid\n",
    "plt.grid(alpha=.4,linestyle='--')\n",
    "\n",
    "# Add a Legend\n",
    "plt.legend()\n",
    "\n",
    "# Show the plot\n",
    "plt.show()"
   ]
  },
  {
   "cell_type": "code",
   "execution_count": null,
   "id": "competitive-distinction",
   "metadata": {},
   "outputs": [],
   "source": []
  }
 ],
 "metadata": {
  "kernelspec": {
   "display_name": "Python [conda env:notebook] *",
   "language": "python",
   "name": "conda-env-notebook-py"
  },
  "language_info": {
   "codemirror_mode": {
    "name": "ipython",
    "version": 3
   },
   "file_extension": ".py",
   "mimetype": "text/x-python",
   "name": "python",
   "nbconvert_exporter": "python",
   "pygments_lexer": "ipython3",
   "version": "3.7.9"
  }
 },
 "nbformat": 4,
 "nbformat_minor": 5
}
